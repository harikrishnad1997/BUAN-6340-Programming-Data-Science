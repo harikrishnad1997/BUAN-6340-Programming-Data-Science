{
 "cells": [
  {
   "cell_type": "markdown",
   "metadata": {},
   "source": [
    "<div style=\"text-align:center\"><span style=\"font-size:2em; font-weight: bold;\">Lecture 5—Optimization</span></div>"
   ]
  },
  {
   "cell_type": "markdown",
   "metadata": {},
   "source": [
    "# Data science: Logistic regression"
   ]
  },
  {
   "cell_type": "markdown",
   "metadata": {},
   "source": [
    "## Derivation\n",
    "\n",
    "**Linear formulation**\n",
    "\n",
    "$$\\mathcal L=\\prod_{i=1}^n p_i^{y_i}(1-p_i)^{1-y_i}$$\n",
    "$$\\mathcal L=\\prod_{i=1}^n F(x_i'\\beta)^{y_i}(1-F(x_i'\\beta))^{1-y_i}$$\n",
    "$$F(x)=\\frac{1}{1+e^{-x}}$$\n",
    "$$\\ln\\mathcal L=\\sum_{i=1}^n y_i \\ln{F(x_i'\\beta)}+(1-y_i)\\ln{(1-F(x_i'\\beta))}$$\n",
    "$$\\ln\\mathcal L=\\left[\\ln{F(\\beta'\\mathbf X')}\\right]y+\\left[\\ln{(\\mathbf{1}'-F(\\beta'\\mathbf X'))}\\right](1-y)$$"
   ]
  },
  {
   "cell_type": "code",
   "execution_count": 1,
   "metadata": {
    "ExecuteTime": {
     "end_time": "2023-02-24T23:36:48.546583Z",
     "start_time": "2023-02-24T23:36:48.528496Z"
    },
    "code_folding": []
   },
   "outputs": [],
   "source": [
    "expit = lambda x: 1/(1+np.exp(-x))\n",
    "def loglike(x,y,b):\n",
    "    Fx = expit(b.T@x.T)\n",
    "    return np.log(Fx)@y+np.log(1-Fx)@(1-y)"
   ]
  },
  {
   "cell_type": "markdown",
   "metadata": {},
   "source": [
    "**Gradient**\n",
    "$$\\frac{d\\ln\\mathcal L}{d\\beta}=\\mathbf X'\\text{diag}\\left(\\frac{f(\\mathbf X\\beta)}{F(\\mathbf X\\beta)}\\right)y-\\mathbf X'\\text{diag}\\left(\\frac{f(\\mathbf X\\beta)}{\\mathbf 1-F(\\mathbf X\\beta)}\\right)(1-y)$$\n",
    "$$\\frac{d\\ln\\mathcal L}{d\\beta}=\\mathbf X'\\text{diag}\\left(\\frac{f(\\mathbf X\\beta)(1-F(\\mathbf X\\beta))}{(1-F(\\mathbf X\\beta))F(\\mathbf X\\beta)}\\right)y-\\mathbf X'\\text{diag}\\left(\\frac{f(\\mathbf X\\beta)F(\\mathbf X\\beta)}{F(\\mathbf X\\beta)(1-F(\\mathbf X\\beta))}\\right)(1-y)$$\n",
    "$$\\frac{d\\ln\\mathcal L}{d\\beta}=\\mathbf X'\\left[\\text{diag}\\left(1-F(\\mathbf X\\beta)\\right)y-\\text{diag}\\left(F(\\mathbf X\\beta)\\right)(1-y)\\right]$$\n",
    "$$\\frac{d\\ln\\mathcal L}{d\\beta}=\\mathbf X'\\left[\\text{diag}\\left(y-F(\\mathbf X\\beta)y-F(\\mathbf X\\beta)+F(\\mathbf X\\beta)y)\\right)\\right]\\mathbf 1$$\n",
    "$$\\frac{d\\ln\\mathcal L}{d\\beta}=\\mathbf X'\\left[\\text{diag}\\left(y-F(\\mathbf X\\beta)\\right)\\right]\\mathbf 1$$\n",
    "$$\\frac{d\\ln\\mathcal L}{d\\beta}=\\mathbf X'\\left[y-F(\\mathbf X\\beta)\\right]$$"
   ]
  },
  {
   "cell_type": "code",
   "execution_count": 2,
   "metadata": {
    "ExecuteTime": {
     "end_time": "2023-02-24T23:36:49.441234Z",
     "start_time": "2023-02-24T23:36:49.425507Z"
    },
    "code_folding": []
   },
   "outputs": [],
   "source": [
    "def gradient(x,y,b):\n",
    "    Fx = expit(x@b)\n",
    "    return x.T@(y-Fx)"
   ]
  },
  {
   "cell_type": "markdown",
   "metadata": {},
   "source": [
    "**Hessian**\n",
    "$$\\frac{d}{d\\beta}\\frac{d\\ln\\mathcal L}{d\\beta}'=\\frac{d}{d\\beta}\\left[y'-F(\\beta'\\mathbf X')\\right]\\mathbf X$$\n",
    "$$\\frac{d^2\\ln\\mathcal L}{d\\beta d\\beta'}=-\\mathbf X'\\left[\\text{diag}\\left(f(\\mathbf X\\beta)\\right)\\right]\\mathbf X$$"
   ]
  },
  {
   "cell_type": "code",
   "execution_count": 3,
   "metadata": {
    "ExecuteTime": {
     "end_time": "2023-02-24T23:36:50.269539Z",
     "start_time": "2023-02-24T23:36:50.255568Z"
    }
   },
   "outputs": [],
   "source": [
    "def hessian(x,y,b):\n",
    "    Fx = expit(x@b)\n",
    "    fx = Fx*(1-Fx)\n",
    "    return -x.T@np.diagflat(fx.flatten())@x"
   ]
  },
  {
   "cell_type": "markdown",
   "metadata": {},
   "source": [
    "**Theorem** Crammer-Rao Lower Bound\n",
    "\n",
    "Assume\n",
    "$\\mathcal{L}$ is continuous and differentiable. For any unbiased estimator $\\hat\\theta$, the variance is bounded below by\n",
    "$$\\text{Var}\\left[\\hat\\theta\\right]\\ge\\left[-\\text{E}\\left[\\frac{d^2\\ln{\\mathcal{L}}}{d\\theta d\\theta'}\\right]\\right]^{-1}$$\n"
   ]
  },
  {
   "cell_type": "markdown",
   "metadata": {},
   "source": [
    "# Programming--Numerical Optimization Strategies"
   ]
  },
  {
   "cell_type": "markdown",
   "metadata": {},
   "source": [
    "## Grid search\n",
    "\n",
    "Search over a given parameter space. Check every possible option for the optimum value"
   ]
  },
  {
   "cell_type": "code",
   "execution_count": 4,
   "metadata": {
    "ExecuteTime": {
     "end_time": "2023-02-24T23:36:53.162326Z",
     "start_time": "2023-02-24T23:36:52.431883Z"
    }
   },
   "outputs": [
    {
     "data": {
      "text/plain": [
       "(4.004004004004004, 5.995995995995996)"
      ]
     },
     "execution_count": 4,
     "metadata": {},
     "output_type": "execute_result"
    }
   ],
   "source": [
    "import numpy as np\n",
    "from itertools import product\n",
    "\n",
    "def grid_search(func,space,maximize=False):\n",
    "    vstates = [(x,func(x)) for x in space]\n",
    "    vstates.sort(key=lambda x: x[1])\n",
    "    return vstates[-1][0] if maximize else vstates[0][0]\n",
    "\n",
    "x = np.linspace(0,10,1000).tolist()\n",
    "func = lambda x: (x[0]-4.0001)**2*(x[1]-6.0001)**2\n",
    "grid_search(func,product(x,x))"
   ]
  },
  {
   "cell_type": "markdown",
   "metadata": {},
   "source": [
    "## Gradient descent\n",
    "\n",
    "Walk along the slope of the curve by steps proportional to the opposite of the size of the gradient. "
   ]
  },
  {
   "cell_type": "code",
   "execution_count": 5,
   "metadata": {
    "ExecuteTime": {
     "end_time": "2023-02-24T23:36:53.660780Z",
     "start_time": "2023-02-24T23:36:53.655240Z"
    },
    "code_folding": []
   },
   "outputs": [],
   "source": [
    "def gradient_descent(func,gradient,init_x:np.ndarray,learning_rate:float=0.005,max_reps:int=10000,maximize=False):\n",
    "    x = init_x.copy()\n",
    "    for i in range(max_reps):\n",
    "        gx = gradient(x)\n",
    "        x0 = x.copy()\n",
    "        flast = func(x)\n",
    "        x += gx*learning_rate if maximize else -gx*learning_rate\n",
    "        if (func(x)<flast and maximize and i>2) or (func(x)>flast and (not maximize) and i>2): \n",
    "            x = x0\n",
    "            break\n",
    "    return x\n"
   ]
  },
  {
   "cell_type": "markdown",
   "metadata": {},
   "source": [
    "## Newton's method\n",
    "\n",
    "Use a zero finding algorithm on the gradient to isolate where the gradient is flat, i.e., where the maximum or minimum values of the function are located."
   ]
  },
  {
   "cell_type": "code",
   "execution_count": 6,
   "metadata": {
    "ExecuteTime": {
     "end_time": "2023-02-24T23:36:54.711283Z",
     "start_time": "2023-02-24T23:36:54.702546Z"
    }
   },
   "outputs": [],
   "source": [
    "def newton(gradient,hessian,init_x:np.ndarray,max_reps:int=100,tolerance:float=1e-16):\n",
    "    x = init_x.copy()\n",
    "    for i in range(max_reps):\n",
    "        update = -np.linalg.solve(hessian(x),gradient(x))\n",
    "        x += update\n",
    "        if np.abs(update).sum()<tolerance:\n",
    "            return (x,i)\n",
    "    raise Exception('Newton did not converge')"
   ]
  },
  {
   "cell_type": "markdown",
   "metadata": {},
   "source": [
    "## Complete code"
   ]
  },
  {
   "cell_type": "code",
   "execution_count": 7,
   "metadata": {
    "ExecuteTime": {
     "end_time": "2023-02-24T23:37:40.276322Z",
     "start_time": "2023-02-24T23:37:39.809201Z"
    },
    "code_folding": []
   },
   "outputs": [],
   "source": [
    "from cleands import *\n",
    "\n",
    "class logistic_regressor(linear_model):\n",
    "    def __fit__(self,x,y):\n",
    "        params,self.iters = self.__max_likelihood__(np.zeros(self.n_feat))\n",
    "        return params\n",
    "    @property\n",
    "    def vcov_params(self):return self.__vcov_params_lnL__()\n",
    "    def evaluate_lnL(self,pred):return self.y.T@np.log(pred)+(1-self.y).T@np.log(1-pred)\n",
    "    def _gradient_(self,coefs):return self.x.T@(self.y-expit(self.x@coefs))\n",
    "    def _hessian_(self,coefs):\n",
    "        Fx = expit(self.x@coefs)\n",
    "        return -self.x.T@np.diagflat((Fx*(1-Fx)).values)@self.x\n",
    "    def predict(self,target):return expit(target@self.params)\n",
    "\n",
    "class LogisticRegressor(logistic_regressor,broom_model):\n",
    "    def __init__(self,x_vars:list,y_var:str,data:pd.DataFrame,*args,**kwargs):\n",
    "        super(LogisticRegressor,self).__init__(data[x_vars],data[y_var],*args,**kwargs)\n",
    "        self.x_vars = x_vars\n",
    "        self.y_var = y_var\n",
    "        self.data = data\n",
    "    def _glance_dict_(self):\n",
    "        return {'mcfadden.r.squared':self.r_squared,\n",
    "                'adjusted.r.squared':self.adjusted_r_squared,\n",
    "                'self.df':self.n_feat,\n",
    "                'resid.df':self.degrees_of_freedom,\n",
    "                'aic':self.aic,\n",
    "                'bic':self.bic,\n",
    "                'log.likelihood':self.lnL,\n",
    "                'deviance':self.deviance,\n",
    "                'resid.var':self.ssq}"
   ]
  },
  {
   "cell_type": "code",
   "execution_count": 8,
   "metadata": {
    "ExecuteTime": {
     "end_time": "2023-02-24T23:37:42.804709Z",
     "start_time": "2023-02-24T23:37:42.792081Z"
    }
   },
   "outputs": [],
   "source": [
    "from cleands import *"
   ]
  },
  {
   "cell_type": "code",
   "execution_count": 9,
   "metadata": {
    "ExecuteTime": {
     "end_time": "2023-02-24T23:38:26.826226Z",
     "start_time": "2023-02-24T23:38:26.805562Z"
    }
   },
   "outputs": [],
   "source": [
    "## Data generation\n",
    "df = pd.DataFrame(np.random.normal(size=(10000,4)),columns=['x1','x2','x3','y'])\n",
    "df['y'] += df[['x1','x2','x3']]@np.random.uniform(size=(3,))\n",
    "df['y'] = (df['y']>0).astype(int)"
   ]
  },
  {
   "cell_type": "code",
   "execution_count": 10,
   "metadata": {
    "ExecuteTime": {
     "end_time": "2023-02-24T23:38:31.129244Z",
     "start_time": "2023-02-24T23:38:30.078885Z"
    }
   },
   "outputs": [],
   "source": [
    "## Run the model\n",
    "model = LogisticRegressor(*add_intercept(['x1','x2','x3'],'y',df))"
   ]
  },
  {
   "cell_type": "code",
   "execution_count": 11,
   "metadata": {
    "ExecuteTime": {
     "end_time": "2023-02-24T23:38:33.793245Z",
     "start_time": "2023-02-24T23:38:33.353653Z"
    }
   },
   "outputs": [
    {
     "data": {
      "text/html": [
       "<div>\n",
       "<style scoped>\n",
       "    .dataframe tbody tr th:only-of-type {\n",
       "        vertical-align: middle;\n",
       "    }\n",
       "\n",
       "    .dataframe tbody tr th {\n",
       "        vertical-align: top;\n",
       "    }\n",
       "\n",
       "    .dataframe thead th {\n",
       "        text-align: right;\n",
       "    }\n",
       "</style>\n",
       "<table border=\"1\" class=\"dataframe\">\n",
       "  <thead>\n",
       "    <tr style=\"text-align: right;\">\n",
       "      <th></th>\n",
       "      <th>variable</th>\n",
       "      <th>estimate</th>\n",
       "      <th>std.error</th>\n",
       "      <th>t.statistic</th>\n",
       "      <th>p.value</th>\n",
       "    </tr>\n",
       "  </thead>\n",
       "  <tbody>\n",
       "    <tr>\n",
       "      <th>0</th>\n",
       "      <td>(intercept)</td>\n",
       "      <td>-0.040441047002977966</td>\n",
       "      <td>0.023764327618393647</td>\n",
       "      <td>-1.701754312277554</td>\n",
       "      <td>0.08883253096659166</td>\n",
       "    </tr>\n",
       "    <tr>\n",
       "      <th>1</th>\n",
       "      <td>x1</td>\n",
       "      <td>1.4332323065954125</td>\n",
       "      <td>0.03213013724995693</td>\n",
       "      <td>44.607101907021374</td>\n",
       "      <td>0.0</td>\n",
       "    </tr>\n",
       "    <tr>\n",
       "      <th>2</th>\n",
       "      <td>x2</td>\n",
       "      <td>0.36865797971370656</td>\n",
       "      <td>0.024428122910568378</td>\n",
       "      <td>15.091539413952002</td>\n",
       "      <td>6.682399566127589e-51</td>\n",
       "    </tr>\n",
       "    <tr>\n",
       "      <th>3</th>\n",
       "      <td>x3</td>\n",
       "      <td>0.2126205510431411</td>\n",
       "      <td>0.02430480096440112</td>\n",
       "      <td>8.748088550676192</td>\n",
       "      <td>2.5199437419579284e-18</td>\n",
       "    </tr>\n",
       "  </tbody>\n",
       "</table>\n",
       "</div>"
      ],
      "text/plain": [
       "      variable               estimate             std.error  \\\n",
       "0  (intercept)  -0.040441047002977966  0.023764327618393647   \n",
       "1           x1     1.4332323065954125   0.03213013724995693   \n",
       "2           x2    0.36865797971370656  0.024428122910568378   \n",
       "3           x3     0.2126205510431411   0.02430480096440112   \n",
       "\n",
       "          t.statistic                 p.value  \n",
       "0  -1.701754312277554     0.08883253096659166  \n",
       "1  44.607101907021374                     0.0  \n",
       "2  15.091539413952002   6.682399566127589e-51  \n",
       "3   8.748088550676192  2.5199437419579284e-18  "
      ]
     },
     "execution_count": 11,
     "metadata": {},
     "output_type": "execute_result"
    }
   ],
   "source": [
    "## See table\n",
    "model.tidy"
   ]
  },
  {
   "cell_type": "code",
   "execution_count": 12,
   "metadata": {
    "ExecuteTime": {
     "end_time": "2023-02-24T23:38:56.035447Z",
     "start_time": "2023-02-24T23:38:56.013006Z"
    }
   },
   "outputs": [
    {
     "data": {
      "text/html": [
       "<div>\n",
       "<style scoped>\n",
       "    .dataframe tbody tr th:only-of-type {\n",
       "        vertical-align: middle;\n",
       "    }\n",
       "\n",
       "    .dataframe tbody tr th {\n",
       "        vertical-align: top;\n",
       "    }\n",
       "\n",
       "    .dataframe thead th {\n",
       "        text-align: right;\n",
       "    }\n",
       "</style>\n",
       "<table border=\"1\" class=\"dataframe\">\n",
       "  <thead>\n",
       "    <tr style=\"text-align: right;\">\n",
       "      <th></th>\n",
       "      <th>mcfadden.r.squared</th>\n",
       "      <th>adjusted.r.squared</th>\n",
       "      <th>self.df</th>\n",
       "      <th>resid.df</th>\n",
       "      <th>aic</th>\n",
       "      <th>bic</th>\n",
       "      <th>log.likelihood</th>\n",
       "      <th>deviance</th>\n",
       "      <th>resid.var</th>\n",
       "    </tr>\n",
       "  </thead>\n",
       "  <tbody>\n",
       "    <tr>\n",
       "      <th></th>\n",
       "      <td>0.290335</td>\n",
       "      <td>0.290122</td>\n",
       "      <td>4</td>\n",
       "      <td>9996</td>\n",
       "      <td>10573.608328</td>\n",
       "      <td>10602.449689</td>\n",
       "      <td>-5282.804164</td>\n",
       "      <td>3291.184253</td>\n",
       "      <td>0.177378</td>\n",
       "    </tr>\n",
       "  </tbody>\n",
       "</table>\n",
       "</div>"
      ],
      "text/plain": [
       "  mcfadden.r.squared  adjusted.r.squared  self.df  resid.df           aic  \\\n",
       "            0.290335            0.290122        4      9996  10573.608328   \n",
       "\n",
       "           bic  log.likelihood     deviance  resid.var  \n",
       "  10602.449689    -5282.804164  3291.184253   0.177378  "
      ]
     },
     "execution_count": 12,
     "metadata": {},
     "output_type": "execute_result"
    }
   ],
   "source": [
    "model.glance"
   ]
  },
  {
   "cell_type": "code",
   "execution_count": 13,
   "metadata": {
    "ExecuteTime": {
     "end_time": "2023-02-24T23:39:06.963236Z",
     "start_time": "2023-02-24T23:39:06.958741Z"
    }
   },
   "outputs": [
    {
     "data": {
      "text/plain": [
       "6"
      ]
     },
     "execution_count": 13,
     "metadata": {},
     "output_type": "execute_result"
    }
   ],
   "source": [
    "model.iters"
   ]
  },
  {
   "cell_type": "markdown",
   "metadata": {},
   "source": [
    "# Programming challenges"
   ]
  },
  {
   "cell_type": "markdown",
   "metadata": {},
   "source": [
    "## Recursive partitioning trees\n",
    "\n",
    "Write a class that implements a recursive partitioning algorithm. Use our common machine learning code."
   ]
  },
  {
   "cell_type": "code",
   "execution_count": 2,
   "metadata": {
    "ExecuteTime": {
     "end_time": "2023-03-03T22:09:16.028269Z",
     "start_time": "2023-03-03T22:09:16.009873Z"
    }
   },
   "outputs": [],
   "source": [
    "import numpy as np\n",
    "import pandas as pd\n",
    "\n",
    "from cleands import *"
   ]
  },
  {
   "cell_type": "code",
   "execution_count": 19,
   "metadata": {
    "ExecuteTime": {
     "end_time": "2023-03-03T22:12:28.945886Z",
     "start_time": "2023-03-03T22:12:28.923178Z"
    }
   },
   "outputs": [],
   "source": [
    "class rpart(prediction_model):\n",
    "    def __init__(self,x,y,max_level,level=''):\n",
    "        super(rpart,self).__init__(x,y)\n",
    "        self.max_level = max_level\n",
    "        self.level = level\n",
    "        if len(level)+1==max_level:\n",
    "            self.RSS = np.sum((y-y.mean())**2)\n",
    "            self.split_var = None\n",
    "            self.split_value = None\n",
    "            self.left = None\n",
    "            self.right = None\n",
    "            return\n",
    "        xvars = np.arange(self.n_feat)\n",
    "        outp = []\n",
    "        for i in xvars:\n",
    "            outp += [self.__calc_RSS_and_split__(x[:,i])]\n",
    "        outp = np.array(outp)\n",
    "        var = outp[:,0].argmin()\n",
    "        self.RSS = outp[var,0]\n",
    "        self.split_var = var\n",
    "        self.split_value = outp[var,1]\n",
    "        self.left = rpart(x[x[:,var]<=self.split_value,:],\n",
    "                          y[x[:,var]<=self.split_value],\n",
    "                          max_level=max_level,level=level+'L')\n",
    "        self.right = rpart(x[x[:,var]>self.split_value,:],\n",
    "                           y[x[:,var]>self.split_value],\n",
    "                           max_level=max_level,level=level+'R')\n",
    "    def __calc_RSS_and_split__(self,var):\n",
    "        vmin = var.min()\n",
    "        vmax = var.max()\n",
    "        width = (vmax-vmin)/50\n",
    "        outp = []\n",
    "        for split in np.linspace(vmin+width,vmax-width,48):\n",
    "            left = self.y[var<=split]\n",
    "            right = self.y[var>split]\n",
    "            rssleft = ((left-left.mean())**2).sum() if left.shape[0]>0 else 0\n",
    "            rssright = ((right-right.mean())**2).sum() if right.shape[0]>0 else 0\n",
    "            outp += [(rssleft+rssright,split)]\n",
    "        outp = np.array(outp)\n",
    "        return outp[outp[:,0].argmin(),:]\n",
    "    def __str__(self):\n",
    "        if self.left==None and self.right==None:\n",
    "            outp = '{0} RSS: {1}; Prediction: {2}\\n'.format(self.level,self.RSS,self.y.mean())\n",
    "        else:\n",
    "            outp = '{0} Variable: {1}; Split: {2}\\n'.format(self.level,self.split_var,self.split_value)\n",
    "            outp += str(self.left)\n",
    "            outp += str(self.right)\n",
    "        return outp\n",
    "    def predict(self,newx):\n",
    "        if self.left==None and self.right==None:\n",
    "            return np.full(shape=(self.n_obs,),fill_value=self.y.mean())\n",
    "        outp = np.zeros((self.n_obs,))\n",
    "        outp[newx[:,self.split_var]<=self.split_value] = self.left.predict(newx[newx[:,self.split_var]<=self.split_value,:])\n",
    "        outp[newx[:,self.split_var]>self.split_value] = self.right.predict(newx[newx[:,self.split_var]>self.split_value,:])\n",
    "        return outp"
   ]
  },
  {
   "cell_type": "code",
   "execution_count": 20,
   "metadata": {
    "ExecuteTime": {
     "end_time": "2023-03-03T22:12:29.254028Z",
     "start_time": "2023-03-03T22:12:29.233468Z"
    }
   },
   "outputs": [],
   "source": [
    "n = 100000\n",
    "x = np.random.normal(size=(n,3))\n",
    "y = np.random.normal(size=(n,))\n",
    "y += x@np.random.uniform(size=(3,))"
   ]
  },
  {
   "cell_type": "code",
   "execution_count": 21,
   "metadata": {
    "ExecuteTime": {
     "end_time": "2023-03-03T22:12:29.931872Z",
     "start_time": "2023-03-03T22:12:29.550981Z"
    }
   },
   "outputs": [
    {
     "name": "stdout",
     "output_type": "stream",
     "text": [
      " Variable: 1; Split: 0.06722073230816239\n",
      "L Variable: 0; Split: 0.04190451804433071\n",
      "LL Variable: 1; Split: -0.9272965214734512\n",
      "LLL RSS: 11258.0579094251; Prediction: -1.2464887099489177\n",
      "LLR RSS: 21352.893167776114; Prediction: -0.6249683143625077\n",
      "LR Variable: 1; Split: -0.9525177334572534\n",
      "LRL RSS: 10289.8242154867; Prediction: -0.48541370693014513\n",
      "LRR RSS: 20563.77181411077; Prediction: 0.18994876396663316\n",
      "R Variable: 0; Split: 0.013017941549896328\n",
      "RL Variable: 1; Split: 1.0408036522075315\n",
      "RLL RSS: 19890.905838076607; Prediction: -0.09475091949267307\n",
      "RLR RSS: 9422.842241014518; Prediction: 0.527967196456722\n",
      "RR Variable: 1; Split: 1.0878281728396062\n",
      "RRL RSS: 19756.629222256193; Prediction: 0.7276542771137003\n",
      "RRR RSS: 8631.180825251475; Prediction: 1.3468529849134876\n",
      "\n"
     ]
    }
   ],
   "source": [
    "model = rpart(x,y,max_level=4)\n",
    "print(model)"
   ]
  },
  {
   "cell_type": "code",
   "execution_count": 22,
   "metadata": {
    "ExecuteTime": {
     "end_time": "2023-03-03T22:12:30.237953Z",
     "start_time": "2023-03-03T22:12:29.933991Z"
    }
   },
   "outputs": [
    {
     "name": "stdout",
     "output_type": "stream",
     "text": [
      " Variable: 1; Split: 0.06722073230816239\n",
      "L Variable: 0; Split: 0.04190451804433071\n",
      "LL RSS: 34942.42777568047; Prediction: -0.8348517859766391\n",
      "LR RSS: 33385.08358248156; Prediction: -0.027069479137251044\n",
      "R Variable: 0; Split: 0.013017941549896328\n",
      "RL RSS: 31308.796069180178; Prediction: 0.09873705059500838\n",
      "RR RSS: 30272.08545823423; Prediction: 0.911504373431792\n",
      "\n"
     ]
    }
   ],
   "source": [
    "model = rpart(x,y,max_level=3)\n",
    "print(model)"
   ]
  },
  {
   "cell_type": "code",
   "execution_count": 24,
   "metadata": {
    "ExecuteTime": {
     "end_time": "2023-03-03T22:12:37.170988Z",
     "start_time": "2023-03-03T22:12:37.152852Z"
    }
   },
   "outputs": [
    {
     "data": {
      "text/plain": [
       "129908.39288557644"
      ]
     },
     "execution_count": 24,
     "metadata": {},
     "output_type": "execute_result"
    }
   ],
   "source": [
    "(model.residuals**2).sum()"
   ]
  },
  {
   "cell_type": "code",
   "execution_count": 25,
   "metadata": {
    "ExecuteTime": {
     "end_time": "2023-03-03T22:12:58.458901Z",
     "start_time": "2023-03-03T22:12:58.452973Z"
    }
   },
   "outputs": [
    {
     "data": {
      "text/plain": [
       "129908.39288557645"
      ]
     },
     "execution_count": 25,
     "metadata": {},
     "output_type": "execute_result"
    }
   ],
   "source": [
    "34942.42777568047+33385.08358248156+31308.796069180178+30272.08545823423"
   ]
  },
  {
   "cell_type": "markdown",
   "metadata": {},
   "source": [
    "## Quaternions\n",
    "\n",
    "The Quaternions are a generalization of complex numbers. Where the complex numbers have two components, $a$ and $b$, for a number $a+bi$, the Quaternions have four parts $a, b, c$ and $d$: $$a+bi+cj+dk$$\n",
    "\n",
    "The Quaternions have four basic operations: addition, subtraction, multiplication, and the inverse. Also write a str representation function. Your job is to write a quaternion class which implements these operations. You can learn how to perform these operations on the Quaternions' wikipedia page."
   ]
  },
  {
   "cell_type": "code",
   "execution_count": 49,
   "metadata": {
    "ExecuteTime": {
     "end_time": "2023-03-03T22:24:09.114403Z",
     "start_time": "2023-03-03T22:24:09.098672Z"
    }
   },
   "outputs": [],
   "source": [
    "class quaternion:\n",
    "    def __init__(self,a,b,c,d):\n",
    "        self.a = a\n",
    "        self.b = b\n",
    "        self.c = c\n",
    "        self.d = d\n",
    "    def __str__(self):\n",
    "        return '{0}+{1}i+{2}j+{3}k'.format(self.a,self.b,self.c,self.d)\n",
    "    def __add__(self,other):\n",
    "        if type(other)==quaternion:\n",
    "            return quaternion(self.a+other.a,self.b+other.b,self.c+other.c,self.d+other.d)\n",
    "        else:\n",
    "            return quaternion(self.a+other,self.b,self.c,self.d)\n",
    "    def __radd__(self,other):\n",
    "        return self+other\n",
    "    def __mul__(self,other):\n",
    "        if type(other)==quaternion:\n",
    "            return quaternion(self.a*other.a-self.b*other.b-self.c*other.c-self.d*other.d,\n",
    "                              self.a*other.b+self.b*other.a+self.c*other.d-self.d*other.c,\n",
    "                              self.a*other.c-self.b*other.d+self.c*other.a+self.d*other.b,\n",
    "                              self.a*other.d+self.b*other.c-self.c*other.b+self.d*other.a)\n",
    "        else:\n",
    "            return quaternion(self.a*other,self.b*other,self.c*other,self.d*other)\n",
    "    def __rmul__(self,other):\n",
    "        return self*other\n",
    "    def __sub__(self,other):\n",
    "        return self+-1*other\n",
    "    def __rsub__(self,other):\n",
    "        return other+-1*self\n",
    "    def __invert__(self):\n",
    "        norm2 = self.a**2+self.b**2+self.c**2+self.d**2\n",
    "        return quaternion(self.a/norm2,-self.b/norm2,-self.c/norm2,-self.d/norm2)"
   ]
  },
  {
   "cell_type": "code",
   "execution_count": 37,
   "metadata": {
    "ExecuteTime": {
     "end_time": "2023-03-03T22:15:55.235375Z",
     "start_time": "2023-03-03T22:15:55.227733Z"
    }
   },
   "outputs": [
    {
     "name": "stdout",
     "output_type": "stream",
     "text": [
      "5+0i+3j+0k\n"
     ]
    }
   ],
   "source": [
    "print(quaternion(5,0,3,0))"
   ]
  },
  {
   "cell_type": "code",
   "execution_count": 38,
   "metadata": {
    "ExecuteTime": {
     "end_time": "2023-03-03T22:15:55.497844Z",
     "start_time": "2023-03-03T22:15:55.489211Z"
    }
   },
   "outputs": [
    {
     "name": "stdout",
     "output_type": "stream",
     "text": [
      "7+-1i+1j+4k\n"
     ]
    }
   ],
   "source": [
    "print(quaternion(5,0,3,0)+quaternion(2,-1,-2,4))"
   ]
  },
  {
   "cell_type": "code",
   "execution_count": 39,
   "metadata": {
    "ExecuteTime": {
     "end_time": "2023-03-03T22:15:55.757410Z",
     "start_time": "2023-03-03T22:15:55.751387Z"
    }
   },
   "outputs": [
    {
     "name": "stdout",
     "output_type": "stream",
     "text": [
      "9+0i+3j+0k\n"
     ]
    }
   ],
   "source": [
    "print(quaternion(5,0,3,0)+4)"
   ]
  },
  {
   "cell_type": "code",
   "execution_count": 40,
   "metadata": {
    "ExecuteTime": {
     "end_time": "2023-03-03T22:15:55.990858Z",
     "start_time": "2023-03-03T22:15:55.983751Z"
    }
   },
   "outputs": [
    {
     "name": "stdout",
     "output_type": "stream",
     "text": [
      "9+0i+3j+0k\n"
     ]
    }
   ],
   "source": [
    "print(4+quaternion(5,0,3,0))"
   ]
  },
  {
   "cell_type": "code",
   "execution_count": 42,
   "metadata": {
    "ExecuteTime": {
     "end_time": "2023-03-03T22:19:45.356163Z",
     "start_time": "2023-03-03T22:19:45.352166Z"
    }
   },
   "outputs": [
    {
     "name": "stdout",
     "output_type": "stream",
     "text": [
      "16+7i+-4j+23k\n"
     ]
    }
   ],
   "source": [
    "print(quaternion(5,0,3,0)*quaternion(2,-1,-2,4))"
   ]
  },
  {
   "cell_type": "code",
   "execution_count": 43,
   "metadata": {
    "ExecuteTime": {
     "end_time": "2023-03-03T22:19:56.549928Z",
     "start_time": "2023-03-03T22:19:56.546431Z"
    }
   },
   "outputs": [
    {
     "name": "stdout",
     "output_type": "stream",
     "text": [
      "20+0i+12j+0k\n"
     ]
    }
   ],
   "source": [
    "print(quaternion(5,0,3,0)*4)"
   ]
  },
  {
   "cell_type": "code",
   "execution_count": 44,
   "metadata": {
    "ExecuteTime": {
     "end_time": "2023-03-03T22:20:20.492549Z",
     "start_time": "2023-03-03T22:20:20.484620Z"
    }
   },
   "outputs": [
    {
     "name": "stdout",
     "output_type": "stream",
     "text": [
      "20+0i+12j+0k\n"
     ]
    }
   ],
   "source": [
    "print(4*quaternion(5,0,3,0))"
   ]
  },
  {
   "cell_type": "code",
   "execution_count": 46,
   "metadata": {
    "ExecuteTime": {
     "end_time": "2023-03-03T22:21:30.379768Z",
     "start_time": "2023-03-03T22:21:30.364097Z"
    }
   },
   "outputs": [
    {
     "name": "stdout",
     "output_type": "stream",
     "text": [
      "3+1i+5j+-4k\n"
     ]
    }
   ],
   "source": [
    "print(quaternion(5,0,3,0)-quaternion(2,-1,-2,4))"
   ]
  },
  {
   "cell_type": "code",
   "execution_count": 47,
   "metadata": {
    "ExecuteTime": {
     "end_time": "2023-03-03T22:21:56.818771Z",
     "start_time": "2023-03-03T22:21:56.811180Z"
    }
   },
   "outputs": [
    {
     "name": "stdout",
     "output_type": "stream",
     "text": [
      "1+0i+3j+0k\n"
     ]
    }
   ],
   "source": [
    "print(quaternion(5,0,3,0)-4)"
   ]
  },
  {
   "cell_type": "code",
   "execution_count": 48,
   "metadata": {
    "ExecuteTime": {
     "end_time": "2023-03-03T22:22:11.434121Z",
     "start_time": "2023-03-03T22:22:11.428280Z"
    }
   },
   "outputs": [
    {
     "name": "stdout",
     "output_type": "stream",
     "text": [
      "-1+0i+-3j+0k\n"
     ]
    }
   ],
   "source": [
    "print(4-quaternion(5,0,3,0))"
   ]
  },
  {
   "cell_type": "code",
   "execution_count": 50,
   "metadata": {
    "ExecuteTime": {
     "end_time": "2023-03-03T22:24:23.713714Z",
     "start_time": "2023-03-03T22:24:23.694622Z"
    }
   },
   "outputs": [
    {
     "name": "stdout",
     "output_type": "stream",
     "text": [
      "0.14705882352941177+0.0i+-0.08823529411764706j+0.0k\n"
     ]
    }
   ],
   "source": [
    "print(~quaternion(5,0,3,0))"
   ]
  },
  {
   "cell_type": "code",
   "execution_count": 51,
   "metadata": {
    "ExecuteTime": {
     "end_time": "2023-03-03T22:24:52.375559Z",
     "start_time": "2023-03-03T22:24:52.367523Z"
    }
   },
   "outputs": [
    {
     "name": "stdout",
     "output_type": "stream",
     "text": [
      "1.0+0.0i+-5.551115123125783e-17j+0.0k\n"
     ]
    }
   ],
   "source": [
    "print(~quaternion(5,0,3,0)*quaternion(5,0,3,0))"
   ]
  },
  {
   "cell_type": "code",
   "execution_count": 52,
   "metadata": {
    "ExecuteTime": {
     "end_time": "2023-03-03T22:25:06.313682Z",
     "start_time": "2023-03-03T22:25:06.306149Z"
    },
    "scrolled": true
   },
   "outputs": [
    {
     "name": "stdout",
     "output_type": "stream",
     "text": [
      "1.0+0.0i+-5.551115123125783e-17j+0.0k\n"
     ]
    }
   ],
   "source": [
    "print(quaternion(5,0,3,0)*~quaternion(5,0,3,0))"
   ]
  }
 ],
 "metadata": {
  "kernelspec": {
   "display_name": "Python 3 (ipykernel)",
   "language": "python",
   "name": "python3"
  },
  "language_info": {
   "codemirror_mode": {
    "name": "ipython",
    "version": 3
   },
   "file_extension": ".py",
   "mimetype": "text/x-python",
   "name": "python",
   "nbconvert_exporter": "python",
   "pygments_lexer": "ipython3",
   "version": "3.9.12"
  },
  "toc": {
   "base_numbering": 1,
   "nav_menu": {},
   "number_sections": true,
   "sideBar": true,
   "skip_h1_title": false,
   "title_cell": "Table of Contents",
   "title_sidebar": "Contents",
   "toc_cell": false,
   "toc_position": {},
   "toc_section_display": true,
   "toc_window_display": false
  },
  "varInspector": {
   "cols": {
    "lenName": 16,
    "lenType": 16,
    "lenVar": 40
   },
   "kernels_config": {
    "python": {
     "delete_cmd_postfix": "",
     "delete_cmd_prefix": "del ",
     "library": "var_list.py",
     "varRefreshCmd": "print(var_dic_list())"
    },
    "r": {
     "delete_cmd_postfix": ") ",
     "delete_cmd_prefix": "rm(",
     "library": "var_list.r",
     "varRefreshCmd": "cat(var_dic_list()) "
    }
   },
   "types_to_exclude": [
    "module",
    "function",
    "builtin_function_or_method",
    "instance",
    "_Feature"
   ],
   "window_display": false
  }
 },
 "nbformat": 4,
 "nbformat_minor": 2
}
