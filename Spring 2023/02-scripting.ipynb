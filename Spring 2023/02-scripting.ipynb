{
 "cells": [
  {
   "cell_type": "markdown",
   "metadata": {},
   "source": [
    "<div style=\"text-align:center\"><span style=\"font-size:2em; font-weight: bold;\">Lecture 2—Scripting</span></div>"
   ]
  },
  {
   "cell_type": "markdown",
   "metadata": {},
   "source": [
    "## Programming: Libraries\n",
    "\n",
    "Source: **Clean Python: Elegant Coding in Python** Sunil Kapil Apress 2019 (available through O'Reilly Safari)\n",
    "\n",
    "**collections**\n",
    "\n",
    "This is one of the most widely used libraries and has useful data structures, specifically namedtuple, defaultdict, and orderddict.\n",
    "\n",
    "**csv**\n",
    "\n",
    "Use csv for reading and writing CSV files. It will save you lot of time instead of writing your own methods while reading files.\n",
    "\n",
    "**datetime and time**\n",
    "\n",
    "These are without a doubt two of the most used libraries. In fact, you have probably already encountered them. If not, getting familiar with the different methods available in these libraries is beneficial in different scenarios, especially when you are working with timing issues.\n",
    "\n",
    "~~**math**~~\n",
    "\n",
    "~~The math lib has lots of useful methods to perform basic to advanced math computations. Before looking for a third-party library to solve math problems, try to see whether this library already has them.~~\n",
    "\n",
    "**re**\n",
    "\n",
    "There is no substitute for this library that can solve problems using regular expressions. In fact, re is one of the best libraries in the Python language. If you know regular expressions well, you can create magic using the re library. It gives you the power to perform some of the more difficult operations easily using regular expressions.\n",
    "\n",
    "~~**tempfile**~~\n",
    "\n",
    "~~Consider this a one-off library to create temporary files. It’s a good built-in library.~~\n",
    "\n",
    "**itertools**\n",
    "\n",
    "Some of the most useful tools in this library are permutations and combinations. However, if you explore it more, you will find that you can solve a lot of computation problems using itertools . It has some of the useful functions such as dropwhile, product, chain, and islice.\n",
    "\n",
    "**functools**\n",
    "\n",
    "If you are developer who loves functional programming, this library is for you. It has lots of functions that will help you to think of your code in a more functional way. One of the most used partials is in this library.\n",
    "\n",
    "**sys** and **os**\n",
    "\n",
    "Use these libraries when you want to perform any specific system- or OS-level operations. sys and os give you the power to do a lot of amazing things with your system.\n",
    "\n",
    "**subprocess**\n",
    "\n",
    "This library helps you to create multiple processes on your system without much effort. The library is easy to use, and it creates multiple processes and handles them using multiple methods.\n",
    "\n",
    "~~*logging**~~\n",
    "\n",
    "~~No big project could be successful without a good logging feature. The logging library from Python helps you to easily add logging in your system. It has different ways to spit out logs such as the console, files, and the network.~~\n",
    "\n",
    "**json**\n",
    "\n",
    "JSON is the de facto standard for passing information over a network and for APIs. The json library from Python does a great job of handling different scenarios. The json library interface is easy to use, and the documentation is pretty good.\n",
    "\n",
    "**pickle**\n",
    "\n",
    "You might not use it in daily coding, but whenever you need to serialize and deserialize a Python object, there is no better library than pickle .\n",
    "\n",
    "~~**\\_\\_future\\_\\_**~~\n",
    "\n",
    "~~This is a pseudomodule that enables new language features that are not compatible with the current interpreter. So, you might want to consider using them in your code where you want to use a future version.~~"
   ]
  },
  {
   "cell_type": "markdown",
   "metadata": {},
   "source": [
    "### Example: Using csv"
   ]
  },
  {
   "cell_type": "code",
   "execution_count": 1,
   "metadata": {
    "ExecuteTime": {
     "end_time": "2023-01-27T22:58:48.681395Z",
     "start_time": "2023-01-27T22:58:48.659679Z"
    }
   },
   "outputs": [
    {
     "name": "stdout",
     "output_type": "stream",
     "text": [
      "C:\\Users\\jason\n"
     ]
    }
   ],
   "source": [
    "cd"
   ]
  },
  {
   "cell_type": "code",
   "execution_count": 2,
   "metadata": {
    "ExecuteTime": {
     "end_time": "2023-01-27T22:59:12.138423Z",
     "start_time": "2023-01-27T22:59:12.122178Z"
    }
   },
   "outputs": [
    {
     "name": "stdout",
     "output_type": "stream",
     "text": [
      "C:\\Users\\jason\\Dropbox\\utdallas\\buan6340\\post\n"
     ]
    }
   ],
   "source": [
    "cd C:/Users/jason/Dropbox/utdallas/buan6340/post"
   ]
  },
  {
   "cell_type": "code",
   "execution_count": null,
   "metadata": {},
   "outputs": [],
   "source": []
  },
  {
   "cell_type": "code",
   "execution_count": 3,
   "metadata": {
    "ExecuteTime": {
     "end_time": "2023-01-27T23:02:26.071568Z",
     "start_time": "2023-01-27T23:02:26.060088Z"
    }
   },
   "outputs": [
    {
     "name": "stdout",
     "output_type": "stream",
     "text": [
      "['faminc', 'cigtax', 'cigprice', 'bwght', 'fatheduc', 'motheduc', 'parity', 'male', 'white', 'cigs', 'lbwght', 'bwghtlbs', 'packs', 'lfaminc']\n",
      "['13.5', '16.5', '122.3', '109', '12', '12', '1', '1', '1', '0', '4.691348', '6.8125', '0', '2.60269']\n",
      "['7.5', '16.5', '122.3', '133', '6', '12', '2', '1', '0', '0', '4.890349', '8.3125', '0', '2.014903']\n",
      "['.5', '16.5', '122.3', '129', '', '12', '2', '0', '0', '0', '4.859812', '8.0625', '0', '-.6931472']\n",
      "['15.5', '16.5', '122.3', '126', '12', '12', '2', '1', '0', '0', '4.836282', '7.875', '0', '2.74084']\n"
     ]
    }
   ],
   "source": [
    "#import csv # give us access to csv functions\n",
    "from csv import reader\n",
    "\n",
    "file = open('BWGHT.csv')  # open a file BWGHT.csv\n",
    "readr = reader(file) # make a reader for the file using a custom function from the csv package\n",
    "for i in range(5):        # we are going to read 5 lines\n",
    "    print(next(readr))   # next() moves through the file and returns a list of each item in the line\n",
    "file.close()              # close the file when done"
   ]
  },
  {
   "cell_type": "markdown",
   "metadata": {},
   "source": [
    "Now that we have called import, we have access to those functions in this notebook. This persists between cells. Equivalent to above we could have written:"
   ]
  },
  {
   "cell_type": "code",
   "execution_count": 5,
   "metadata": {
    "ExecuteTime": {
     "end_time": "2023-01-27T23:04:07.267948Z",
     "start_time": "2023-01-27T23:04:07.254610Z"
    }
   },
   "outputs": [
    {
     "name": "stdout",
     "output_type": "stream",
     "text": [
      "['faminc', 'cigtax', 'cigprice', 'bwght', 'fatheduc', 'motheduc', 'parity', 'male', 'white', 'cigs', 'lbwght', 'bwghtlbs', 'packs', 'lfaminc']\n",
      "['13.5', '16.5', '122.3', '109', '12', '12', '1', '1', '1', '0', '4.691348', '6.8125', '0', '2.60269']\n",
      "['7.5', '16.5', '122.3', '133', '6', '12', '2', '1', '0', '0', '4.890349', '8.3125', '0', '2.014903']\n",
      "['.5', '16.5', '122.3', '129', '', '12', '2', '0', '0', '0', '4.859812', '8.0625', '0', '-.6931472']\n",
      "['15.5', '16.5', '122.3', '126', '12', '12', '2', '1', '0', '0', '4.836282', '7.875', '0', '2.74084']\n",
      "the file is closed\n"
     ]
    }
   ],
   "source": [
    "import csv \n",
    "\n",
    "# with command as variable_name:  \n",
    "with open('BWGHT.csv') as filename:  # this will close the file automatically preventing potential errors\n",
    "    reader = csv.reader(filename)\n",
    "    for i in range(5):\n",
    "        print(next(reader)) \n",
    "print('the file is closed')"
   ]
  },
  {
   "cell_type": "code",
   "execution_count": 8,
   "metadata": {
    "ExecuteTime": {
     "end_time": "2023-01-27T23:04:53.776610Z",
     "start_time": "2023-01-27T23:04:53.761596Z"
    }
   },
   "outputs": [
    {
     "name": "stdout",
     "output_type": "stream",
     "text": [
      "faminc,cigtax,cigprice,bwght,fatheduc,motheduc,parity,male,white,cigs,lbwght,bwghtlbs,packs,lfaminc\n",
      "13.5,16.5,122.3,109,12,12,1,1,1,0,4.691348,6.8125,0,2.60269\n",
      "7.5,16.5,122.3,133,6,12,2,1,0,0,4.890349,8.3125,0,2.014903\n",
      ".5,16.5,122.3,129,,12,2,0,0,0,4.859812,8.0625,0,-.6931472\n",
      "15.5,16.5,122.3,126,12,12,2,1,0,0,4.836282,7.875,0,2.74084\n"
     ]
    }
   ],
   "source": [
    "with open('BWGHT.csv') as file: \n",
    "    for i in range(5):\n",
    "        line = file.readline()\n",
    "        print(line.strip())"
   ]
  },
  {
   "cell_type": "markdown",
   "metadata": {},
   "source": [
    "## Miscellaneous: bash on Windows\n",
    "\n",
    "Windows does not have access to bash scripting capability natively. That said, we have some alternatives/ options for getting bash functionality.\n",
    "\n",
    "1. powershell\n",
    "2. Docker or virtual machines\n",
    "3. ubuntu on Windows\n",
    "4. Cygwin  (be sure to get cygrunsrv sed/gawk ssmtp ssh) (be sure to skip python and anything you can install without cygwin)\n",
    "5. Git bash"
   ]
  },
  {
   "cell_type": "markdown",
   "metadata": {},
   "source": [
    "## Topic: Scripting\n",
    "### Concepts\n",
    "#### Foundations\n",
    "##### Idea: Simple general purpose scripts chained together to make complex programs\n",
    "\n",
    "##### Benefits (if you don't see the benefits immediately, don't worry; that's normal)\n",
    "* Run programs on a fixed schedule\n",
    "* Simple multithreading for better performance time\n",
    "* Code stability/persistence\n",
    "    \n",
    "##### Tools\t\n",
    "**ls** lists files in a directory structure.\n",
    "\n",
    "**grep** looks through standard input for a particular regular expression match. If found anywhere in the line, that line is then sent to standard output (otherwise the line is caught and doesn't go anywhere).\n",
    "\n",
    "**sed/awk** are simple data tools to read particular parts of output or writing basic conditional logic.\n",
    "\n",
    "**cron** can be used to run jobs on a fixed schedule.\n",
    "\n",
    "**python** can be used to write simple or complex programs for use in/with these basic pipe command. In fact, all of these simple programs can be written in python. If you can leverage these basic tools, you can make your python code much more effective and built for much more general purposes.\n",
    "#### Python libraries\n",
    "\n",
    "**Sys** is a good library for dealing with standard input, standard output, stardard error output and commandline arguments.\n",
    "\n",
    "**os** is a good library for reading directory structures and system structure/features.\n",
    "\n",
    "**subprocess** can be used to spawn subprocesses to implement other programs and/or other python programs to create multithreading (parallelism)"
   ]
  },
  {
   "cell_type": "code",
   "execution_count": null,
   "metadata": {},
   "outputs": [],
   "source": [
    "import sys\n",
    "\n",
    "sys.stdin # this is the code from standard input\n",
    "sys.argv # these are the arguments that were called \n",
    "print('hello') # this goes to standard output\n",
    "raise Exception('The code broke') # this goes to standard error"
   ]
  },
  {
   "cell_type": "markdown",
   "metadata": {},
   "source": [
    "### Example: Poker hands simulation\n",
    "\n",
    "For the task of writing a program to count the frequencies of poker hands, I wrote the following code:"
   ]
  },
  {
   "cell_type": "code",
   "execution_count": 7,
   "metadata": {
    "ExecuteTime": {
     "end_time": "2022-01-28T23:48:27.328130Z",
     "start_time": "2022-01-28T23:43:47.747413Z"
    },
    "code_folding": [
     3,
     20
    ]
   },
   "outputs": [
    {
     "name": "stdout",
     "output_type": "stream",
     "text": [
      "{'royal': 1, 'stflush': 19, 'quad': 254, 'fullhouse': 1426, 'flush': 1968, 'straight': 3879, 'trip': 21208, 'twopair': 47470, 'pair': 422593, 'other': 501182}\n",
      "{'royal': 1, 'stflush': 19, 'quad': 254, 'fullhouse': 1426, 'flush': 1968, 'straight': 3879, 'trip': 21208, 'twopair': 47470, 'pair': 422593, 'other': 501182}\n",
      "{'royal': 1, 'stflush': 19, 'quad': 254, 'fullhouse': 1426, 'flush': 1968, 'straight': 3879, 'trip': 21208, 'twopair': 47470, 'pair': 422593, 'other': 501182}\n",
      "{'royal': 1, 'stflush': 19, 'quad': 254, 'fullhouse': 1426, 'flush': 1968, 'straight': 3879, 'trip': 21208, 'twopair': 47470, 'pair': 422593, 'other': 501182}\n",
      "{'royal': 1, 'stflush': 19, 'quad': 254, 'fullhouse': 1426, 'flush': 1968, 'straight': 3879, 'trip': 21208, 'twopair': 47470, 'pair': 422593, 'other': 501182}\n",
      "{'royal': 1, 'stflush': 19, 'quad': 254, 'fullhouse': 1426, 'flush': 1968, 'straight': 3879, 'trip': 21208, 'twopair': 47470, 'pair': 422593, 'other': 501182}\n",
      "{'royal': 1, 'stflush': 19, 'quad': 254, 'fullhouse': 1426, 'flush': 1968, 'straight': 3879, 'trip': 21208, 'twopair': 47470, 'pair': 422593, 'other': 501182}\n",
      "{'royal': 1, 'stflush': 19, 'quad': 254, 'fullhouse': 1426, 'flush': 1968, 'straight': 3879, 'trip': 21208, 'twopair': 47470, 'pair': 422593, 'other': 501182}\n",
      "35 s ± 885 ms per loop (mean ± std. dev. of 7 runs, 1 loop each)\n"
     ]
    }
   ],
   "source": [
    "from itertools import product\n",
    "import random\n",
    "\n",
    "def get_hand_name(suits:dict,nums:dict):\n",
    "    suitvec =   ['\\u2660','\\u2665','\\u2663','\\u2666']\n",
    "    numbervec = ['A','2','3','4','5','6','7','8','9','10','J','Q','K','A']\n",
    "    straights = [set(numbervec[i:i+5]) for i in range(10)]\n",
    "    nvals = list(nums.values())\n",
    "    nvals.sort()\n",
    "    if set(nums.keys()) in straights and len(suits)==1:\n",
    "        if set(nums.keys()) == straights[-1]: return 'royal'\n",
    "        return 'stflush'\n",
    "    if nvals[-1] >= 4: return 'quad'\n",
    "    if nvals[-1] == 3 and nvals[-2] == 2: return 'fullhouse'\n",
    "    if len(suits)==1: return 'flush'\n",
    "    if set(nums.keys()) in straights: return 'straight'\n",
    "    if nvals[-1] >= 3: return 'trip'\n",
    "    if nvals[-1] >= 2 and nvals[-2] >= 2: return 'twopair'\n",
    "    if nvals[-1] >= 2: return 'pair'\n",
    "    return 'other'\n",
    "def get_suits_and_nums(hand):\n",
    "    suits = {}\n",
    "    nums = {}\n",
    "    for card in hand:\n",
    "        suit = card[0]\n",
    "        num = card[1:]\n",
    "        suits[suit] = 1+suits[suit] if suit in suits.keys() else 1\n",
    "        nums[num] = 1+nums[num] if num in nums.keys() else 1\n",
    "    return suits,nums\n",
    "def run_poker(nsim:int,seed:int):\n",
    "    suitvec = ['\\u2660','\\u2665','\\u2663','\\u2666']\n",
    "    numbervec = ['A','2','3','4','5','6','7','8','9','10','J','Q','K']\n",
    "    deck = [i+j for i,j in product(suitvec,numbervec)]\n",
    "    hands = {'royal':0,'stflush':0,'quad':0,'fullhouse':0,'flush':0,\\\n",
    "             'straight':0,'trip':0,'twopair':0,'pair':0,'other':0}\n",
    "    random.seed(seed)\n",
    "    for i in range(nsim):\n",
    "        random.shuffle(deck)\n",
    "        hand = deck[:5]\n",
    "        suits,nums = get_suits_and_nums(hand)\n",
    "        name = get_hand_name(suits,nums)\n",
    "        hands[name] += 1\n",
    "    return hands\n",
    "\n",
    "%timeit print(run_poker(int(1e6),0))"
   ]
  },
  {
   "cell_type": "code",
   "execution_count": 9,
   "metadata": {
    "ExecuteTime": {
     "end_time": "2023-01-27T23:45:10.721703Z",
     "start_time": "2023-01-27T23:45:10.712227Z"
    }
   },
   "outputs": [
    {
     "name": "stdout",
     "output_type": "stream",
     "text": [
      "♠A\n",
      "♠2\n",
      "♠3\n",
      "♠4\n",
      "♠5\n",
      "♠6\n",
      "♠7\n",
      "♠8\n",
      "♠9\n",
      "♠10\n",
      "♠J\n",
      "♠Q\n",
      "♠K\n",
      "♥A\n",
      "♥2\n",
      "♥3\n",
      "♥4\n",
      "♥5\n",
      "♥6\n",
      "♥7\n",
      "♥8\n",
      "♥9\n",
      "♥10\n",
      "♥J\n",
      "♥Q\n",
      "♥K\n",
      "♣A\n",
      "♣2\n",
      "♣3\n",
      "♣4\n",
      "♣5\n",
      "♣6\n",
      "♣7\n",
      "♣8\n",
      "♣9\n",
      "♣10\n",
      "♣J\n",
      "♣Q\n",
      "♣K\n",
      "♦A\n",
      "♦2\n",
      "♦3\n",
      "♦4\n",
      "♦5\n",
      "♦6\n",
      "♦7\n",
      "♦8\n",
      "♦9\n",
      "♦10\n",
      "♦J\n",
      "♦Q\n",
      "♦K\n"
     ]
    }
   ],
   "source": [
    "from itertools import product\n",
    "\n",
    "suitvec = ['\\u2660','\\u2665','\\u2663','\\u2666']\n",
    "numbervec = ['A','2','3','4','5','6','7','8','9','10','J','Q','K']\n",
    "for i,j in product(suitvec,numbervec):\n",
    "    print(i+j)"
   ]
  },
  {
   "cell_type": "code",
   "execution_count": 4,
   "metadata": {
    "ExecuteTime": {
     "end_time": "2021-01-27T22:59:27.348568Z",
     "start_time": "2021-01-27T22:59:27.341569Z"
    }
   },
   "outputs": [
    {
     "name": "stdout",
     "output_type": "stream",
     "text": [
      "21\n"
     ]
    }
   ],
   "source": [
    "x = 3\n",
    "print(7*x)"
   ]
  },
  {
   "cell_type": "code",
   "execution_count": 6,
   "metadata": {
    "ExecuteTime": {
     "end_time": "2021-01-27T23:02:01.757880Z",
     "start_time": "2021-01-27T23:02:01.749910Z"
    }
   },
   "outputs": [
    {
     "name": "stdout",
     "output_type": "stream",
     "text": [
      "C:\\Users\\jason\\Downloads\n"
     ]
    }
   ],
   "source": [
    "%cd ~/Downloads"
   ]
  },
  {
   "cell_type": "code",
   "execution_count": 18,
   "metadata": {
    "ExecuteTime": {
     "end_time": "2022-09-01T02:18:52.287255Z",
     "start_time": "2022-09-01T02:18:52.273282Z"
    }
   },
   "outputs": [
    {
     "data": {
      "text/plain": [
       "['♠', '♥', '♣', '♦']"
      ]
     },
     "execution_count": 18,
     "metadata": {},
     "output_type": "execute_result"
    }
   ],
   "source": [
    "suitvec = ['\\u2660','\\u2665','\\u2663','\\u2666']\n",
    "suitvec"
   ]
  },
  {
   "cell_type": "code",
   "execution_count": 8,
   "metadata": {},
   "outputs": [
    {
     "name": "stdout",
     "output_type": "stream",
     "text": [
      "[('♠', 'A'), ('♠', '2'), ('♠', '3'), ('♠', '4'), ('♠', '5'), ('♠', '6'), ('♠', '7'), ('♠', '8'), ('♠', '9'), ('♠', '10'), ('♠', 'J'), ('♠', 'Q'), ('♠', 'K'), ('♥', 'A'), ('♥', '2'), ('♥', '3'), ('♥', '4'), ('♥', '5'), ('♥', '6'), ('♥', '7'), ('♥', '8'), ('♥', '9'), ('♥', '10'), ('♥', 'J'), ('♥', 'Q'), ('♥', 'K'), ('♣', 'A'), ('♣', '2'), ('♣', '3'), ('♣', '4'), ('♣', '5'), ('♣', '6'), ('♣', '7'), ('♣', '8'), ('♣', '9'), ('♣', '10'), ('♣', 'J'), ('♣', 'Q'), ('♣', 'K'), ('♦', 'A'), ('♦', '2'), ('♦', '3'), ('♦', '4'), ('♦', '5'), ('♦', '6'), ('♦', '7'), ('♦', '8'), ('♦', '9'), ('♦', '10'), ('♦', 'J'), ('♦', 'Q'), ('♦', 'K')]\n"
     ]
    }
   ],
   "source": [
    "import itertools\n",
    "suitvec = ['\\u2660','\\u2665','\\u2663','\\u2666']\n",
    "numbervec = ['A','2','3','4','5','6','7','8','9','10','J','Q','K']\n",
    "\n",
    "print(list(itertools.product(suitvec,numbervec)))"
   ]
  },
  {
   "cell_type": "markdown",
   "metadata": {},
   "source": [
    "Next I considered comparing this to multithreaded code. So I wrote this to a file. Note the use of pickle to store the information and sys to read commandline arguments:"
   ]
  },
  {
   "cell_type": "code",
   "execution_count": 10,
   "metadata": {
    "ExecuteTime": {
     "end_time": "2023-01-27T23:55:27.846546Z",
     "start_time": "2023-01-27T23:55:27.835034Z"
    }
   },
   "outputs": [
    {
     "name": "stdout",
     "output_type": "stream",
     "text": [
      "C:\\Users\\jason\\Dropbox\\utdallas\\buan6340\\post\n"
     ]
    }
   ],
   "source": [
    "%cd C:/Users/jason/Dropbox/utdallas/buan6340/post"
   ]
  },
  {
   "cell_type": "code",
   "execution_count": 11,
   "metadata": {
    "ExecuteTime": {
     "end_time": "2023-01-27T23:57:12.073043Z",
     "start_time": "2023-01-27T23:57:12.067528Z"
    },
    "code_folding": [
     9,
     26,
     35
    ]
   },
   "outputs": [],
   "source": [
    "dump_string = '''\n",
    "from itertools import product\n",
    "import random\n",
    "import sys\n",
    "import pickle\n",
    "\n",
    "nsim = int(sys.argv[1])\n",
    "seed = int(sys.argv[2])\n",
    "\n",
    "def get_hand_name(suits:dict,nums:dict):\n",
    "    suitvec =   ['\\\\u2660','\\\\u2665','\\\\u2663','\\\\u2666']\n",
    "    numbervec = ['A','2','3','4','5','6','7','8','9','10','J','Q','K','A']\n",
    "    straights = [set(numbervec[i:i+5]) for i in range(10)]\n",
    "    nvals = list(nums.values())\n",
    "    nvals.sort()\n",
    "    if set(nums.keys()) in straights and len(suits)==1:\n",
    "        if set(nums.keys()) == straights[-1]: return 'royal'\n",
    "        return 'stflush'\n",
    "    if nvals[-1] >= 4: return 'quad'\n",
    "    if nvals[-1] == 3 and nvals[-2] == 2: return 'fullhouse'\n",
    "    if len(suits)==1: return 'flush'\n",
    "    if set(nums.keys()) in straights: return 'straight'\n",
    "    if nvals[-1] >= 3: return 'trip'\n",
    "    if nvals[-1] >= 2 and nvals[-2] >= 2: return 'twopair'\n",
    "    if nvals[-1] >= 2: return 'pair'\n",
    "    return 'other'\n",
    "def get_suits_and_nums(hand):\n",
    "    suits = {}\n",
    "    nums = {}\n",
    "    for card in hand:\n",
    "        suit = card[0]\n",
    "        num = card[1:]\n",
    "        suits[suit] = 1+suits[suit] if suit in suits.keys() else 1\n",
    "        nums[num] = 1+nums[num] if num in nums.keys() else 1\n",
    "    return suits,nums\n",
    "def run_poker(nsim:int,seed:int):\n",
    "    suitvec = ['\\\\u2660','\\\\u2665','\\\\u2663','\\\\u2666']\n",
    "    numbervec = ['A','2','3','4','5','6','7','8','9','10','J','Q','K']\n",
    "    deck = [i+j for i,j in product(suitvec,numbervec)]\n",
    "    hands = {'royal':0,'stflush':0,'quad':0,'fullhouse':0,'flush':0,\\\n",
    "             'straight':0,'trip':0,'twopair':0,'pair':0,'other':0}\n",
    "    random.seed(seed)\n",
    "    for i in range(nsim):\n",
    "        random.shuffle(deck)\n",
    "        hand = deck[:5]\n",
    "        suits,nums = get_suits_and_nums(hand)\n",
    "        name = get_hand_name(suits,nums)\n",
    "        hands[name] += 1\n",
    "    return hands\n",
    "\n",
    "with open('saves/poker_{0}_{1}.p'.format(nsim,seed),'wb') as pfile:\n",
    "    pickle.dump(run_poker(nsim,seed),pfile)\n",
    "'''\n",
    "with open('poker.py','w') as file:\n",
    "    file.write(dump_string)"
   ]
  },
  {
   "cell_type": "code",
   "execution_count": 6,
   "metadata": {
    "ExecuteTime": {
     "end_time": "2023-01-26T23:12:41.326893Z",
     "start_time": "2023-01-26T23:12:41.317847Z"
    }
   },
   "outputs": [
    {
     "data": {
      "text/plain": [
       "'saves/poker_1000_7.p'"
      ]
     },
     "execution_count": 6,
     "metadata": {},
     "output_type": "execute_result"
    }
   ],
   "source": [
    "nsim = 1000\n",
    "seed = 7\n",
    "'saves/poker_{0}_{1}.p'.format(nsim,seed)"
   ]
  },
  {
   "cell_type": "code",
   "execution_count": 9,
   "metadata": {
    "ExecuteTime": {
     "end_time": "2022-01-29T00:00:07.135694Z",
     "start_time": "2022-01-29T00:00:07.123718Z"
    }
   },
   "outputs": [
    {
     "name": "stdout",
     "output_type": "stream",
     "text": [
      "C:\\Users\\jason\\Dropbox\\utdallas\\buan6340\\post\n"
     ]
    }
   ],
   "source": [
    "cd ~/Dropbox/utdallas/buan6340/post"
   ]
  },
  {
   "cell_type": "markdown",
   "metadata": {},
   "source": [
    "Now, I wrote a wrapper using subprocess:"
   ]
  },
  {
   "cell_type": "code",
   "execution_count": 29,
   "metadata": {
    "ExecuteTime": {
     "end_time": "2022-09-08T00:26:41.313835Z",
     "start_time": "2022-09-08T00:24:53.838501Z"
    },
    "code_folding": []
   },
   "outputs": [
    {
     "name": "stdout",
     "output_type": "stream",
     "text": [
      "{'royal': 1, 'stflush': 13, 'quad': 244, 'fullhouse': 1477, 'flush': 1940, 'straight': 3974, 'trip': 21260, 'twopair': 47459, 'pair': 422466, 'other': 501166}\n",
      "{'royal': 1, 'stflush': 13, 'quad': 244, 'fullhouse': 1477, 'flush': 1940, 'straight': 3974, 'trip': 21260, 'twopair': 47459, 'pair': 422466, 'other': 501166}\n",
      "{'royal': 1, 'stflush': 13, 'quad': 244, 'fullhouse': 1477, 'flush': 1940, 'straight': 3974, 'trip': 21260, 'twopair': 47459, 'pair': 422466, 'other': 501166}\n",
      "{'royal': 1, 'stflush': 13, 'quad': 244, 'fullhouse': 1477, 'flush': 1940, 'straight': 3974, 'trip': 21260, 'twopair': 47459, 'pair': 422466, 'other': 501166}\n",
      "{'royal': 1, 'stflush': 13, 'quad': 244, 'fullhouse': 1477, 'flush': 1940, 'straight': 3974, 'trip': 21260, 'twopair': 47459, 'pair': 422466, 'other': 501166}\n",
      "{'royal': 1, 'stflush': 13, 'quad': 244, 'fullhouse': 1477, 'flush': 1940, 'straight': 3974, 'trip': 21260, 'twopair': 47459, 'pair': 422466, 'other': 501166}\n",
      "{'royal': 1, 'stflush': 13, 'quad': 244, 'fullhouse': 1477, 'flush': 1940, 'straight': 3974, 'trip': 21260, 'twopair': 47459, 'pair': 422466, 'other': 501166}\n",
      "{'royal': 1, 'stflush': 13, 'quad': 244, 'fullhouse': 1477, 'flush': 1940, 'straight': 3974, 'trip': 21260, 'twopair': 47459, 'pair': 422466, 'other': 501166}\n",
      "13.5 s ± 814 ms per loop (mean ± std. dev. of 7 runs, 1 loop each)\n"
     ]
    }
   ],
   "source": [
    "import subprocess\n",
    "import pickle\n",
    "\n",
    "def run_parallel_poker(num_procs,num_sims_each):\n",
    "    procvec = []\n",
    "    for i in range(num_procs):\n",
    "        item = subprocess.Popen(['python','poker.py',str(num_sims_each),str(i)])\n",
    "        procvec += [item]\n",
    "    for item in procvec:\n",
    "        item.wait()\n",
    "def collect_parallel_poker(num_procs,num_sims_each):\n",
    "    total = {}\n",
    "    for i in range(num_procs):\n",
    "        pfile = open('saves/poker_{0}_{1}.p'.format(num_sims_each,i),'rb')\n",
    "        save = pickle.load(pfile)\n",
    "        total = {k:save[k]+total.get(k,0) for k in save.keys()}\n",
    "        pfile.close()\n",
    "    return total\n",
    "def parallel_poker(num_procs,num_sims_each):\n",
    "    run_parallel_poker(num_procs,num_sims_each)\n",
    "    return collect_parallel_poker(num_procs,num_sims_each)\n",
    "\n",
    "%timeit print(parallel_poker(100,int(1e6/100)))"
   ]
  },
  {
   "cell_type": "code",
   "execution_count": 30,
   "metadata": {
    "ExecuteTime": {
     "end_time": "2022-09-08T00:26:50.817290Z",
     "start_time": "2022-09-08T00:26:50.799288Z"
    }
   },
   "outputs": [
    {
     "data": {
      "text/plain": [
       "2.5925925925925926"
      ]
     },
     "execution_count": 30,
     "metadata": {},
     "output_type": "execute_result"
    }
   ],
   "source": [
    "35/13.5"
   ]
  },
  {
   "cell_type": "code",
   "execution_count": 26,
   "metadata": {
    "ExecuteTime": {
     "end_time": "2022-09-08T00:15:50.529642Z",
     "start_time": "2022-09-08T00:15:50.520641Z"
    }
   },
   "outputs": [],
   "source": [
    "import subprocess"
   ]
  },
  {
   "cell_type": "code",
   "execution_count": 27,
   "metadata": {
    "ExecuteTime": {
     "end_time": "2022-09-08T00:19:14.300869Z",
     "start_time": "2022-09-08T00:19:13.896842Z"
    },
    "scrolled": true
   },
   "outputs": [
    {
     "data": {
      "text/plain": [
       "b''"
      ]
     },
     "execution_count": 27,
     "metadata": {},
     "output_type": "execute_result"
    }
   ],
   "source": [
    "proc = subprocess.Popen(['python','poker.py',\"10000\",\"0\"],\n",
    "                        stderr=subprocess.PIPE)\n",
    "proc.stderr.read()\n"
   ]
  },
  {
   "cell_type": "code",
   "execution_count": 28,
   "metadata": {
    "ExecuteTime": {
     "end_time": "2022-09-08T00:19:30.761309Z",
     "start_time": "2022-09-08T00:19:30.336638Z"
    }
   },
   "outputs": [
    {
     "data": {
      "text/plain": [
       "b''"
      ]
     },
     "execution_count": 28,
     "metadata": {},
     "output_type": "execute_result"
    }
   ],
   "source": [
    "proc = subprocess.Popen(['python','poker.py',\"10000\",\"0\"],\n",
    "                        stdout=subprocess.PIPE)\n",
    "proc.stdout.read()"
   ]
  },
  {
   "cell_type": "markdown",
   "metadata": {},
   "source": [
    "What I got was a $16\\times$ improvement running on a system with 16 cores (32 threads)"
   ]
  },
  {
   "cell_type": "markdown",
   "metadata": {},
   "source": [
    "## Data science: Matrix algebra\n",
    "\n",
    "#### Notation\n",
    "$$\\mathbf{X}=\n",
    "\\begin{bmatrix}\n",
    "x_{1,1} & x_{1,2} & \\dots  & x_{1,r} \\\\\n",
    "x_{2,1} & x_{2,2} &        & x_{2,r} \\\\\n",
    "\\vdots  &         & \\ddots & \\vdots  \\\\\n",
    "x_{n,1} & x_{n,2} & \\dots  & x_{n,r} \\\\\n",
    "\\end{bmatrix}=\\left(x_{i,j}\\right)_{i=1,..n;j=1,..r}\n",
    "$$\n",
    "\n",
    "### Arithmetic\n",
    "#### Basic operations\n",
    "**Addition** on matrices works the same way as addition on vectors: $\\mathbf{X}+\\mathbf{Y}=\\left(x_{i,j}+y_{i,j}\\right)_{i=1,..n;j=1,..r}$ Similarly, **scalar multiplication** works the same: $a\\mathbf{X}=\\left(a\\cdot x_{i,j}\\right)_{i=1,..n;j=1,..r}$. The only special simple operation you need to know is the **transpose**. The transpose switches the rows and the columns of a matrix: $\\mathbf{X}'=\\left(x_{i,j}\\right)_{j=1,..r;i=1,..n}$\n",
    "#### Multiplication\t\n",
    "In general, a linear system is one where:\n",
    "$$\\mathbf{A}x=y$$\n",
    "For ordinary least squares, we define the following linear system:\n",
    "$$y=\\mathbf{X}\\beta+e$$\n",
    "Matrix multiplication is defined so that this equation is equivalent to:\n",
    "$$y_i = \\beta_0+\\beta_1 x_{i,1}+\\dots+\\beta_r x_{i,r}+e_i$$\n",
    "For this to be true,\n",
    "$$\\mathbf{X}\\mathbf{Y}=\\left(\\sum_{k=1}^r x_{i,k}y_{k,j}\\right)_{i=1,..,n;j=1,..,m}$$\n",
    "You don't need to memorize this. The computer will calculate it for you. You need to be able to read equations like $y=\\mathbf{X}\\beta+e$ and understand them. Note that we can now revise our inner product definition to:\n",
    "$\\langle x,y \\rangle = x'y$\n",
    "### Special quantities\n",
    "#### Special matrices\t\n",
    "The $n\\times r$ **zero matrix** is defined by: $\\mathbf{0}=(0)_{i=1,..n;j=1,..r}$ Note that for any matrix $\\mathbf{X}$:\n",
    "\n",
    "$$\\mathbf{0} \\mathbf{X} =  \\mathbf{X} \\mathbf{0} = \\mathbf{0}$$\n",
    "\n",
    "The $n\\times r$ **ones matrix** is defined by: $\\mathbf{1}=(1)_{i=1,..n;j=1,..r}$\n",
    "\n",
    "The $n\\times n$ **identity matrix** is defined by:\n",
    "$$\n",
    "\\mathbf{I}_n=\n",
    "\\begin{bmatrix}\n",
    "1 & 0 & \\dots & 0 \\\\\n",
    "0 & 1 & & 0 \\\\\n",
    "\\vdots & & \\ddots & \\vdots \\\\\n",
    "0 & 0 & \\dots& 1\n",
    "\\end{bmatrix}\n",
    "$$\n",
    "Note that for any $n\\times r$ matrix $\\mathbf{X}$,\n",
    "$$\\mathbf{I}_n \\mathbf{X} =  \\mathbf{X} \\mathbf{I}_r = \\mathbf{X}$$\n",
    "\n",
    "The **diagonal matrix** of a vector $x$ is defined by:\n",
    "$$\n",
    "\\text{diag}\\left(x\\right)=\n",
    "\\begin{bmatrix}\n",
    "x_1 & 0 & \\dots & 0 \\\\\n",
    "0 & x_2 & & 0 \\\\\n",
    "\\vdots & & \\ddots & \\vdots \\\\\n",
    "0 & 0 & \\dots& x_n\n",
    "\\end{bmatrix}\n",
    "$$\n",
    "\n",
    "A square ($n\\times n$) matrix $\\mathbf{X}$ is said to be **symmetric** if and only if:\n",
    "\n",
    "$$\\mathbf{X} \\text{ symmetric} \\Longleftrightarrow \\mathbf{X}=\\mathbf{X}'$$\n",
    "#### Scalar quantites\t\n",
    "\n",
    "$a'x$ is a **linear form** of the vector $x$\n",
    "\n",
    "$x'\\mathbf{A}x$ is a **quadratic form** of the vector $x$\n",
    "#### Measures\n",
    "The **trace** of a matrix $\\mathbf{X}$ is defined as the sum of the elements on the main diagonal:\n",
    "$\\text{tr}(\\mathbf X)=\\sum_{i=1}^r x_{i,i}$. The **determinant** is an incredibly confusing concept. It's something like a matrix norm, but the concept is confusing even to experts. The determinant of a square matrix $\\mathbf X$ is defined by: \n",
    "$$\n",
    "\\text{det}(\\mathbf X)=\n",
    "\\sum_{\\sigma\\in S_n}\\left(\\text{sgn}(\\sigma)\\prod_{i=1}^n x_{i,\\sigma_i}\\right)\n",
    "$$\n",
    "where $S_n$ is the set of a permutations of the numbers $1,\\dots,n$. This is ridiculously obtuse, and I am only putting it here for reference, not for your comprehension. Actual matrix norms exist. The **$L_p$-norm** of a matrix is defined as\n",
    "$$\\max_a \\left\\Vert \\mathbf Xa\\right\\Vert_p\\text{ subject to }\\left\\Vert a\\right\\Vert_p=1$$ \n",
    "\n",
    "### Matrix algebra\n",
    "#### Solving systems\n",
    "\n",
    "When it exists, the **inverse** of a square ($n\\times n$) matrix $\\mathbf X$ is defined such that:\n",
    "$$\\mathbf X\\mathbf X^{-1}=\\mathbf X^{-1}\\mathbf X=\\mathbf I_n$$\n",
    "This means that the inverse cancels with the matrix so that they both together become an identity matrix. When an inverse exists, we can solve linear systems such as $\\mathbf Ax=y$ for $x$. \n",
    "$$\\begin{align}\n",
    "\\mathbf Ax &=y \\\\\n",
    "\\mathbf A^{-1}\\mathbf Ax &=\\mathbf A^{-1}y\\\\\n",
    "x &=\\mathbf A^{-1}y\n",
    "\\end{align}$$\n",
    "This is why we need inverses. The question then becomes, under what conditions does the inverse exist? The answer confusingly is that it exists so long as the determinant of the matrix is not equal to zero. If $\\text{det}(\\mathbf A)\\neq 0$ and $\\mathbf A$ is square, then $A^{-1}$ is guaranteed to exist. This condition is the matrix equivalent of not dividing by zero.\n",
    "\n",
    "Using the inverse, the ordinary least squares (OLS) estimator for $\\beta$ in the system $y=\\mathbf X\\beta+e$:\n",
    "$$\\hat\\beta=\\left(\\mathbf X'\\mathbf X\\right)^{-1}\\mathbf X'y$$\n",
    "\n",
    "#### Miscellaneous\n",
    "Sometimes when working with matrices it is necessary to consider **partition matrices** which is a way of representing a matrix using other smaller matrices. Consider the following $n\\times r$ matrix $\\mathbf X$:\n",
    "$$\\mathbf X = \n",
    "\\begin{bmatrix}\n",
    "\\mathbf X_{1,1} & \\mathbf X_{1,2} \\\\\n",
    "\\mathbf X_{2,1} & \\mathbf X_{2,2} \n",
    "\\end{bmatrix}\n",
    "$$\n",
    "where to make the dimensions match $\\mathbf X_{i,j}$ is $n_i\\times r_j$ where $n_1+n_2=n$ and $r_1+r_2=r$. If we transpose $\\mathbf X$, then consider what has to happen to the submatrices given that the dimensions still have to match:\n",
    "$$\\mathbf X' = \n",
    "\\begin{bmatrix}\n",
    "\\mathbf X_{1,1}' & \\mathbf X_{2,1}' \\\\\n",
    "\\mathbf X_{1,2}' & \\mathbf X_{2,2}' \n",
    "\\end{bmatrix}\n",
    "$$\n",
    "\n",
    "The **Hadamard product** of two matrices is just the **elementwise product** of those matrices: $\\mathbf X\\circ\\mathbf Y=\\left(x_{i,j}y_{i,j}\\right)_{i=1,..n;j=1,..r}$. \n",
    "\n",
    "On the other hand, the **Kronecker product** is defined as $\\mathbf X\\otimes\\mathbf Y=(x_{i,j}\\mathbf Y)_{i=1,..n;j=1,..r}$. This means that we have an entire copy of $\\mathbf Y$ for every element of $\\mathbf X$. This implies that if $\\mathbf X$ is $n\\times r$ and $\\mathbf Y$ is $m\\times s$, then $\\mathbf X\\otimes\\mathbf Y$ is $nm\\times rs$. \n",
    "    "
   ]
  },
  {
   "cell_type": "markdown",
   "metadata": {},
   "source": [
    "## Programming challenges\n",
    "### grep\n",
    "\n",
    "Write an implementation of the grep script in python. \n",
    "\n",
    "* Command line argument: regular expression\n",
    "* Standard input: input to be searched for the regular expression\n",
    "* Standard output: any line from standard input that has the regular expression\n"
   ]
  },
  {
   "cell_type": "code",
   "execution_count": 7,
   "metadata": {
    "ExecuteTime": {
     "end_time": "2023-01-26T23:32:40.530841Z",
     "start_time": "2023-01-26T23:32:40.517022Z"
    }
   },
   "outputs": [],
   "source": [
    "import re, sys"
   ]
  },
  {
   "cell_type": "markdown",
   "metadata": {},
   "source": [
    "### recursive list \n",
    "\n",
    "Write a program which takes a directory and lists all the files in that area with their complete paths. These files could exist in that directory itself, but you should also include any files in the sub-directories of that directory."
   ]
  },
  {
   "cell_type": "code",
   "execution_count": 10,
   "metadata": {
    "ExecuteTime": {
     "end_time": "2023-01-26T23:35:15.081585Z",
     "start_time": "2023-01-26T23:35:15.065551Z"
    }
   },
   "outputs": [],
   "source": [
    "import os"
   ]
  },
  {
   "cell_type": "markdown",
   "metadata": {},
   "source": [
    "### Vampire numbers\n",
    "\n",
    "A vampire number is any number which has a pair of factors whose digits (in base 10) match the digits in their product. For instance, $21\\times 60= 1260$, so we would say that $1260$ is a vampire number. $3\\times51=153$ is not a vampire number because the factors have different numbers of digits. Vampire numbers have the same number of digits in the factors. Find all the vampire numbers less than $1\\,000\\,000$. "
   ]
  },
  {
   "cell_type": "code",
   "execution_count": 14,
   "metadata": {
    "ExecuteTime": {
     "end_time": "2023-01-26T23:37:48.946688Z",
     "start_time": "2023-01-26T23:37:48.937710Z"
    }
   },
   "outputs": [
    {
     "data": {
      "text/plain": [
       "['1', '2', '6', '0']"
      ]
     },
     "execution_count": 14,
     "metadata": {},
     "output_type": "execute_result"
    }
   ],
   "source": [
    "list('1260')"
   ]
  }
 ],
 "metadata": {
  "kernelspec": {
   "display_name": "Python 3 (ipykernel)",
   "language": "python",
   "name": "python3"
  },
  "language_info": {
   "codemirror_mode": {
    "name": "ipython",
    "version": 3
   },
   "file_extension": ".py",
   "mimetype": "text/x-python",
   "name": "python",
   "nbconvert_exporter": "python",
   "pygments_lexer": "ipython3",
   "version": "3.9.12"
  },
  "toc": {
   "base_numbering": 1,
   "nav_menu": {},
   "number_sections": true,
   "sideBar": true,
   "skip_h1_title": false,
   "title_cell": "Table of Contents",
   "title_sidebar": "Contents",
   "toc_cell": false,
   "toc_position": {},
   "toc_section_display": true,
   "toc_window_display": false
  },
  "varInspector": {
   "cols": {
    "lenName": 16,
    "lenType": 16,
    "lenVar": 40
   },
   "kernels_config": {
    "python": {
     "delete_cmd_postfix": "",
     "delete_cmd_prefix": "del ",
     "library": "var_list.py",
     "varRefreshCmd": "print(var_dic_list())"
    },
    "r": {
     "delete_cmd_postfix": ") ",
     "delete_cmd_prefix": "rm(",
     "library": "var_list.r",
     "varRefreshCmd": "cat(var_dic_list()) "
    }
   },
   "types_to_exclude": [
    "module",
    "function",
    "builtin_function_or_method",
    "instance",
    "_Feature"
   ],
   "window_display": false
  }
 },
 "nbformat": 4,
 "nbformat_minor": 2
}
