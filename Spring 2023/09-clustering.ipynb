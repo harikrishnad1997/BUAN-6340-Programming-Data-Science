{
 "cells": [
  {
   "cell_type": "markdown",
   "metadata": {},
   "source": [
    "<div style=\"text-align:center\"><span style=\"font-size:2em; font-weight: bold;\">Lecture 9—Clustering</span></div>"
   ]
  },
  {
   "cell_type": "markdown",
   "metadata": {},
   "source": [
    "# $k$-Means clustering"
   ]
  },
  {
   "cell_type": "code",
   "execution_count": 69,
   "metadata": {
    "ExecuteTime": {
     "end_time": "2022-10-27T00:23:37.829794Z",
     "start_time": "2022-10-27T00:23:37.818209Z"
    }
   },
   "outputs": [],
   "source": [
    "import numpy as np\n",
    "import pandas as pd\n",
    "from cleands import *"
   ]
  },
  {
   "cell_type": "markdown",
   "metadata": {},
   "source": [
    "Data Generating Process"
   ]
  },
  {
   "cell_type": "code",
   "execution_count": 149,
   "metadata": {
    "ExecuteTime": {
     "end_time": "2022-10-27T00:55:16.066261Z",
     "start_time": "2022-10-27T00:55:16.043059Z"
    }
   },
   "outputs": [
    {
     "data": {
      "text/plain": [
       "array([0, 1, 2, ..., 2, 2, 0])"
      ]
     },
     "execution_count": 149,
     "metadata": {},
     "output_type": "execute_result"
    }
   ],
   "source": [
    "x1 = np.random.normal(loc=np.random.uniform(size=(5,))*10-5,size=(500,5))\n",
    "x2 = np.random.normal(loc=np.random.uniform(size=(5,))*10-5,size=(500,5))\n",
    "x3 = np.random.normal(loc=np.random.uniform(size=(5,))*10-5,size=(500,5))\n",
    "x = np.vstack((x1,x2,x3))\n",
    "shuffle = np.random.permutation(x.shape[0])\n",
    "x = x[shuffle,:]\n",
    "membership = shuffle.copy()\n",
    "for i in range(len(membership)):\n",
    "    if membership[i]<500: membership[i]=0\n",
    "    elif membership[i]<1000: membership[i]=1\n",
    "    else: membership[i]=2\n",
    "np.unique(membership,return_counts=True)\n",
    "membership"
   ]
  },
  {
   "cell_type": "markdown",
   "metadata": {},
   "source": [
    "Calculate means of membership variable"
   ]
  },
  {
   "cell_type": "code",
   "execution_count": 150,
   "metadata": {
    "ExecuteTime": {
     "end_time": "2022-10-27T00:55:16.846995Z",
     "start_time": "2022-10-27T00:55:16.827024Z"
    }
   },
   "outputs": [
    {
     "data": {
      "text/plain": [
       "array([[-4.81833234, -2.77189149,  0.39174824, -2.47186509, -3.52482939],\n",
       "       [-0.77038751, -1.32949694, -3.44153593, -4.08948222, -4.10212103],\n",
       "       [ 0.06807657, -0.28013588,  0.90856008,  1.18996657, -3.04146182]])"
      ]
     },
     "execution_count": 150,
     "metadata": {},
     "output_type": "execute_result"
    }
   ],
   "source": [
    "means = []\n",
    "for i in range(3):\n",
    "    mean = x[membership==i,:].mean(0)\n",
    "    means += [mean]\n",
    "means = np.array(means)\n",
    "means"
   ]
  },
  {
   "cell_type": "code",
   "execution_count": 151,
   "metadata": {
    "ExecuteTime": {
     "end_time": "2022-10-27T00:55:17.154826Z",
     "start_time": "2022-10-27T00:55:17.135091Z"
    }
   },
   "outputs": [
    {
     "data": {
      "text/plain": [
       "array([[-3.98683834, -2.41722155, -1.31090168, -3.67670059, -4.19493151],\n",
       "       [-3.09589967, -2.36298148, -3.04965523, -5.09462767, -6.02356359],\n",
       "       [-1.0823621 ,  0.15525515,  0.55498562,  1.32264453, -3.02067485],\n",
       "       ...,\n",
       "       [-0.7611711 , -0.12308007,  0.73690964, -0.69205775, -4.78088394],\n",
       "       [-0.53584459,  3.34895359,  2.05515834,  1.75209228, -1.38124049],\n",
       "       [-4.86636001, -1.76432631,  1.45508667, -2.3073294 , -3.88196045]])"
      ]
     },
     "execution_count": 151,
     "metadata": {},
     "output_type": "execute_result"
    }
   ],
   "source": [
    "x"
   ]
  },
  {
   "cell_type": "markdown",
   "metadata": {},
   "source": [
    "kmeans step 1: randomly guess"
   ]
  },
  {
   "cell_type": "code",
   "execution_count": 152,
   "metadata": {
    "ExecuteTime": {
     "end_time": "2022-10-27T00:55:17.784921Z",
     "start_time": "2022-10-27T00:55:17.768162Z"
    }
   },
   "outputs": [
    {
     "data": {
      "text/plain": [
       "array([0, 1, 0, ..., 1, 0, 1])"
      ]
     },
     "execution_count": 152,
     "metadata": {},
     "output_type": "execute_result"
    }
   ],
   "source": [
    "k = 3\n",
    "n = x.shape[0]\n",
    "group = np.random.randint(k,size=(n,))\n",
    "group"
   ]
  },
  {
   "cell_type": "markdown",
   "metadata": {},
   "source": [
    "kmeans step 2: calculate means of each cluster"
   ]
  },
  {
   "cell_type": "code",
   "execution_count": 153,
   "metadata": {
    "ExecuteTime": {
     "end_time": "2022-10-27T00:55:18.416934Z",
     "start_time": "2022-10-27T00:55:18.395096Z"
    }
   },
   "outputs": [
    {
     "data": {
      "text/plain": [
       "array([[-1.8771637 , -1.47233659, -0.66956903, -1.73528266, -3.54725348],\n",
       "       [-1.84480543, -1.4733826 , -0.77030822, -1.86827674, -3.53685397],\n",
       "       [-1.8021401 , -1.43790452, -0.7025926 , -1.76999444, -3.5818936 ]])"
      ]
     },
     "execution_count": 153,
     "metadata": {},
     "output_type": "execute_result"
    }
   ],
   "source": [
    "means = []\n",
    "for i in range(k):\n",
    "    mean = x[group==i,:].mean(0)\n",
    "    means += [mean]\n",
    "means = np.array(means)\n",
    "means"
   ]
  },
  {
   "cell_type": "markdown",
   "metadata": {},
   "source": [
    "kmeans step 3: group each point to its closest mean"
   ]
  },
  {
   "cell_type": "code",
   "execution_count": 154,
   "metadata": {
    "ExecuteTime": {
     "end_time": "2022-10-27T00:55:19.052369Z",
     "start_time": "2022-10-27T00:55:19.035622Z"
    }
   },
   "outputs": [
    {
     "data": {
      "text/plain": [
       "array([1, 1, 0, ..., 2, 0, 0], dtype=int64)"
      ]
     },
     "execution_count": 154,
     "metadata": {},
     "output_type": "execute_result"
    }
   ],
   "source": [
    "dists = []\n",
    "for i in range(k):\n",
    "    dist = x-means[i,:]\n",
    "    dist = (dist**2).sum(1)\n",
    "    dists += [dist]\n",
    "dists = np.array(dists)\n",
    "group = dists.argmin(0)\n",
    "group"
   ]
  },
  {
   "cell_type": "markdown",
   "metadata": {},
   "source": [
    "kmeans step 4: go back to step 2 until converges...\n",
    "\n",
    "Putting it all together:"
   ]
  },
  {
   "cell_type": "code",
   "execution_count": 155,
   "metadata": {
    "ExecuteTime": {
     "end_time": "2022-10-27T00:55:19.621529Z",
     "start_time": "2022-10-27T00:55:19.600720Z"
    }
   },
   "outputs": [
    {
     "name": "stdout",
     "output_type": "stream",
     "text": [
      "iteration\n",
      "iteration\n",
      "iteration\n",
      "iteration\n"
     ]
    },
    {
     "data": {
      "text/plain": [
       "array([2, 0, 1, ..., 1, 1, 2], dtype=int64)"
      ]
     },
     "execution_count": 155,
     "metadata": {},
     "output_type": "execute_result"
    }
   ],
   "source": [
    "k = 3\n",
    "n = x.shape[0]\n",
    "max_iters = 100\n",
    "newgroup = np.random.randint(k,size=(n,))\n",
    "group = np.zeros((n,))\n",
    "for j in range(max_iters):\n",
    "    if (group==newgroup).all(): break\n",
    "    print('iteration')\n",
    "    group = newgroup\n",
    "    dists = []\n",
    "    for i in range(k):\n",
    "        mean = x[group==i,:].mean(0)\n",
    "        dist = x-mean\n",
    "        dist = (dist**2).sum(1)\n",
    "        dists += [dist]\n",
    "    dists = np.array(dists)\n",
    "    newgroup = dists.argmin(0)\n",
    "group"
   ]
  },
  {
   "cell_type": "markdown",
   "metadata": {},
   "source": [
    "Confusion matrix"
   ]
  },
  {
   "cell_type": "code",
   "execution_count": 156,
   "metadata": {
    "ExecuteTime": {
     "end_time": "2022-10-27T00:55:20.178058Z",
     "start_time": "2022-10-27T00:55:20.167893Z"
    }
   },
   "outputs": [
    {
     "data": {
      "text/plain": [
       "array([[  0.,   1., 499.],\n",
       "       [498.,   0.,   2.],\n",
       "       [  0., 500.,   0.]])"
      ]
     },
     "execution_count": 156,
     "metadata": {},
     "output_type": "execute_result"
    }
   ],
   "source": [
    "membershipohe = np.zeros((membership.size, membership.max()+1))\n",
    "membershipohe[np.arange(membership.size),membership] = 1\n",
    "groupohe = np.zeros((group.size, group.max()+1))\n",
    "groupohe[np.arange(group.size),group] = 1\n",
    "membershipohe.T@groupohe"
   ]
  },
  {
   "cell_type": "markdown",
   "metadata": {},
   "source": [
    "accuracy"
   ]
  },
  {
   "cell_type": "code",
   "execution_count": 157,
   "metadata": {
    "ExecuteTime": {
     "end_time": "2022-10-27T00:55:20.761033Z",
     "start_time": "2022-10-27T00:55:20.753450Z"
    }
   },
   "outputs": [
    {
     "data": {
      "text/plain": [
       "0.998"
      ]
     },
     "execution_count": 157,
     "metadata": {},
     "output_type": "execute_result"
    }
   ],
   "source": [
    "(membershipohe.T@groupohe).max(1).sum()/groupohe.sum()"
   ]
  },
  {
   "cell_type": "markdown",
   "metadata": {},
   "source": [
    "putting all this in a function"
   ]
  },
  {
   "cell_type": "code",
   "execution_count": 158,
   "metadata": {
    "ExecuteTime": {
     "end_time": "2022-10-27T00:55:21.686428Z",
     "start_time": "2022-10-27T00:55:21.678391Z"
    }
   },
   "outputs": [],
   "source": [
    "def kmeans(x,k,max_iters=100,seed=None):\n",
    "    n = x.shape[0]\n",
    "    if seed != None: np.random.seed(seed)\n",
    "    newgroup = np.random.randint(k,size=(n,))\n",
    "    group = np.zeros((n,))\n",
    "    for j in range(max_iters):\n",
    "        if (group==newgroup).all(): break\n",
    "        #print('iteration')\n",
    "        group = newgroup\n",
    "        dists = []\n",
    "        for i in range(k):\n",
    "            mean = x[group==i,:].mean(0)\n",
    "            dist = x-mean\n",
    "            dist = (dist**2).sum(1)\n",
    "            dists += [dist]\n",
    "        dists = np.array(dists)\n",
    "        newgroup = dists.argmin(0)\n",
    "    return newgroup"
   ]
  },
  {
   "cell_type": "markdown",
   "metadata": {},
   "source": [
    "Total within sum of squares calculation"
   ]
  },
  {
   "cell_type": "code",
   "execution_count": 159,
   "metadata": {
    "ExecuteTime": {
     "end_time": "2022-10-27T00:55:22.713958Z",
     "start_time": "2022-10-27T00:55:22.688319Z"
    }
   },
   "outputs": [
    {
     "data": {
      "text/plain": [
       "7080.098891171296"
      ]
     },
     "execution_count": 159,
     "metadata": {},
     "output_type": "execute_result"
    }
   ],
   "source": [
    "k = 5\n",
    "group = kmeans(x,k)\n",
    "means = np.array([x[group==i,:].mean(0) for i in range(k)])\n",
    "wss = [((x[group==i,:]-means[i,:])**2).sum() for i in range(k)]\n",
    "total_wss = sum(wss)\n",
    "total_wss"
   ]
  },
  {
   "cell_type": "markdown",
   "metadata": {},
   "source": [
    "Loop process and get min twss"
   ]
  },
  {
   "cell_type": "code",
   "execution_count": 160,
   "metadata": {
    "ExecuteTime": {
     "end_time": "2022-10-27T00:55:23.616813Z",
     "start_time": "2022-10-27T00:55:23.598252Z"
    },
    "code_folding": []
   },
   "outputs": [],
   "source": [
    "def rep_kmeans(x,k,max_iters=100,seed=None,n_start=100):\n",
    "    twss = []\n",
    "    groups = []\n",
    "    for i in range(n_start):\n",
    "        group = kmeans(x,k,max_iters,seed)\n",
    "        means = np.array([x[group==i,:].mean(0) for i in range(k)])\n",
    "        wss = [((x[group==i,:]-means[i,:])**2).sum() for i in range(k)]\n",
    "        total_wss = sum(wss)\n",
    "        groups += [group]\n",
    "        twss += [total_wss]\n",
    "    group = groups[np.array(twss).argmin()]\n",
    "    return group"
   ]
  },
  {
   "cell_type": "code",
   "execution_count": 161,
   "metadata": {
    "ExecuteTime": {
     "end_time": "2022-10-27T00:55:34.945908Z",
     "start_time": "2022-10-27T00:55:24.076999Z"
    }
   },
   "outputs": [
    {
     "name": "stderr",
     "output_type": "stream",
     "text": [
      "C:\\Users\\jason\\AppData\\Local\\Temp\\ipykernel_17248\\2381808098.py:12: RuntimeWarning: Mean of empty slice.\n",
      "  mean = x[group==i,:].mean(0)\n",
      "C:\\Users\\jason\\AppData\\Local\\Temp\\ipykernel_17248\\253577756.py:6: RuntimeWarning: Mean of empty slice.\n",
      "  means = np.array([x[group==i,:].mean(0) for i in range(k)])\n"
     ]
    },
    {
     "data": {
      "text/plain": [
       "5750.20009337508"
      ]
     },
     "execution_count": 161,
     "metadata": {},
     "output_type": "execute_result"
    }
   ],
   "source": [
    "k = 10\n",
    "group = rep_kmeans(x,k)\n",
    "means = np.array([x[group==i,:].mean(0) for i in range(k)])\n",
    "wss = [((x[group==i,:]-means[i,:])**2).sum() for i in range(k)]\n",
    "total_wss = sum(wss)\n",
    "total_wss"
   ]
  },
  {
   "cell_type": "markdown",
   "metadata": {},
   "source": [
    "Automatic elbow detector"
   ]
  },
  {
   "cell_type": "code",
   "execution_count": 162,
   "metadata": {
    "ExecuteTime": {
     "end_time": "2022-10-27T00:55:34.961013Z",
     "start_time": "2022-10-27T00:55:34.948010Z"
    }
   },
   "outputs": [],
   "source": [
    "def auto_kmeans(x,k_max=10,max_iters=100,seed=None,n_start=100):\n",
    "    groups = []\n",
    "    twss = []\n",
    "    for k in range(1,k_max):\n",
    "        group = rep_kmeans(x,k,max_iters,seed,n_start)\n",
    "        means = np.array([x[group==i,:].mean(0) for i in range(k)])\n",
    "        wss = [((x[group==i,:]-means[i,:])**2).sum() for i in range(k)]\n",
    "        total_wss = sum(wss)\n",
    "        groups += [group]\n",
    "        twss += [total_wss]\n",
    "    twss = np.array(twss)\n",
    "    dwss = -np.diff(twss)\n",
    "    dwss = np.insert(dwss,0,dwss.sum()/np.log(k_max))\n",
    "    dwss = np.trim_zeros(dwss)\n",
    "    ratio = dwss[:-1]/dwss[1:]\n",
    "    ratio = ratio[:k_max]\n",
    "    k = ratio.argmax()\n",
    "    return groups[k]"
   ]
  },
  {
   "cell_type": "code",
   "execution_count": 163,
   "metadata": {
    "ExecuteTime": {
     "end_time": "2022-10-27T00:56:02.546946Z",
     "start_time": "2022-10-27T00:55:34.965003Z"
    }
   },
   "outputs": [
    {
     "name": "stderr",
     "output_type": "stream",
     "text": [
      "C:\\Users\\jason\\AppData\\Local\\Temp\\ipykernel_17248\\2381808098.py:12: RuntimeWarning: Mean of empty slice.\n",
      "  mean = x[group==i,:].mean(0)\n",
      "C:\\Users\\jason\\AppData\\Local\\Temp\\ipykernel_17248\\253577756.py:6: RuntimeWarning: Mean of empty slice.\n",
      "  means = np.array([x[group==i,:].mean(0) for i in range(k)])\n"
     ]
    },
    {
     "data": {
      "text/plain": [
       "array([0, 1, 2], dtype=int64)"
      ]
     },
     "execution_count": 163,
     "metadata": {},
     "output_type": "execute_result"
    }
   ],
   "source": [
    "result = auto_kmeans(x)\n",
    "np.unique(result)"
   ]
  },
  {
   "cell_type": "code",
   "execution_count": 164,
   "metadata": {
    "ExecuteTime": {
     "end_time": "2022-10-27T00:56:37.367564Z",
     "start_time": "2022-10-27T00:56:37.357546Z"
    }
   },
   "outputs": [
    {
     "data": {
      "text/plain": [
       "array([[499.,   1.,   0.],\n",
       "       [  2.,   0., 498.],\n",
       "       [  0., 500.,   0.]])"
      ]
     },
     "execution_count": 164,
     "metadata": {},
     "output_type": "execute_result"
    }
   ],
   "source": [
    "membershipohe = np.zeros((membership.size, membership.max()+1))\n",
    "membershipohe[np.arange(membership.size),membership] = 1\n",
    "resultohe = np.zeros((result.size, result.max()+1))\n",
    "resultohe[np.arange(result.size),result] = 1\n",
    "membershipohe.T@resultohe"
   ]
  },
  {
   "cell_type": "code",
   "execution_count": 165,
   "metadata": {
    "ExecuteTime": {
     "end_time": "2022-10-27T00:57:16.557957Z",
     "start_time": "2022-10-27T00:57:16.538999Z"
    }
   },
   "outputs": [
    {
     "data": {
      "text/plain": [
       "0.998"
      ]
     },
     "execution_count": 165,
     "metadata": {},
     "output_type": "execute_result"
    }
   ],
   "source": [
    "(membershipohe.T@resultohe).max(1).sum()/membershipohe.sum()"
   ]
  },
  {
   "cell_type": "markdown",
   "metadata": {},
   "source": [
    "# Programming challenges\n",
    "\n",
    "## Quick sort\n",
    "\n",
    "Write a program which implements the quick sort algorithm.\n"
   ]
  },
  {
   "cell_type": "markdown",
   "metadata": {},
   "source": [
    "\n",
    "## $k$-Means class structure\n",
    "\n",
    "Write a class structure for our k-means code\n"
   ]
  }
 ],
 "metadata": {
  "kernelspec": {
   "display_name": "Python 3 (ipykernel)",
   "language": "python",
   "name": "python3"
  },
  "language_info": {
   "codemirror_mode": {
    "name": "ipython",
    "version": 3
   },
   "file_extension": ".py",
   "mimetype": "text/x-python",
   "name": "python",
   "nbconvert_exporter": "python",
   "pygments_lexer": "ipython3",
   "version": "3.9.12"
  },
  "toc": {
   "base_numbering": 1,
   "nav_menu": {},
   "number_sections": true,
   "sideBar": true,
   "skip_h1_title": false,
   "title_cell": "Table of Contents",
   "title_sidebar": "Contents",
   "toc_cell": false,
   "toc_position": {},
   "toc_section_display": true,
   "toc_window_display": false
  },
  "varInspector": {
   "cols": {
    "lenName": 16,
    "lenType": 16,
    "lenVar": 40
   },
   "kernels_config": {
    "python": {
     "delete_cmd_postfix": "",
     "delete_cmd_prefix": "del ",
     "library": "var_list.py",
     "varRefreshCmd": "print(var_dic_list())"
    },
    "r": {
     "delete_cmd_postfix": ") ",
     "delete_cmd_prefix": "rm(",
     "library": "var_list.r",
     "varRefreshCmd": "cat(var_dic_list()) "
    }
   },
   "types_to_exclude": [
    "module",
    "function",
    "builtin_function_or_method",
    "instance",
    "_Feature"
   ],
   "window_display": false
  }
 },
 "nbformat": 4,
 "nbformat_minor": 4
}
