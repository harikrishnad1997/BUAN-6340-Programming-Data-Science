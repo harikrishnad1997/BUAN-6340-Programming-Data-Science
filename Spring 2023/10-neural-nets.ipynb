{
 "cells": [
  {
   "cell_type": "markdown",
   "metadata": {},
   "source": [
    "<div style=\"text-align:center\"><span style=\"font-size:2em; font-weight: bold;\">Lecture 10—Neural nets</span></div>"
   ]
  },
  {
   "cell_type": "markdown",
   "metadata": {},
   "source": [
    "# Linear algebra: Mathematics\n",
    "\n",
    "Basic model:\n",
    "$$\\hat y=F\\left(Zw_z\\right)$$\n",
    "$$Z = G\\left(XW_x\\right)$$\n",
    "\n",
    "Common linking function pairs:\n",
    "Identity:\n",
    "$$F(x)=x$$\n",
    "Relu:\n",
    "$$G(x)=\\max(x,0)$$\n",
    "\n",
    "Softmax:\n",
    "$$F(x)=\\frac{1}{1+e^{-x}}$$\n",
    "Relu:\n",
    "$$G(x)=\\max(x,0)$$\n",
    "\n",
    "Minimization problem:\n",
    "$$\\min_{w_z,W_x}\\frac{1}{n}\\sum_{i=1}^n (y_i-\\hat y_i)^2$$\n",
    "\n",
    "# Data science: Programming neural nets"
   ]
  },
  {
   "cell_type": "code",
   "execution_count": 3,
   "metadata": {
    "ExecuteTime": {
     "end_time": "2022-11-03T00:51:12.841369Z",
     "start_time": "2022-11-03T00:51:12.831356Z"
    }
   },
   "outputs": [],
   "source": [
    "import numpy as np\n",
    "import pandas as pd\n",
    "from scipy.stats import iqr\n",
    "from scipy.stats import zscore\n",
    "from itertools import product\n",
    "\n",
    "relu = lambda x: np.maximum(x,0)\n",
    "softmax = lambda x: np.exp(x-np.log(np.exp(x).sum(1).reshape(-1,1)))\n",
    "identity = lambda x: x\n",
    "\n",
    "drelu = lambda x: (x>0).astype(int)\n",
    "dsoftmax = lambda x: softmax(x)*(1-softmax(x))\n",
    "didentity = lambda x: np.ones(x.shape)"
   ]
  },
  {
   "cell_type": "code",
   "execution_count": 4,
   "metadata": {
    "ExecuteTime": {
     "end_time": "2022-11-03T00:51:13.213433Z",
     "start_time": "2022-11-03T00:51:13.192856Z"
    },
    "code_folding": [
     0,
     11,
     25,
     33
    ]
   },
   "outputs": [],
   "source": [
    "def generate_layers(x,r_vec,linking_function):\n",
    "    z = x.copy()\n",
    "    layers = []\n",
    "    weights = []\n",
    "    for i in range(len(r_vec)):\n",
    "        xmat = np.hstack([np.ones((z.shape[0],1)),z])\n",
    "        w = np.random.uniform(size=(xmat.shape[1],r_vec[i]))-0.5\n",
    "        z = linking_function(xmat@w)\n",
    "        weights += [w]\n",
    "        layers += [z]\n",
    "    return layers,weights\n",
    "def generate_mvt_normal(n,r,means):\n",
    "    if r == 1: return np.random.normal(loc=means,size=(n,1))\n",
    "    P = np.array([[1,1]])\n",
    "    for i in range(2,r):\n",
    "        ones = np.ones([i,1])\n",
    "        zeros = np.zeros([P.shape[0],1])\n",
    "        ident = np.eye(i)\n",
    "        upper = np.hstack([ones,ident])\n",
    "        lower = np.hstack([zeros,P])\n",
    "        P = np.vstack([upper,lower])\n",
    "    covariates = np.random.normal(size=(n,P.shape[0]))\n",
    "    idiosyncratics = np.random.normal(loc=means,size=(n,P.shape[1]))\n",
    "    covariate_loadings = np.random.uniform(size=P.shape[0])*3-1\n",
    "    return covariates@np.diagflat(covariate_loadings)@P+idiosyncratics\n",
    "def calc_layers(x,weights,linking_function):\n",
    "    z = x.copy()\n",
    "    layers = []\n",
    "    for i in weights:\n",
    "        xmat = np.hstack([np.ones((z.shape[0],1)),z])\n",
    "        z = linking_function(xmat@i)\n",
    "        layers += [z]\n",
    "    return layers\n",
    "def calc_gradient(x,y,layers,weights,dlinking_funcs):\n",
    "    inside = np.diagflat((y-layers[-1]).reshape(-1))\n",
    "    wmat = np.ones((1,1))\n",
    "    gradvec = []\n",
    "    for i in range(len(weights)-1,-1,-1):\n",
    "        w = weights[i]\n",
    "        link = dlinking_funcs[i]\n",
    "        layer = layers[i-1] if i-1>=0 else x\n",
    "        xmat = np.hstack([np.ones((layer.shape[0],1)),layer])\n",
    "        result1 = link(xmat@w)\n",
    "        result2 = result1@wmat\n",
    "        wmat = w[1:,:]@wmat\n",
    "        grad = -2*xmat.T@inside@result1/y.shape[0]\n",
    "        inside = inside@np.diagflat(result2.reshape(-1))\n",
    "        gradvec = [grad]+gradvec\n",
    "    return gradvec\n"
   ]
  },
  {
   "cell_type": "code",
   "execution_count": 5,
   "metadata": {
    "ExecuteTime": {
     "end_time": "2022-11-03T00:51:13.709482Z",
     "start_time": "2022-11-03T00:51:13.653750Z"
    }
   },
   "outputs": [
    {
     "data": {
      "text/plain": [
       "array([[ 0.52136691],\n",
       "       [ 0.5710091 ],\n",
       "       [ 0.1962905 ],\n",
       "       ...,\n",
       "       [-0.24479498],\n",
       "       [-1.16471404],\n",
       "       [ 0.0525731 ]])"
      ]
     },
     "execution_count": 5,
     "metadata": {},
     "output_type": "execute_result"
    }
   ],
   "source": [
    "# Build a random neural network\n",
    "# Data generating process\n",
    "\n",
    "r_x = 3\n",
    "r_e = 1\n",
    "r_xe = r_x+r_e\n",
    "r_z = (20,10,5)\n",
    "r_y = 1\n",
    "n = 10000\n",
    "\n",
    "x = zscore(generate_mvt_normal(n,r_x,np.random.uniform(size=r_x)))\n",
    "e = zscore(generate_mvt_normal(n,r_e,np.zeros(r_e)))\n",
    "xe = np.hstack([x,e])\n",
    "layers,weights = generate_layers(xe,r_z,relu)\n",
    "fin_layer,fin_weight = generate_layers(layers[-1],(r_y,),identity)\n",
    "y = zscore(fin_layer[0])\n",
    "y"
   ]
  },
  {
   "cell_type": "code",
   "execution_count": 6,
   "metadata": {
    "ExecuteTime": {
     "end_time": "2022-11-03T00:52:13.264180Z",
     "start_time": "2022-11-03T00:52:13.245789Z"
    }
   },
   "outputs": [
    {
     "name": "stdout",
     "output_type": "stream",
     "text": [
      "-1 1.1887537305548945\n"
     ]
    }
   ],
   "source": [
    "# Build an estimated neural network\n",
    "# Initial guess\n",
    "\n",
    "r_ez = (10,)\n",
    "\n",
    "est_layers,est_weights = generate_layers(x,r_ez,relu)\n",
    "est_fin_layer,est_fin_weight = generate_layers(est_layers[-1],(r_y,),identity)\n",
    "mspe = ((y-est_fin_layer[0])**2).mean()\n",
    "print(-1,np.sqrt(mspe))"
   ]
  },
  {
   "cell_type": "code",
   "execution_count": 7,
   "metadata": {
    "ExecuteTime": {
     "end_time": "2022-11-03T00:56:52.175096Z",
     "start_time": "2022-11-03T00:52:49.600631Z"
    }
   },
   "outputs": [
    {
     "name": "stdout",
     "output_type": "stream",
     "text": [
      "0 1.1755167847320904\n",
      "1 1.1635780448459108\n",
      "2 1.152844203439707\n",
      "3 1.1431157385936455\n",
      "4 1.134274580682947\n",
      "5 1.1262339681273814\n",
      "6 1.1188908959544517\n",
      "7 1.1121031514673048\n",
      "8 1.1058826985460721\n",
      "9 1.1001716421789995\n",
      "10 1.0949323131637885\n"
     ]
    },
    {
     "ename": "KeyboardInterrupt",
     "evalue": "",
     "output_type": "error",
     "traceback": [
      "\u001b[1;31m---------------------------------------------------------------------------\u001b[0m",
      "\u001b[1;31mKeyboardInterrupt\u001b[0m                         Traceback (most recent call last)",
      "Input \u001b[1;32mIn [7]\u001b[0m, in \u001b[0;36m<cell line: 6>\u001b[1;34m()\u001b[0m\n\u001b[0;32m      4\u001b[0m iterations \u001b[38;5;241m=\u001b[39m \u001b[38;5;241m20\u001b[39m\n\u001b[0;32m      6\u001b[0m \u001b[38;5;28;01mfor\u001b[39;00m j \u001b[38;5;129;01min\u001b[39;00m \u001b[38;5;28mrange\u001b[39m(iterations):\n\u001b[1;32m----> 7\u001b[0m     grad \u001b[38;5;241m=\u001b[39m \u001b[43mcalc_gradient\u001b[49m\u001b[43m(\u001b[49m\u001b[43mx\u001b[49m\u001b[43m,\u001b[49m\u001b[43my\u001b[49m\u001b[43m,\u001b[49m\n\u001b[0;32m      8\u001b[0m \u001b[43m                  \u001b[49m\u001b[43mest_layers\u001b[49m\u001b[38;5;241;43m+\u001b[39;49m\u001b[43mest_fin_layer\u001b[49m\u001b[43m,\u001b[49m\n\u001b[0;32m      9\u001b[0m \u001b[43m                  \u001b[49m\u001b[38;5;28;43mlist\u001b[39;49m\u001b[43m(\u001b[49m\u001b[43mest_weights\u001b[49m\u001b[43m)\u001b[49m\u001b[38;5;241;43m+\u001b[39;49m\u001b[38;5;28;43mlist\u001b[39;49m\u001b[43m(\u001b[49m\u001b[43mest_fin_weight\u001b[49m\u001b[43m)\u001b[49m\u001b[43m,\u001b[49m\n\u001b[0;32m     10\u001b[0m \u001b[43m                  \u001b[49m\u001b[43m[\u001b[49m\u001b[43mdrelu\u001b[49m\u001b[43m]\u001b[49m\u001b[38;5;241;43m*\u001b[39;49m\u001b[38;5;28;43mlen\u001b[39;49m\u001b[43m(\u001b[49m\u001b[43mest_weights\u001b[49m\u001b[43m)\u001b[49m\u001b[38;5;241;43m+\u001b[39;49m\u001b[43m[\u001b[49m\u001b[43mdidentity\u001b[49m\u001b[43m]\u001b[49m\u001b[43m)\u001b[49m\n\u001b[0;32m     11\u001b[0m     \u001b[38;5;28;01mfor\u001b[39;00m i \u001b[38;5;129;01min\u001b[39;00m \u001b[38;5;28mrange\u001b[39m(\u001b[38;5;28mlen\u001b[39m(grad)\u001b[38;5;241m-\u001b[39m\u001b[38;5;241m1\u001b[39m):\n\u001b[0;32m     12\u001b[0m         est_weights[i] \u001b[38;5;241m-\u001b[39m\u001b[38;5;241m=\u001b[39m grad[i]\u001b[38;5;241m*\u001b[39mlearning_rate\n",
      "Input \u001b[1;32mIn [4]\u001b[0m, in \u001b[0;36mcalc_gradient\u001b[1;34m(x, y, layers, weights, dlinking_funcs)\u001b[0m\n\u001b[0;32m     45\u001b[0m     wmat \u001b[38;5;241m=\u001b[39m w[\u001b[38;5;241m1\u001b[39m:,:]\u001b[38;5;129m@wmat\u001b[39m\n\u001b[0;32m     46\u001b[0m     grad \u001b[38;5;241m=\u001b[39m \u001b[38;5;241m-\u001b[39m\u001b[38;5;241m2\u001b[39m\u001b[38;5;241m*\u001b[39mxmat\u001b[38;5;241m.\u001b[39mT\u001b[38;5;129m@inside\u001b[39m\u001b[38;5;129m@result1\u001b[39m\u001b[38;5;241m/\u001b[39my\u001b[38;5;241m.\u001b[39mshape[\u001b[38;5;241m0\u001b[39m]\n\u001b[1;32m---> 47\u001b[0m     inside \u001b[38;5;241m=\u001b[39m \u001b[43minside\u001b[49m\u001b[38;5;129;43m@np\u001b[39;49m\u001b[38;5;241;43m.\u001b[39;49m\u001b[43mdiagflat\u001b[49m\u001b[43m(\u001b[49m\u001b[43mresult2\u001b[49m\u001b[38;5;241;43m.\u001b[39;49m\u001b[43mreshape\u001b[49m\u001b[43m(\u001b[49m\u001b[38;5;241;43m-\u001b[39;49m\u001b[38;5;241;43m1\u001b[39;49m\u001b[43m)\u001b[49m\u001b[43m)\u001b[49m\n\u001b[0;32m     48\u001b[0m     gradvec \u001b[38;5;241m=\u001b[39m [grad]\u001b[38;5;241m+\u001b[39mgradvec\n\u001b[0;32m     49\u001b[0m \u001b[38;5;28;01mreturn\u001b[39;00m gradvec\n",
      "\u001b[1;31mKeyboardInterrupt\u001b[0m: "
     ]
    }
   ],
   "source": [
    "# Gradient descent\n",
    "\n",
    "learning_rate = 0.01\n",
    "iterations = 20\n",
    "\n",
    "for j in range(iterations):\n",
    "    grad = calc_gradient(x,y,\n",
    "                  est_layers+est_fin_layer,\n",
    "                  list(est_weights)+list(est_fin_weight),\n",
    "                  [drelu]*len(est_weights)+[didentity])\n",
    "    for i in range(len(grad)-1):\n",
    "        est_weights[i] -= grad[i]*learning_rate\n",
    "    est_fin_weight -= grad[-1]*learning_rate\n",
    "    est_layers = calc_layers(x,est_weights,relu)\n",
    "    est_fin_layer = calc_layers(est_layers[-1],est_fin_weight,identity)\n",
    "    mspe = ((y-est_fin_layer[0])**2).mean()\n",
    "    print(j,np.sqrt(mspe))"
   ]
  }
 ],
 "metadata": {
  "kernelspec": {
   "display_name": "Python 3 (ipykernel)",
   "language": "python",
   "name": "python3"
  },
  "language_info": {
   "codemirror_mode": {
    "name": "ipython",
    "version": 3
   },
   "file_extension": ".py",
   "mimetype": "text/x-python",
   "name": "python",
   "nbconvert_exporter": "python",
   "pygments_lexer": "ipython3",
   "version": "3.9.12"
  },
  "toc": {
   "base_numbering": 1,
   "nav_menu": {},
   "number_sections": true,
   "sideBar": true,
   "skip_h1_title": false,
   "title_cell": "Table of Contents",
   "title_sidebar": "Contents",
   "toc_cell": false,
   "toc_position": {},
   "toc_section_display": true,
   "toc_window_display": false
  },
  "varInspector": {
   "cols": {
    "lenName": 16,
    "lenType": 16,
    "lenVar": 40
   },
   "kernels_config": {
    "python": {
     "delete_cmd_postfix": "",
     "delete_cmd_prefix": "del ",
     "library": "var_list.py",
     "varRefreshCmd": "print(var_dic_list())"
    },
    "r": {
     "delete_cmd_postfix": ") ",
     "delete_cmd_prefix": "rm(",
     "library": "var_list.r",
     "varRefreshCmd": "cat(var_dic_list()) "
    }
   },
   "types_to_exclude": [
    "module",
    "function",
    "builtin_function_or_method",
    "instance",
    "_Feature"
   ],
   "window_display": false
  }
 },
 "nbformat": 4,
 "nbformat_minor": 4
}
