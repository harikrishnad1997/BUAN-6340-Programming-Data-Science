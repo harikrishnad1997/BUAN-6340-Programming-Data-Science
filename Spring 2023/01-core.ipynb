{
 "cells": [
  {
   "cell_type": "markdown",
   "metadata": {},
   "source": [
    "<div style=\"text-align:center\"><span style=\"font-size:2em; font-weight: bold;\">Lecture 1—Core python</span></div>"
   ]
  },
  {
   "cell_type": "markdown",
   "metadata": {},
   "source": [
    "## Miscellaneous: \n",
    "* Review Syllabus\n",
    "* Install Anaconda\n",
    "* Start Jupyter notebooks"
   ]
  },
  {
   "cell_type": "markdown",
   "metadata": {},
   "source": [
    "## Programming: Jupyter basics\n",
    "\n",
    "#### Printing/display\n",
    "\n",
    "The command in python to print anything is ```print```. That said, in Jupyter we do not need to always use ```print```:\n"
   ]
  },
  {
   "cell_type": "code",
   "execution_count": 1,
   "metadata": {
    "ExecuteTime": {
     "end_time": "2023-01-20T22:29:51.828736Z",
     "start_time": "2023-01-20T22:29:51.798087Z"
    },
    "scrolled": true
   },
   "outputs": [
    {
     "data": {
      "text/plain": [
       "'Hello, World!'"
      ]
     },
     "execution_count": 1,
     "metadata": {},
     "output_type": "execute_result"
    }
   ],
   "source": [
    "\"Hello, World!\""
   ]
  },
  {
   "cell_type": "markdown",
   "metadata": {},
   "source": [
    "Note that in jupyter, only the last statement gets shown back to us:"
   ]
  },
  {
   "cell_type": "code",
   "execution_count": 4,
   "metadata": {
    "ExecuteTime": {
     "end_time": "2023-01-20T22:30:56.076475Z",
     "start_time": "2023-01-20T22:30:56.063479Z"
    }
   },
   "outputs": [
    {
     "data": {
      "text/plain": [
       "'World!'"
      ]
     },
     "execution_count": 4,
     "metadata": {},
     "output_type": "execute_result"
    }
   ],
   "source": [
    "\"Hello, \"\n",
    "\"World!\""
   ]
  },
  {
   "cell_type": "code",
   "execution_count": 5,
   "metadata": {
    "ExecuteTime": {
     "end_time": "2023-01-20T22:31:06.642511Z",
     "start_time": "2023-01-20T22:31:06.629453Z"
    }
   },
   "outputs": [
    {
     "name": "stdout",
     "output_type": "stream",
     "text": [
      "Hello,\n",
      "World!\n"
     ]
    }
   ],
   "source": [
    "print('Hello,')\n",
    "print('World!')"
   ]
  },
  {
   "cell_type": "markdown",
   "metadata": {},
   "source": [
    "\n",
    "#### Markdown blocks\n",
    "\n",
    "In Jupyter, you can switch a code block to Markdown and type to document your code and allow other people to read it. In fact, the very words you are reading are just a markdown block that has been formatted. Below you will find an unformatted markdown block. With ctrl+enter you can process it. Double clicking on it will turn it back into edit mode.\n"
   ]
  },
  {
   "cell_type": "markdown",
   "metadata": {},
   "source": [
    "##### Example subheading\n",
    "\n",
    "This code is written in markdown so that it can be formatted for human reading.\n",
    "\n",
    "$$y_{i,t}=\\lambda_i'F_t+y_{i,t}^o$$"
   ]
  },
  {
   "cell_type": "markdown",
   "metadata": {},
   "source": [
    "#### Code comments\n",
    "\n",
    "Sometimes I will comment my code. Comments in python appear after the ```#``` operator. Anything on a line after a ```#``` is a comment and is not necessary. These comments are to help you. Great programmers use lots of comments so that other people can their code and so that they know what is happening if they look at it months or years later."
   ]
  },
  {
   "cell_type": "code",
   "execution_count": 17,
   "metadata": {
    "ExecuteTime": {
     "end_time": "2023-01-17T22:17:36.887931Z",
     "start_time": "2023-01-17T22:17:36.873903Z"
    }
   },
   "outputs": [
    {
     "data": {
      "text/plain": [
       "'Hello, World!'"
      ]
     },
     "execution_count": 17,
     "metadata": {},
     "output_type": "execute_result"
    }
   ],
   "source": [
    "\"Hello, World!\" # Here we are showing our first python code\n",
    "# This line is a comment too"
   ]
  },
  {
   "cell_type": "markdown",
   "metadata": {},
   "source": [
    "## Topic: Core python\n",
    "\n",
    "### Data types\t\t\n",
    "\t\n",
    "#### Primitives\t\n",
    "\n",
    "Booleans"
   ]
  },
  {
   "cell_type": "code",
   "execution_count": 6,
   "metadata": {
    "ExecuteTime": {
     "end_time": "2023-01-20T22:36:10.872352Z",
     "start_time": "2023-01-20T22:36:10.857425Z"
    }
   },
   "outputs": [
    {
     "data": {
      "text/plain": [
       "True"
      ]
     },
     "execution_count": 6,
     "metadata": {},
     "output_type": "execute_result"
    }
   ],
   "source": [
    "True"
   ]
  },
  {
   "cell_type": "code",
   "execution_count": 7,
   "metadata": {
    "ExecuteTime": {
     "end_time": "2023-01-20T22:36:15.745894Z",
     "start_time": "2023-01-20T22:36:15.735890Z"
    }
   },
   "outputs": [
    {
     "data": {
      "text/plain": [
       "False"
      ]
     },
     "execution_count": 7,
     "metadata": {},
     "output_type": "execute_result"
    }
   ],
   "source": [
    "False"
   ]
  },
  {
   "cell_type": "code",
   "execution_count": 8,
   "metadata": {
    "ExecuteTime": {
     "end_time": "2023-01-20T22:36:44.640735Z",
     "start_time": "2023-01-20T22:36:44.621761Z"
    }
   },
   "outputs": [
    {
     "data": {
      "text/plain": [
       "False"
      ]
     },
     "execution_count": 8,
     "metadata": {},
     "output_type": "execute_result"
    }
   ],
   "source": [
    "5==4"
   ]
  },
  {
   "cell_type": "code",
   "execution_count": 10,
   "metadata": {
    "ExecuteTime": {
     "end_time": "2023-01-20T22:38:22.703733Z",
     "start_time": "2023-01-20T22:38:22.695902Z"
    }
   },
   "outputs": [
    {
     "data": {
      "text/plain": [
       "True"
      ]
     },
     "execution_count": 10,
     "metadata": {},
     "output_type": "execute_result"
    }
   ],
   "source": [
    "5==5.000"
   ]
  },
  {
   "cell_type": "code",
   "execution_count": 11,
   "metadata": {
    "ExecuteTime": {
     "end_time": "2023-01-20T22:38:43.514192Z",
     "start_time": "2023-01-20T22:38:43.508289Z"
    }
   },
   "outputs": [
    {
     "data": {
      "text/plain": [
       "False"
      ]
     },
     "execution_count": 11,
     "metadata": {},
     "output_type": "execute_result"
    }
   ],
   "source": [
    "0.1+0.2==0.3"
   ]
  },
  {
   "cell_type": "code",
   "execution_count": 14,
   "metadata": {
    "ExecuteTime": {
     "end_time": "2023-01-20T22:40:21.395140Z",
     "start_time": "2023-01-20T22:40:21.388496Z"
    }
   },
   "outputs": [
    {
     "data": {
      "text/plain": [
       "True"
      ]
     },
     "execution_count": 14,
     "metadata": {},
     "output_type": "execute_result"
    }
   ],
   "source": [
    "1==True"
   ]
  },
  {
   "cell_type": "code",
   "execution_count": 15,
   "metadata": {
    "ExecuteTime": {
     "end_time": "2023-01-20T22:40:33.348301Z",
     "start_time": "2023-01-20T22:40:33.330026Z"
    }
   },
   "outputs": [
    {
     "data": {
      "text/plain": [
       "True"
      ]
     },
     "execution_count": 15,
     "metadata": {},
     "output_type": "execute_result"
    }
   ],
   "source": [
    "0==False"
   ]
  },
  {
   "cell_type": "markdown",
   "metadata": {},
   "source": [
    "Strings"
   ]
  },
  {
   "cell_type": "code",
   "execution_count": 17,
   "metadata": {
    "ExecuteTime": {
     "end_time": "2023-01-20T22:41:14.254826Z",
     "start_time": "2023-01-20T22:41:14.250766Z"
    }
   },
   "outputs": [
    {
     "name": "stdout",
     "output_type": "stream",
     "text": [
      "Hello World!\n"
     ]
    }
   ],
   "source": [
    "print(\"Hello World!\")"
   ]
  },
  {
   "cell_type": "code",
   "execution_count": 18,
   "metadata": {
    "ExecuteTime": {
     "end_time": "2023-01-20T22:41:14.954046Z",
     "start_time": "2023-01-20T22:41:14.948214Z"
    }
   },
   "outputs": [
    {
     "data": {
      "text/plain": [
       "'Hello, World!'"
      ]
     },
     "execution_count": 18,
     "metadata": {},
     "output_type": "execute_result"
    }
   ],
   "source": [
    "\"Hello,\" + \" World!\""
   ]
  },
  {
   "cell_type": "code",
   "execution_count": 19,
   "metadata": {
    "ExecuteTime": {
     "end_time": "2023-01-20T22:42:53.383275Z",
     "start_time": "2023-01-20T22:42:53.372225Z"
    }
   },
   "outputs": [
    {
     "data": {
      "text/plain": [
       "str"
      ]
     },
     "execution_count": 19,
     "metadata": {},
     "output_type": "execute_result"
    }
   ],
   "source": [
    "type(\"Hello,\")"
   ]
  },
  {
   "cell_type": "markdown",
   "metadata": {},
   "source": [
    "Numerics"
   ]
  },
  {
   "cell_type": "code",
   "execution_count": 20,
   "metadata": {
    "ExecuteTime": {
     "end_time": "2023-01-20T22:43:33.072853Z",
     "start_time": "2023-01-20T22:43:33.060751Z"
    }
   },
   "outputs": [
    {
     "data": {
      "text/plain": [
       "int"
      ]
     },
     "execution_count": 20,
     "metadata": {},
     "output_type": "execute_result"
    }
   ],
   "source": [
    "type(5) # This is an int"
   ]
  },
  {
   "cell_type": "code",
   "execution_count": 21,
   "metadata": {
    "ExecuteTime": {
     "end_time": "2023-01-20T22:44:09.711310Z",
     "start_time": "2023-01-20T22:44:09.698403Z"
    }
   },
   "outputs": [
    {
     "data": {
      "text/plain": [
       "float"
      ]
     },
     "execution_count": 21,
     "metadata": {},
     "output_type": "execute_result"
    }
   ],
   "source": [
    "type(4.5) # This is a float"
   ]
  },
  {
   "cell_type": "code",
   "execution_count": 22,
   "metadata": {
    "ExecuteTime": {
     "end_time": "2023-01-20T22:45:44.346695Z",
     "start_time": "2023-01-20T22:45:44.338182Z"
    }
   },
   "outputs": [
    {
     "data": {
      "text/plain": [
       "6.0"
      ]
     },
     "execution_count": 22,
     "metadata": {},
     "output_type": "execute_result"
    }
   ],
   "source": [
    "5.4 + 0.6 # Addition"
   ]
  },
  {
   "cell_type": "code",
   "execution_count": 23,
   "metadata": {
    "ExecuteTime": {
     "end_time": "2023-01-20T22:47:13.321227Z",
     "start_time": "2023-01-20T22:47:13.307686Z"
    }
   },
   "outputs": [
    {
     "data": {
      "text/plain": [
       "1.5"
      ]
     },
     "execution_count": 23,
     "metadata": {},
     "output_type": "execute_result"
    }
   ],
   "source": [
    "3/2 # Division"
   ]
  },
  {
   "cell_type": "code",
   "execution_count": 24,
   "metadata": {
    "ExecuteTime": {
     "end_time": "2023-01-20T22:47:26.628473Z",
     "start_time": "2023-01-20T22:47:26.618379Z"
    }
   },
   "outputs": [
    {
     "data": {
      "text/plain": [
       "3.0"
      ]
     },
     "execution_count": 24,
     "metadata": {},
     "output_type": "execute_result"
    }
   ],
   "source": [
    "6/2"
   ]
  },
  {
   "cell_type": "code",
   "execution_count": 24,
   "metadata": {
    "ExecuteTime": {
     "end_time": "2023-01-19T22:33:15.079895Z",
     "start_time": "2023-01-19T22:33:15.062760Z"
    }
   },
   "outputs": [
    {
     "data": {
      "text/plain": [
       "2"
      ]
     },
     "execution_count": 24,
     "metadata": {},
     "output_type": "execute_result"
    }
   ],
   "source": [
    "5//2 # Division w/o remainder"
   ]
  },
  {
   "cell_type": "code",
   "execution_count": 26,
   "metadata": {
    "ExecuteTime": {
     "end_time": "2023-01-20T22:49:38.449804Z",
     "start_time": "2023-01-20T22:49:38.433099Z"
    }
   },
   "outputs": [
    {
     "data": {
      "text/plain": [
       "1"
      ]
     },
     "execution_count": 26,
     "metadata": {},
     "output_type": "execute_result"
    }
   ],
   "source": [
    "7%2 # Remainder (modulus) division"
   ]
  },
  {
   "cell_type": "code",
   "execution_count": 27,
   "metadata": {
    "ExecuteTime": {
     "end_time": "2023-01-20T22:49:47.054682Z",
     "start_time": "2023-01-20T22:49:47.049219Z"
    }
   },
   "outputs": [
    {
     "data": {
      "text/plain": [
       "2"
      ]
     },
     "execution_count": 27,
     "metadata": {},
     "output_type": "execute_result"
    }
   ],
   "source": [
    "8%3"
   ]
  },
  {
   "cell_type": "code",
   "execution_count": 28,
   "metadata": {
    "ExecuteTime": {
     "end_time": "2023-01-20T22:50:39.865763Z",
     "start_time": "2023-01-20T22:50:39.852375Z"
    }
   },
   "outputs": [
    {
     "data": {
      "text/plain": [
       "5"
      ]
     },
     "execution_count": 28,
     "metadata": {},
     "output_type": "execute_result"
    }
   ],
   "source": [
    "7^2 # Some bitwise whatever (don't use)"
   ]
  },
  {
   "cell_type": "code",
   "execution_count": 29,
   "metadata": {
    "ExecuteTime": {
     "end_time": "2023-01-20T22:52:36.044625Z",
     "start_time": "2023-01-20T22:52:36.028509Z"
    }
   },
   "outputs": [
    {
     "data": {
      "text/plain": [
       "49"
      ]
     },
     "execution_count": 29,
     "metadata": {},
     "output_type": "execute_result"
    }
   ],
   "source": [
    "7**2 # Raised to power (do use)"
   ]
  },
  {
   "cell_type": "markdown",
   "metadata": {},
   "source": [
    "Casting"
   ]
  },
  {
   "cell_type": "code",
   "execution_count": 30,
   "metadata": {
    "ExecuteTime": {
     "end_time": "2023-01-20T22:53:29.577496Z",
     "start_time": "2023-01-20T22:53:29.568314Z"
    }
   },
   "outputs": [
    {
     "data": {
      "text/plain": [
       "5"
      ]
     },
     "execution_count": 30,
     "metadata": {},
     "output_type": "execute_result"
    }
   ],
   "source": [
    "int(\"5\")"
   ]
  },
  {
   "cell_type": "code",
   "execution_count": 31,
   "metadata": {
    "ExecuteTime": {
     "end_time": "2023-01-20T22:53:33.001520Z",
     "start_time": "2023-01-20T22:53:32.387721Z"
    }
   },
   "outputs": [
    {
     "ename": "ValueError",
     "evalue": "invalid literal for int() with base 10: '5.0001'",
     "output_type": "error",
     "traceback": [
      "\u001b[1;31m---------------------------------------------------------------------------\u001b[0m",
      "\u001b[1;31mValueError\u001b[0m                                Traceback (most recent call last)",
      "Input \u001b[1;32mIn [31]\u001b[0m, in \u001b[0;36m<cell line: 1>\u001b[1;34m()\u001b[0m\n\u001b[1;32m----> 1\u001b[0m \u001b[38;5;28;43mint\u001b[39;49m\u001b[43m(\u001b[49m\u001b[38;5;124;43m\"\u001b[39;49m\u001b[38;5;124;43m5.0001\u001b[39;49m\u001b[38;5;124;43m\"\u001b[39;49m\u001b[43m)\u001b[49m\n",
      "\u001b[1;31mValueError\u001b[0m: invalid literal for int() with base 10: '5.0001'"
     ]
    }
   ],
   "source": [
    "int(\"5.0001\")"
   ]
  },
  {
   "cell_type": "code",
   "execution_count": 32,
   "metadata": {
    "ExecuteTime": {
     "end_time": "2023-01-20T22:53:46.762681Z",
     "start_time": "2023-01-20T22:53:46.757680Z"
    }
   },
   "outputs": [
    {
     "data": {
      "text/plain": [
       "5.0002"
      ]
     },
     "execution_count": 32,
     "metadata": {},
     "output_type": "execute_result"
    }
   ],
   "source": [
    "float(\"5.0002\")"
   ]
  },
  {
   "cell_type": "code",
   "execution_count": 33,
   "metadata": {
    "ExecuteTime": {
     "end_time": "2023-01-20T22:53:49.446390Z",
     "start_time": "2023-01-20T22:53:49.440877Z"
    }
   },
   "outputs": [
    {
     "data": {
      "text/plain": [
       "0"
      ]
     },
     "execution_count": 33,
     "metadata": {},
     "output_type": "execute_result"
    }
   ],
   "source": [
    "int(False)"
   ]
  },
  {
   "cell_type": "code",
   "execution_count": 34,
   "metadata": {
    "ExecuteTime": {
     "end_time": "2023-01-20T22:53:55.921699Z",
     "start_time": "2023-01-20T22:53:55.914121Z"
    }
   },
   "outputs": [
    {
     "data": {
      "text/plain": [
       "'7'"
      ]
     },
     "execution_count": 34,
     "metadata": {},
     "output_type": "execute_result"
    }
   ],
   "source": [
    "str(7)"
   ]
  },
  {
   "cell_type": "markdown",
   "metadata": {},
   "source": [
    "#### Collections\n",
    "##### Lists (IMPORTANT)\n",
    "\n",
    "The most important collection in python is the list. A list is a collection of things. Those things can have any type, and they can be referenced by an index. It is important to note that python uses zero-based indexing."
   ]
  },
  {
   "cell_type": "code",
   "execution_count": 40,
   "metadata": {
    "ExecuteTime": {
     "end_time": "2023-01-20T22:57:45.415231Z",
     "start_time": "2023-01-20T22:57:45.397954Z"
    }
   },
   "outputs": [
    {
     "data": {
      "text/plain": [
       "9"
      ]
     },
     "execution_count": 40,
     "metadata": {},
     "output_type": "execute_result"
    }
   ],
   "source": [
    "mylist = [5,7,9,11]\n",
    "mylist[2]"
   ]
  },
  {
   "cell_type": "code",
   "execution_count": 47,
   "metadata": {
    "ExecuteTime": {
     "end_time": "2023-01-20T22:58:55.268940Z",
     "start_time": "2023-01-20T22:58:55.261860Z"
    }
   },
   "outputs": [
    {
     "data": {
      "text/plain": [
       "11"
      ]
     },
     "execution_count": 47,
     "metadata": {},
     "output_type": "execute_result"
    }
   ],
   "source": [
    "mylist[-1]"
   ]
  },
  {
   "cell_type": "code",
   "execution_count": 48,
   "metadata": {
    "ExecuteTime": {
     "end_time": "2023-01-20T22:59:31.921638Z",
     "start_time": "2023-01-20T22:59:31.909059Z"
    }
   },
   "outputs": [
    {
     "data": {
      "text/plain": [
       "[9, 11]"
      ]
     },
     "execution_count": 48,
     "metadata": {},
     "output_type": "execute_result"
    }
   ],
   "source": [
    "mylist[2:]"
   ]
  },
  {
   "cell_type": "code",
   "execution_count": 51,
   "metadata": {
    "ExecuteTime": {
     "end_time": "2023-01-20T23:00:21.270326Z",
     "start_time": "2023-01-20T23:00:21.258733Z"
    }
   },
   "outputs": [
    {
     "data": {
      "text/plain": [
       "[5, 7, 9]"
      ]
     },
     "execution_count": 51,
     "metadata": {},
     "output_type": "execute_result"
    }
   ],
   "source": [
    "mylist[:-1]"
   ]
  },
  {
   "cell_type": "code",
   "execution_count": 50,
   "metadata": {
    "ExecuteTime": {
     "end_time": "2023-01-20T23:00:07.569142Z",
     "start_time": "2023-01-20T23:00:07.552185Z"
    }
   },
   "outputs": [
    {
     "data": {
      "text/plain": [
       "[9, 11]"
      ]
     },
     "execution_count": 50,
     "metadata": {},
     "output_type": "execute_result"
    }
   ],
   "source": [
    "mylist[2:4]"
   ]
  },
  {
   "cell_type": "code",
   "execution_count": 52,
   "metadata": {
    "ExecuteTime": {
     "end_time": "2023-01-20T23:00:35.657133Z",
     "start_time": "2023-01-20T23:00:35.636723Z"
    }
   },
   "outputs": [
    {
     "data": {
      "text/plain": [
       "[5, 9, 11]"
      ]
     },
     "execution_count": 52,
     "metadata": {},
     "output_type": "execute_result"
    }
   ],
   "source": [
    "del mylist[1]\n",
    "mylist"
   ]
  },
  {
   "cell_type": "code",
   "execution_count": 53,
   "metadata": {
    "ExecuteTime": {
     "end_time": "2023-01-20T23:00:48.393525Z",
     "start_time": "2023-01-20T23:00:48.376273Z"
    }
   },
   "outputs": [
    {
     "data": {
      "text/plain": [
       "3"
      ]
     },
     "execution_count": 53,
     "metadata": {},
     "output_type": "execute_result"
    }
   ],
   "source": [
    "len(mylist)"
   ]
  },
  {
   "cell_type": "code",
   "execution_count": 59,
   "metadata": {
    "ExecuteTime": {
     "end_time": "2023-01-20T23:03:09.113883Z",
     "start_time": "2023-01-20T23:03:09.106882Z"
    }
   },
   "outputs": [
    {
     "data": {
      "text/plain": [
       "[5, 9, 11, 7, 7]"
      ]
     },
     "execution_count": 59,
     "metadata": {},
     "output_type": "execute_result"
    }
   ],
   "source": [
    "mylist + [7]"
   ]
  },
  {
   "cell_type": "code",
   "execution_count": 55,
   "metadata": {
    "ExecuteTime": {
     "end_time": "2023-01-20T23:01:32.474939Z",
     "start_time": "2023-01-20T23:01:32.461686Z"
    }
   },
   "outputs": [
    {
     "data": {
      "text/plain": [
       "[5, 9, 11]"
      ]
     },
     "execution_count": 55,
     "metadata": {},
     "output_type": "execute_result"
    }
   ],
   "source": [
    "mylist"
   ]
  },
  {
   "cell_type": "code",
   "execution_count": 56,
   "metadata": {
    "ExecuteTime": {
     "end_time": "2023-01-20T23:01:47.075567Z",
     "start_time": "2023-01-20T23:01:47.058430Z"
    }
   },
   "outputs": [],
   "source": [
    "mylist = mylist + [7]"
   ]
  },
  {
   "cell_type": "code",
   "execution_count": 57,
   "metadata": {
    "ExecuteTime": {
     "end_time": "2023-01-20T23:01:49.915622Z",
     "start_time": "2023-01-20T23:01:49.911115Z"
    }
   },
   "outputs": [
    {
     "data": {
      "text/plain": [
       "[5, 9, 11, 7]"
      ]
     },
     "execution_count": 57,
     "metadata": {},
     "output_type": "execute_result"
    }
   ],
   "source": [
    "mylist"
   ]
  },
  {
   "cell_type": "code",
   "execution_count": 60,
   "metadata": {
    "ExecuteTime": {
     "end_time": "2023-01-20T23:03:33.648530Z",
     "start_time": "2023-01-20T23:03:33.644216Z"
    }
   },
   "outputs": [],
   "source": [
    "mylist += [7] # mylist = mylist + [7]"
   ]
  },
  {
   "cell_type": "code",
   "execution_count": 61,
   "metadata": {
    "ExecuteTime": {
     "end_time": "2023-01-20T23:03:39.592894Z",
     "start_time": "2023-01-20T23:03:39.582533Z"
    }
   },
   "outputs": [
    {
     "data": {
      "text/plain": [
       "[5, 9, 11, 7, 7]"
      ]
     },
     "execution_count": 61,
     "metadata": {},
     "output_type": "execute_result"
    }
   ],
   "source": [
    "mylist"
   ]
  },
  {
   "cell_type": "code",
   "execution_count": 64,
   "metadata": {
    "ExecuteTime": {
     "end_time": "2023-01-20T23:04:16.944979Z",
     "start_time": "2023-01-20T23:04:16.927509Z"
    }
   },
   "outputs": [
    {
     "data": {
      "text/plain": [
       "3"
      ]
     },
     "execution_count": 64,
     "metadata": {},
     "output_type": "execute_result"
    }
   ],
   "source": [
    "mylist.index(7)"
   ]
  },
  {
   "cell_type": "code",
   "execution_count": 65,
   "metadata": {
    "ExecuteTime": {
     "end_time": "2023-01-20T23:04:19.102036Z",
     "start_time": "2023-01-20T23:04:19.092334Z"
    }
   },
   "outputs": [
    {
     "data": {
      "text/plain": [
       "[5, 9, 11, 7, 7]"
      ]
     },
     "execution_count": 65,
     "metadata": {},
     "output_type": "execute_result"
    }
   ],
   "source": [
    "mylist"
   ]
  },
  {
   "cell_type": "code",
   "execution_count": 66,
   "metadata": {
    "ExecuteTime": {
     "end_time": "2023-01-20T23:04:21.567739Z",
     "start_time": "2023-01-20T23:04:21.551787Z"
    }
   },
   "outputs": [],
   "source": [
    "mylist.sort()"
   ]
  },
  {
   "cell_type": "code",
   "execution_count": 67,
   "metadata": {
    "ExecuteTime": {
     "end_time": "2023-01-20T23:04:23.428792Z",
     "start_time": "2023-01-20T23:04:23.414766Z"
    }
   },
   "outputs": [
    {
     "data": {
      "text/plain": [
       "[5, 7, 7, 9, 11]"
      ]
     },
     "execution_count": 67,
     "metadata": {},
     "output_type": "execute_result"
    }
   ],
   "source": [
    "mylist"
   ]
  },
  {
   "cell_type": "code",
   "execution_count": 68,
   "metadata": {
    "ExecuteTime": {
     "end_time": "2023-01-20T23:04:25.152559Z",
     "start_time": "2023-01-20T23:04:25.136304Z"
    }
   },
   "outputs": [],
   "source": [
    "mylist.reverse()"
   ]
  },
  {
   "cell_type": "code",
   "execution_count": 69,
   "metadata": {
    "ExecuteTime": {
     "end_time": "2023-01-20T23:04:26.382561Z",
     "start_time": "2023-01-20T23:04:26.370500Z"
    }
   },
   "outputs": [
    {
     "data": {
      "text/plain": [
       "[11, 9, 7, 7, 5]"
      ]
     },
     "execution_count": 69,
     "metadata": {},
     "output_type": "execute_result"
    }
   ],
   "source": [
    "mylist"
   ]
  },
  {
   "cell_type": "markdown",
   "metadata": {},
   "source": [
    "You can find a helpful set of [python list functions here](https://www.programiz.com/python-programming/methods/list).\n",
    "\n",
    "##### Tuples\n",
    "\n",
    "A tuple is a list where you can't change the elements. Why would you want this? It's unclear, but sometimes when writing python we get tuples from other functions or whatever. This means we have to know what tuples are and how to use them.\n",
    "\n",
    "Note: You can convert any tuple or tuple-like object ```A``` to a list with the ```list(A)``` function."
   ]
  },
  {
   "cell_type": "code",
   "execution_count": 70,
   "metadata": {
    "ExecuteTime": {
     "end_time": "2023-01-20T23:06:31.379287Z",
     "start_time": "2023-01-20T23:06:31.364699Z"
    },
    "scrolled": true
   },
   "outputs": [
    {
     "data": {
      "text/plain": [
       "(3, 4, 5)"
      ]
     },
     "execution_count": 70,
     "metadata": {},
     "output_type": "execute_result"
    }
   ],
   "source": [
    "(3,4,5)"
   ]
  },
  {
   "cell_type": "code",
   "execution_count": 74,
   "metadata": {
    "ExecuteTime": {
     "end_time": "2023-01-20T23:06:51.532053Z",
     "start_time": "2023-01-20T23:06:51.518973Z"
    }
   },
   "outputs": [
    {
     "data": {
      "text/plain": [
       "4"
      ]
     },
     "execution_count": 74,
     "metadata": {},
     "output_type": "execute_result"
    }
   ],
   "source": [
    "(3,4,5)[1]"
   ]
  },
  {
   "cell_type": "code",
   "execution_count": 77,
   "metadata": {
    "ExecuteTime": {
     "end_time": "2023-01-20T23:08:08.358821Z",
     "start_time": "2023-01-20T23:08:08.344790Z"
    }
   },
   "outputs": [
    {
     "data": {
      "text/plain": [
       "(3, 4, 5, 6)"
      ]
     },
     "execution_count": 77,
     "metadata": {},
     "output_type": "execute_result"
    }
   ],
   "source": [
    "(3,4,5)+(6,)"
   ]
  },
  {
   "cell_type": "code",
   "execution_count": 78,
   "metadata": {
    "ExecuteTime": {
     "end_time": "2023-01-20T23:08:13.207840Z",
     "start_time": "2023-01-20T23:08:13.188106Z"
    }
   },
   "outputs": [
    {
     "ename": "TypeError",
     "evalue": "'tuple' object does not support item assignment",
     "output_type": "error",
     "traceback": [
      "\u001b[1;31m---------------------------------------------------------------------------\u001b[0m",
      "\u001b[1;31mTypeError\u001b[0m                                 Traceback (most recent call last)",
      "Input \u001b[1;32mIn [78]\u001b[0m, in \u001b[0;36m<cell line: 1>\u001b[1;34m()\u001b[0m\n\u001b[1;32m----> 1\u001b[0m (\u001b[38;5;241m3\u001b[39m,\u001b[38;5;241m4\u001b[39m,\u001b[38;5;241m5\u001b[39m)[\u001b[38;5;241m1\u001b[39m] \u001b[38;5;241m=\u001b[39m \u001b[38;5;241m6\u001b[39m\n",
      "\u001b[1;31mTypeError\u001b[0m: 'tuple' object does not support item assignment"
     ]
    }
   ],
   "source": [
    "(3,4,5)[1] = 6"
   ]
  },
  {
   "cell_type": "code",
   "execution_count": 79,
   "metadata": {
    "ExecuteTime": {
     "end_time": "2023-01-20T23:08:43.957433Z",
     "start_time": "2023-01-20T23:08:43.943356Z"
    }
   },
   "outputs": [
    {
     "data": {
      "text/plain": [
       "4"
      ]
     },
     "execution_count": 79,
     "metadata": {},
     "output_type": "execute_result"
    }
   ],
   "source": [
    "(x,y) = (4,5)\n",
    "x"
   ]
  },
  {
   "cell_type": "code",
   "execution_count": 82,
   "metadata": {
    "ExecuteTime": {
     "end_time": "2023-01-20T23:09:14.663411Z",
     "start_time": "2023-01-20T23:09:14.659350Z"
    }
   },
   "outputs": [
    {
     "data": {
      "text/plain": [
       "5"
      ]
     },
     "execution_count": 82,
     "metadata": {},
     "output_type": "execute_result"
    }
   ],
   "source": [
    "y"
   ]
  },
  {
   "cell_type": "code",
   "execution_count": 83,
   "metadata": {
    "ExecuteTime": {
     "end_time": "2023-01-20T23:09:43.987559Z",
     "start_time": "2023-01-20T23:09:43.977540Z"
    }
   },
   "outputs": [],
   "source": [
    "(x,y) = (y,x)"
   ]
  },
  {
   "cell_type": "code",
   "execution_count": 84,
   "metadata": {
    "ExecuteTime": {
     "end_time": "2023-01-20T23:09:46.148746Z",
     "start_time": "2023-01-20T23:09:46.136259Z"
    }
   },
   "outputs": [
    {
     "data": {
      "text/plain": [
       "5"
      ]
     },
     "execution_count": 84,
     "metadata": {},
     "output_type": "execute_result"
    }
   ],
   "source": [
    "x"
   ]
  },
  {
   "cell_type": "code",
   "execution_count": 85,
   "metadata": {
    "ExecuteTime": {
     "end_time": "2023-01-20T23:09:47.048052Z",
     "start_time": "2023-01-20T23:09:47.042051Z"
    }
   },
   "outputs": [
    {
     "data": {
      "text/plain": [
       "4"
      ]
     },
     "execution_count": 85,
     "metadata": {},
     "output_type": "execute_result"
    }
   ],
   "source": [
    "y"
   ]
  },
  {
   "cell_type": "markdown",
   "metadata": {},
   "source": [
    "##### Sets\n",
    "\n",
    "I don't choose to use sets very often, but they are an interesting concept nonetheless. Sets are unordered lists where any element can only be included once. This basically means that a set in Python has the same definition as a set in mathematics. Programatically, they can be a little strange to work with and there are some caveats to be aware of (if you plan to use them often). However, for our purposes, I will be skipping most of those to make things easier"
   ]
  },
  {
   "cell_type": "code",
   "execution_count": 88,
   "metadata": {
    "ExecuteTime": {
     "end_time": "2023-01-20T23:10:56.989875Z",
     "start_time": "2023-01-20T23:10:56.984326Z"
    }
   },
   "outputs": [
    {
     "data": {
      "text/plain": [
       "{2, 3}"
      ]
     },
     "execution_count": 88,
     "metadata": {},
     "output_type": "execute_result"
    }
   ],
   "source": [
    "{3,2}"
   ]
  },
  {
   "cell_type": "code",
   "execution_count": 89,
   "metadata": {
    "ExecuteTime": {
     "end_time": "2023-01-20T23:11:07.548392Z",
     "start_time": "2023-01-20T23:11:07.533082Z"
    }
   },
   "outputs": [
    {
     "data": {
      "text/plain": [
       "{7, 8, 9, 10, 11}"
      ]
     },
     "execution_count": 89,
     "metadata": {},
     "output_type": "execute_result"
    }
   ],
   "source": [
    "myset = {7,8,9}\n",
    "myset.add(11)\n",
    "myset.add(10)\n",
    "myset.add(7)\n",
    "myset"
   ]
  },
  {
   "cell_type": "code",
   "execution_count": 90,
   "metadata": {
    "ExecuteTime": {
     "end_time": "2023-01-20T23:11:39.866766Z",
     "start_time": "2023-01-20T23:11:39.860704Z"
    }
   },
   "outputs": [
    {
     "data": {
      "text/plain": [
       "[7, 8, 9, 10, 11]"
      ]
     },
     "execution_count": 90,
     "metadata": {},
     "output_type": "execute_result"
    }
   ],
   "source": [
    "list(myset)"
   ]
  },
  {
   "cell_type": "markdown",
   "metadata": {},
   "source": [
    "##### Dictionaries (IMPORTANT)\n",
    "\n",
    "Another fundamental data structure in python is the dictionary. Dictionaries are essentially just a mapping. Every item in a dictionary has a key and is referenced by this key. So if you know the key (like a word in the dictionary) then you can find information about that key (like the definition in the dictionary). [A helpful set of functions relating to dictionaries can be found here.](https://www.programiz.com/python-programming/methods/dictionary)"
   ]
  },
  {
   "cell_type": "code",
   "execution_count": 91,
   "metadata": {
    "ExecuteTime": {
     "end_time": "2023-01-20T23:12:36.057959Z",
     "start_time": "2023-01-20T23:12:36.051971Z"
    }
   },
   "outputs": [
    {
     "data": {
      "text/plain": [
       "1"
      ]
     },
     "execution_count": 91,
     "metadata": {},
     "output_type": "execute_result"
    }
   ],
   "source": [
    "mydict = {'a':1,'b':2,'c':3}\n",
    "mydict['a']"
   ]
  },
  {
   "cell_type": "code",
   "execution_count": 92,
   "metadata": {
    "ExecuteTime": {
     "end_time": "2023-01-20T23:12:38.322316Z",
     "start_time": "2023-01-20T23:12:38.312718Z"
    }
   },
   "outputs": [
    {
     "data": {
      "text/plain": [
       "2"
      ]
     },
     "execution_count": 92,
     "metadata": {},
     "output_type": "execute_result"
    }
   ],
   "source": [
    "mydict['b']"
   ]
  },
  {
   "cell_type": "code",
   "execution_count": 93,
   "metadata": {
    "ExecuteTime": {
     "end_time": "2023-01-20T23:12:45.563415Z",
     "start_time": "2023-01-20T23:12:45.539455Z"
    }
   },
   "outputs": [
    {
     "ename": "KeyError",
     "evalue": "'d'",
     "output_type": "error",
     "traceback": [
      "\u001b[1;31m---------------------------------------------------------------------------\u001b[0m",
      "\u001b[1;31mKeyError\u001b[0m                                  Traceback (most recent call last)",
      "Input \u001b[1;32mIn [93]\u001b[0m, in \u001b[0;36m<cell line: 1>\u001b[1;34m()\u001b[0m\n\u001b[1;32m----> 1\u001b[0m \u001b[43mmydict\u001b[49m\u001b[43m[\u001b[49m\u001b[38;5;124;43m'\u001b[39;49m\u001b[38;5;124;43md\u001b[39;49m\u001b[38;5;124;43m'\u001b[39;49m\u001b[43m]\u001b[49m\n",
      "\u001b[1;31mKeyError\u001b[0m: 'd'"
     ]
    }
   ],
   "source": [
    "mydict['d']"
   ]
  },
  {
   "cell_type": "code",
   "execution_count": 94,
   "metadata": {
    "ExecuteTime": {
     "end_time": "2023-01-20T23:12:52.526917Z",
     "start_time": "2023-01-20T23:12:52.508004Z"
    }
   },
   "outputs": [
    {
     "data": {
      "text/plain": [
       "4"
      ]
     },
     "execution_count": 94,
     "metadata": {},
     "output_type": "execute_result"
    }
   ],
   "source": [
    "mydict['d'] = 4\n",
    "mydict['d']"
   ]
  },
  {
   "cell_type": "code",
   "execution_count": 95,
   "metadata": {
    "ExecuteTime": {
     "end_time": "2023-01-20T23:12:59.686877Z",
     "start_time": "2023-01-20T23:12:59.670405Z"
    }
   },
   "outputs": [
    {
     "ename": "KeyError",
     "evalue": "'e'",
     "output_type": "error",
     "traceback": [
      "\u001b[1;31m---------------------------------------------------------------------------\u001b[0m",
      "\u001b[1;31mKeyError\u001b[0m                                  Traceback (most recent call last)",
      "Input \u001b[1;32mIn [95]\u001b[0m, in \u001b[0;36m<cell line: 1>\u001b[1;34m()\u001b[0m\n\u001b[1;32m----> 1\u001b[0m \u001b[43mmydict\u001b[49m\u001b[43m[\u001b[49m\u001b[38;5;124;43m'\u001b[39;49m\u001b[38;5;124;43me\u001b[39;49m\u001b[38;5;124;43m'\u001b[39;49m\u001b[43m]\u001b[49m\n",
      "\u001b[1;31mKeyError\u001b[0m: 'e'"
     ]
    }
   ],
   "source": [
    "mydict['e']"
   ]
  },
  {
   "cell_type": "code",
   "execution_count": 96,
   "metadata": {
    "ExecuteTime": {
     "end_time": "2023-01-20T23:13:24.157468Z",
     "start_time": "2023-01-20T23:13:24.140057Z"
    }
   },
   "outputs": [
    {
     "data": {
      "text/plain": [
       "-1"
      ]
     },
     "execution_count": 96,
     "metadata": {},
     "output_type": "execute_result"
    }
   ],
   "source": [
    "mydict.get('g',-1) # get with default of -1 if not in dictionary"
   ]
  },
  {
   "cell_type": "code",
   "execution_count": 97,
   "metadata": {
    "ExecuteTime": {
     "end_time": "2023-01-20T23:13:27.921289Z",
     "start_time": "2023-01-20T23:13:27.906119Z"
    }
   },
   "outputs": [
    {
     "data": {
      "text/plain": [
       "3"
      ]
     },
     "execution_count": 97,
     "metadata": {},
     "output_type": "execute_result"
    }
   ],
   "source": [
    "mydict.get('c',-1)"
   ]
  },
  {
   "cell_type": "code",
   "execution_count": 98,
   "metadata": {
    "ExecuteTime": {
     "end_time": "2023-01-20T23:13:38.175012Z",
     "start_time": "2023-01-20T23:13:38.159020Z"
    }
   },
   "outputs": [
    {
     "data": {
      "text/plain": [
       "dict_keys(['a', 'b', 'c', 'd'])"
      ]
     },
     "execution_count": 98,
     "metadata": {},
     "output_type": "execute_result"
    }
   ],
   "source": [
    "mydict.keys()"
   ]
  },
  {
   "cell_type": "code",
   "execution_count": 99,
   "metadata": {
    "ExecuteTime": {
     "end_time": "2023-01-20T23:13:41.306847Z",
     "start_time": "2023-01-20T23:13:41.302079Z"
    }
   },
   "outputs": [
    {
     "data": {
      "text/plain": [
       "dict_values([1, 2, 3, 4])"
      ]
     },
     "execution_count": 99,
     "metadata": {},
     "output_type": "execute_result"
    }
   ],
   "source": [
    "mydict.values()"
   ]
  },
  {
   "cell_type": "markdown",
   "metadata": {},
   "source": [
    "### Control structures\n",
    "#### Conditionals\n",
    "Logical operators:\n",
    "\n",
    "* Equal: ```==```\n",
    "* Not equal: ```!=``` \n",
    "* less than: ```<```\n",
    "* greater than: ```>```\n",
    "* lt or eq: ```<=```\n",
    "* ge or eq: ```>=```\n",
    "* And: ```and```\n",
    "* Or: ```or```\n",
    "* Not: ```not```\n",
    "* Is contained in list: ```in```\n",
    "* List ```A``` is not empty: ```A```"
   ]
  },
  {
   "cell_type": "code",
   "execution_count": 100,
   "metadata": {
    "ExecuteTime": {
     "end_time": "2023-01-20T23:33:51.466315Z",
     "start_time": "2023-01-20T23:33:51.450467Z"
    }
   },
   "outputs": [
    {
     "data": {
      "text/plain": [
       "True"
      ]
     },
     "execution_count": 100,
     "metadata": {},
     "output_type": "execute_result"
    }
   ],
   "source": [
    "5-4 == 1"
   ]
  },
  {
   "cell_type": "code",
   "execution_count": 101,
   "metadata": {
    "ExecuteTime": {
     "end_time": "2023-01-20T23:34:10.024915Z",
     "start_time": "2023-01-20T23:34:10.008488Z"
    }
   },
   "outputs": [
    {
     "data": {
      "text/plain": [
       "True"
      ]
     },
     "execution_count": 101,
     "metadata": {},
     "output_type": "execute_result"
    }
   ],
   "source": [
    "2<3 or 3>=4"
   ]
  },
  {
   "cell_type": "code",
   "execution_count": 111,
   "metadata": {
    "ExecuteTime": {
     "end_time": "2023-01-20T23:36:19.336000Z",
     "start_time": "2023-01-20T23:36:19.328981Z"
    }
   },
   "outputs": [
    {
     "data": {
      "text/plain": [
       "False"
      ]
     },
     "execution_count": 111,
     "metadata": {},
     "output_type": "execute_result"
    }
   ],
   "source": [
    "A = [2,3,4]\n",
    "5 in A"
   ]
  },
  {
   "cell_type": "code",
   "execution_count": 112,
   "metadata": {
    "ExecuteTime": {
     "end_time": "2023-01-20T23:36:19.859438Z",
     "start_time": "2023-01-20T23:36:19.850943Z"
    }
   },
   "outputs": [
    {
     "data": {
      "text/plain": [
       "True"
      ]
     },
     "execution_count": 112,
     "metadata": {},
     "output_type": "execute_result"
    }
   ],
   "source": [
    "bool(A)"
   ]
  },
  {
   "cell_type": "code",
   "execution_count": 113,
   "metadata": {
    "ExecuteTime": {
     "end_time": "2023-01-20T23:36:20.215837Z",
     "start_time": "2023-01-20T23:36:20.209244Z"
    }
   },
   "outputs": [],
   "source": [
    "A = []"
   ]
  },
  {
   "cell_type": "markdown",
   "metadata": {},
   "source": [
    "If clauses"
   ]
  },
  {
   "cell_type": "code",
   "execution_count": 118,
   "metadata": {
    "ExecuteTime": {
     "end_time": "2023-01-20T23:38:22.811104Z",
     "start_time": "2023-01-20T23:38:22.807095Z"
    }
   },
   "outputs": [
    {
     "name": "stdout",
     "output_type": "stream",
     "text": [
      "Its true\n"
     ]
    }
   ],
   "source": [
    "if 3<4:\n",
    "    print('Its true')"
   ]
  },
  {
   "cell_type": "code",
   "execution_count": 121,
   "metadata": {
    "ExecuteTime": {
     "end_time": "2023-01-20T23:39:55.930839Z",
     "start_time": "2023-01-20T23:39:55.921021Z"
    }
   },
   "outputs": [
    {
     "name": "stdout",
     "output_type": "stream",
     "text": [
      "This is the true code\n",
      "This is also true code\n",
      "This runs no matter what\n"
     ]
    }
   ],
   "source": [
    "if 3<4:\n",
    "    print('This is the true code')\n",
    "    print('This is also true code')\n",
    "else:\n",
    "    print('This is the false code')\n",
    "print('This runs no matter what')"
   ]
  },
  {
   "cell_type": "code",
   "execution_count": 125,
   "metadata": {
    "ExecuteTime": {
     "end_time": "2023-01-20T23:42:16.170128Z",
     "start_time": "2023-01-20T23:42:16.156243Z"
    }
   },
   "outputs": [
    {
     "name": "stdout",
     "output_type": "stream",
     "text": [
      "Its less than 6\n",
      "This always runs\n"
     ]
    }
   ],
   "source": [
    "x = 5\n",
    "if x>6:\n",
    "    print('Its greater than 6')\n",
    "elif x==6:\n",
    "    print('Its equal to 6')\n",
    "else:\n",
    "    print('Its less than 6')\n",
    "print('This always runs')"
   ]
  },
  {
   "cell_type": "code",
   "execution_count": 128,
   "metadata": {
    "ExecuteTime": {
     "end_time": "2023-01-20T23:43:11.865036Z",
     "start_time": "2023-01-20T23:43:11.851387Z"
    }
   },
   "outputs": [
    {
     "name": "stdout",
     "output_type": "stream",
     "text": [
      "I have a short name\n",
      "This line always runs\n"
     ]
    }
   ],
   "source": [
    "my_name = \"jason\"\n",
    "if len(my_name)<=3:\n",
    "    print('I have a very short name')\n",
    "elif len(my_name)<=5:\n",
    "    print('I have a short name')\n",
    "elif len(my_name)<=7:\n",
    "    print('I have a normal name')\n",
    "elif len(my_name)<=9:\n",
    "    print('I have a long name')\n",
    "else:\n",
    "    print('I have a very long name')\n",
    "print('This line always runs')"
   ]
  },
  {
   "cell_type": "markdown",
   "metadata": {},
   "source": [
    "Inline if"
   ]
  },
  {
   "cell_type": "code",
   "execution_count": 131,
   "metadata": {
    "ExecuteTime": {
     "end_time": "2023-01-20T23:44:13.396389Z",
     "start_time": "2023-01-20T23:44:13.390301Z"
    }
   },
   "outputs": [
    {
     "data": {
      "text/plain": [
       "0"
      ]
     },
     "execution_count": 131,
     "metadata": {},
     "output_type": "execute_result"
    }
   ],
   "source": [
    "x = 5\n",
    "#=IF(condition,true case,false case)\n",
    "# true_case if condition else false_case\n",
    "1 if x>7 else 0"
   ]
  },
  {
   "cell_type": "markdown",
   "metadata": {},
   "source": [
    "#### Loops\n",
    "While loops"
   ]
  },
  {
   "cell_type": "code",
   "execution_count": 185,
   "metadata": {
    "ExecuteTime": {
     "end_time": "2023-01-21T00:36:22.294464Z",
     "start_time": "2023-01-21T00:36:22.284824Z"
    }
   },
   "outputs": [
    {
     "data": {
      "text/plain": [
       "5040"
      ]
     },
     "execution_count": 185,
     "metadata": {},
     "output_type": "execute_result"
    }
   ],
   "source": [
    "x = 7\n",
    "fact = 1\n",
    "while x>1:\n",
    "    fact *= x  # fact = fact*x\n",
    "    x -= 1     # x = x-1\n",
    "fact"
   ]
  },
  {
   "cell_type": "markdown",
   "metadata": {},
   "source": [
    "For loops"
   ]
  },
  {
   "cell_type": "code",
   "execution_count": 139,
   "metadata": {
    "ExecuteTime": {
     "end_time": "2023-01-20T23:49:51.457575Z",
     "start_time": "2023-01-20T23:49:51.446258Z"
    }
   },
   "outputs": [
    {
     "name": "stdout",
     "output_type": "stream",
     "text": [
      "2 2\n",
      "3 6\n",
      "4 24\n",
      "5 120\n",
      "6 720\n",
      "7 5040\n"
     ]
    },
    {
     "data": {
      "text/plain": [
       "5040"
      ]
     },
     "execution_count": 139,
     "metadata": {},
     "output_type": "execute_result"
    }
   ],
   "source": [
    "x = 7\n",
    "fact = 1\n",
    "for i in range(2,x+1):\n",
    "    fact*=i\n",
    "    print(i,fact)\n",
    "fact"
   ]
  },
  {
   "cell_type": "code",
   "execution_count": 145,
   "metadata": {
    "ExecuteTime": {
     "end_time": "2023-01-20T23:52:12.443371Z",
     "start_time": "2023-01-20T23:52:12.431833Z"
    }
   },
   "outputs": [
    {
     "name": "stdout",
     "output_type": "stream",
     "text": [
      "4\n",
      "6\n",
      "8\n"
     ]
    }
   ],
   "source": [
    "for i in range(4,10,2):\n",
    "    print(i)"
   ]
  },
  {
   "cell_type": "markdown",
   "metadata": {},
   "source": [
    "Inline for   "
   ]
  },
  {
   "cell_type": "code",
   "execution_count": 148,
   "metadata": {
    "ExecuteTime": {
     "end_time": "2023-01-20T23:53:49.420335Z",
     "start_time": "2023-01-20T23:53:49.407561Z"
    }
   },
   "outputs": [
    {
     "data": {
      "text/plain": [
       "[0, 1, 4, 9, 16]"
      ]
     },
     "execution_count": 148,
     "metadata": {},
     "output_type": "execute_result"
    }
   ],
   "source": [
    "[i**2 for i in range(5)]"
   ]
  },
  {
   "cell_type": "markdown",
   "metadata": {},
   "source": [
    "#### User-defined functions\t"
   ]
  },
  {
   "cell_type": "code",
   "execution_count": 150,
   "metadata": {
    "ExecuteTime": {
     "end_time": "2023-01-20T23:57:10.764701Z",
     "start_time": "2023-01-20T23:57:10.759208Z"
    }
   },
   "outputs": [],
   "source": [
    "def square(x):\n",
    "    prod = x**2\n",
    "    return prod"
   ]
  },
  {
   "cell_type": "code",
   "execution_count": 151,
   "metadata": {
    "ExecuteTime": {
     "end_time": "2023-01-20T23:57:12.830891Z",
     "start_time": "2023-01-20T23:57:12.826274Z"
    }
   },
   "outputs": [
    {
     "data": {
      "text/plain": [
       "81"
      ]
     },
     "execution_count": 151,
     "metadata": {},
     "output_type": "execute_result"
    }
   ],
   "source": [
    "square(9)"
   ]
  },
  {
   "cell_type": "code",
   "execution_count": 152,
   "metadata": {
    "ExecuteTime": {
     "end_time": "2023-01-20T23:57:14.332214Z",
     "start_time": "2023-01-20T23:57:14.317106Z"
    }
   },
   "outputs": [
    {
     "data": {
      "text/plain": [
       "36"
      ]
     },
     "execution_count": 152,
     "metadata": {},
     "output_type": "execute_result"
    }
   ],
   "source": [
    "square(6)"
   ]
  },
  {
   "cell_type": "markdown",
   "metadata": {},
   "source": [
    "Lambda notation (in-line function definition)"
   ]
  },
  {
   "cell_type": "code",
   "execution_count": 153,
   "metadata": {
    "ExecuteTime": {
     "end_time": "2023-01-20T23:58:28.165357Z",
     "start_time": "2023-01-20T23:58:28.156232Z"
    }
   },
   "outputs": [
    {
     "data": {
      "text/plain": [
       "25"
      ]
     },
     "execution_count": 153,
     "metadata": {},
     "output_type": "execute_result"
    }
   ],
   "source": [
    "quad = lambda x: x**2\n",
    "quad(5)"
   ]
  },
  {
   "cell_type": "code",
   "execution_count": 154,
   "metadata": {
    "ExecuteTime": {
     "end_time": "2023-01-20T23:58:34.516305Z",
     "start_time": "2023-01-20T23:58:34.501172Z"
    }
   },
   "outputs": [
    {
     "data": {
      "text/plain": [
       "81"
      ]
     },
     "execution_count": 154,
     "metadata": {},
     "output_type": "execute_result"
    }
   ],
   "source": [
    "quad(9)"
   ]
  },
  {
   "cell_type": "markdown",
   "metadata": {},
   "source": [
    "## Data science: Vector geometry\n",
    "\n",
    "### Vector spaces\t\t\n",
    "#### Row vectors vs Column\t\n",
    "Row vector notation (we don't use):\n",
    "$$\n",
    "x=[x_1,\\dots,x_n]\n",
    "$$\n",
    "\n",
    "Column vector notation (we do use):\n",
    "$$\n",
    "x=\n",
    "\\begin{bmatrix}\n",
    "x_1 \\\\\n",
    "\\vdots \\\\\n",
    "x_n\n",
    "\\end{bmatrix}\n",
    "$$\n",
    "\n",
    "#### Addition\n",
    "\n",
    "General formula\n",
    "$$\n",
    "x+y=\n",
    "\\begin{bmatrix}\n",
    "x_1+y_1 \\\\\n",
    "\\vdots \\\\\n",
    "x_n+y_n\n",
    "\\end{bmatrix}\n",
    "$$\n",
    "\n",
    "Example:\n",
    "$$\n",
    "\\begin{bmatrix}\n",
    "2 \\\\\n",
    "1\n",
    "\\end{bmatrix}\n",
    "+\n",
    "\\begin{bmatrix}\n",
    "1 \\\\\n",
    "2\n",
    "\\end{bmatrix}\n",
    "=\n",
    "\\begin{bmatrix}\n",
    "3 \\\\\n",
    "3\n",
    "\\end{bmatrix}\n",
    "$$\n",
    "\n",
    "Geometrically:"
   ]
  },
  {
   "cell_type": "code",
   "execution_count": 60,
   "metadata": {},
   "outputs": [
    {
     "data": {
      "image/png": "[encoded data removed]",
      "text/plain": [
       "<Figure size 432x288 with 1 Axes>"
      ]
     },
     "metadata": {
      "needs_background": "light"
     },
     "output_type": "display_data"
    }
   ],
   "source": [
    "## YOU DO NOT NEED TO KNOW THIS CODE\n",
    "## I AM USING THIS HERE TO MAKE PICTURES\n",
    "## YOU ARE RESPONSIBLE FOR THE PICTURES\n",
    "## YOU WILL LEARN THIS LATER\n",
    "\n",
    "import matplotlib.pyplot as pt\n",
    "import numpy as np\n",
    "%matplotlib inline\n",
    "\n",
    "fig = pt.figure()\n",
    "pt.quiver([0,0,2,1,0],[0,0,1,2,0],[2,1,1,2,3],[1,2,2,1,3]\n",
    "          ,color=['r','b','b','r','g'],units='xy',scale=1)\n",
    "pt.axis('equal')\n",
    "pt.axis('off')\n",
    "pt.ylim(-0,3)\n",
    "pt.show()"
   ]
  },
  {
   "cell_type": "markdown",
   "metadata": {},
   "source": [
    "#### Scalar multiplication\n",
    "\n",
    "$$\n",
    "a\\cdot x=\n",
    "\\begin{bmatrix}\n",
    "a\\cdot x_1 \\\\\n",
    "\\vdots \\\\\n",
    "a\\cdot x_n\n",
    "\\end{bmatrix}\n",
    "$$\n",
    "\n",
    "$$\n",
    "2\\cdot\n",
    "\\begin{bmatrix}\n",
    "2 \\\\\n",
    "1\n",
    "\\end{bmatrix}\n",
    "=\n",
    "\\begin{bmatrix}\n",
    "4 \\\\\n",
    "2\n",
    "\\end{bmatrix}\n",
    "$$"
   ]
  },
  {
   "cell_type": "code",
   "execution_count": 61,
   "metadata": {},
   "outputs": [
    {
     "data": {
      "image/png": "[encoded data removed]",
      "text/plain": [
       "<Figure size 432x288 with 1 Axes>"
      ]
     },
     "metadata": {
      "needs_background": "light"
     },
     "output_type": "display_data"
    }
   ],
   "source": [
    "fig = pt.figure()\n",
    "pt.quiver([0,0],[0,0],[0.75,0.25],[0.75,0.25]\n",
    "          ,color=['r','b'],units='xy',scale=0.5)\n",
    "pt.xlim(-0,3)\n",
    "pt.ylim(-0,3)\n",
    "pt.axis('off')\n",
    "pt.show()"
   ]
  },
  {
   "cell_type": "markdown",
   "metadata": {},
   "source": [
    "#### Linear combination\n",
    "$ax+by$ is a linear combination of $x$ and $y$\n",
    "\n",
    "$a_1 x_1 + \\dots + a_r x_r$ is a linear combination of $x_1,\\dots,x_r$\n",
    "\n",
    "#### Span\n",
    "\n",
    "$$ \n",
    "\\text{Span}(x_1,\\dots, x_r) = \\{\\text{All linear combinations of } x_1,\\dots,x_r\\}\n",
    "$$\n",
    "\n",
    "#### Linear dependence\n",
    "\n",
    "$y$ is linearly dependent on $x_1,\\dots,x_r$ if and only if $y$ can be expressed as a linear combination of $x_1,\\dots,x_r$ \n",
    "\n",
    "$y$ is linearly independent of $x_1,\\dots,x_r$ if and only if $y$ cannot be expressed as a linear combination of $x_1,\\dots,x_r$ \n",
    "\n",
    "#### Linear independent set\n",
    "\n",
    "$x_1,\\dots,x_r$ are linearly independent if none of vectors $x_j$ for $j = 1,\\dots,r$ are linearly dependent on the other vectors(i.e.,$\\{x_k | k\\neq j\\}$)"
   ]
  },
  {
   "cell_type": "markdown",
   "metadata": {},
   "source": [
    "### Vector Measures\n",
    "#### Norms\n",
    "\n",
    "$L_p$ norm:\n",
    "$$\\left\\Vert x\\right\\Vert_p=\\left(\\sum_{i=1}^r |x_i|^p\\right)^{1/p}$$\n",
    "\n",
    "Euclidean norm:\n",
    "$$\\left\\Vert x\\right\\Vert=\\left\\Vert x\\right\\Vert_2=\\sqrt{\\sum_{i=1}^r x_i^2}$$\n",
    "#### Inner product\n",
    "\n",
    "$$\\langle x,y\\rangle=\\sum_{i=1}^r x_i y_i$$\n",
    "$$\\left\\Vert x\\right\\Vert=\\sqrt{\\langle x,x\\rangle}$$\n",
    "#### Orthogonality (perpendicular)\n",
    "$$x\\perp y \\Longleftrightarrow \\langle x,y\\rangle=0$$ \n",
    "#### Cosine law\n",
    "$$\\cos\\theta=\\frac{\\langle x,y\\rangle}{\\left\\Vert x\\right\\Vert\\left\\Vert y\\right\\Vert}$$\n",
    "where $\\theta$ is the angle between $x$ and $y$"
   ]
  },
  {
   "cell_type": "markdown",
   "metadata": {},
   "source": [
    "## Programming challenges"
   ]
  },
  {
   "cell_type": "markdown",
   "metadata": {},
   "source": [
    "### FizzBuzz\t\t\t\n",
    "\n",
    "Print out a sequence of numbers $1,2,\\dots,99$ on multiples of $3$ print ```Fizz``` instead of the number. On multiples of $5$ print ```Buzz``` instead of the number. At $15$ or any multiple of both, print ```FizzBuzz```. On multiples of $7$ print ```Jazz``` instead of the number. At $21$ or any multiple of both, print ```FizzJazz```. At $35$ or any multiple of both, print ```BuzzJazz```. At $105$ or any multiple of all three, print ```FizzBuzzJazz```. "
   ]
  },
  {
   "cell_type": "code",
   "execution_count": 175,
   "metadata": {
    "ExecuteTime": {
     "end_time": "2023-01-21T00:23:16.148299Z",
     "start_time": "2023-01-21T00:23:16.138090Z"
    }
   },
   "outputs": [
    {
     "name": "stdout",
     "output_type": "stream",
     "text": [
      "1\n",
      "2\n",
      "Fizz\n",
      "4\n",
      "Buzz\n",
      "Fizz\n",
      "7\n",
      "8\n",
      "Fizz\n",
      "Buzz\n",
      "11\n",
      "Fizz\n",
      "13\n",
      "14\n",
      "FizzBuzz\n",
      "16\n",
      "17\n",
      "Fizz\n",
      "19\n",
      "Buzz\n",
      "Fizz\n",
      "22\n",
      "23\n",
      "Fizz\n",
      "Buzz\n",
      "26\n",
      "Fizz\n",
      "28\n",
      "29\n",
      "FizzBuzz\n",
      "31\n",
      "32\n",
      "Fizz\n",
      "34\n",
      "Buzz\n",
      "Fizz\n",
      "37\n",
      "38\n",
      "Fizz\n",
      "Buzz\n",
      "41\n",
      "Fizz\n",
      "43\n",
      "44\n",
      "FizzBuzz\n",
      "46\n",
      "47\n",
      "Fizz\n",
      "49\n",
      "Buzz\n",
      "Fizz\n",
      "52\n",
      "53\n",
      "Fizz\n",
      "Buzz\n",
      "56\n",
      "Fizz\n",
      "58\n",
      "59\n",
      "FizzBuzz\n",
      "61\n",
      "62\n",
      "Fizz\n",
      "64\n",
      "Buzz\n",
      "Fizz\n",
      "67\n",
      "68\n",
      "Fizz\n",
      "Buzz\n",
      "71\n",
      "Fizz\n",
      "73\n",
      "74\n",
      "FizzBuzz\n",
      "76\n",
      "77\n",
      "Fizz\n",
      "79\n",
      "Buzz\n",
      "Fizz\n",
      "82\n",
      "83\n",
      "Fizz\n",
      "Buzz\n",
      "86\n",
      "Fizz\n",
      "88\n",
      "89\n",
      "FizzBuzz\n",
      "91\n",
      "92\n",
      "Fizz\n",
      "94\n",
      "Buzz\n",
      "Fizz\n",
      "97\n",
      "98\n",
      "Fizz\n"
     ]
    }
   ],
   "source": [
    "for x in range(1,100):\n",
    "    if x%3==0 and x%5==0:\n",
    "        print('FizzBuzz')\n",
    "    if x%3==0 and x%5!=0:\n",
    "        print('Fizz')\n",
    "    if x%3!=0 and x%5==0:\n",
    "        print('Buzz')\n",
    "    if x%3!=0 and x%5!=0:\n",
    "        print(x)"
   ]
  },
  {
   "cell_type": "code",
   "execution_count": 176,
   "metadata": {
    "ExecuteTime": {
     "end_time": "2023-01-21T00:25:59.615653Z",
     "start_time": "2023-01-21T00:25:59.583906Z"
    }
   },
   "outputs": [
    {
     "name": "stdout",
     "output_type": "stream",
     "text": [
      "1\n",
      "2\n",
      "Fizz\n",
      "4\n",
      "Buzz\n",
      "Fizz\n",
      "Jazz\n",
      "8\n",
      "Fizz\n",
      "Buzz\n",
      "11\n",
      "Fizz\n",
      "13\n",
      "Jazz\n",
      "FizzBuzz\n",
      "16\n",
      "17\n",
      "Fizz\n",
      "19\n",
      "Buzz\n",
      "FizzJazz\n",
      "22\n",
      "23\n",
      "Fizz\n",
      "Buzz\n",
      "26\n",
      "Fizz\n",
      "Jazz\n",
      "29\n",
      "FizzBuzz\n",
      "31\n",
      "32\n",
      "Fizz\n",
      "34\n",
      "BuzzJazz\n",
      "Fizz\n",
      "37\n",
      "38\n",
      "Fizz\n",
      "Buzz\n",
      "41\n",
      "FizzJazz\n",
      "43\n",
      "44\n",
      "FizzBuzz\n",
      "46\n",
      "47\n",
      "Fizz\n",
      "Jazz\n",
      "Buzz\n",
      "Fizz\n",
      "52\n",
      "53\n",
      "Fizz\n",
      "Buzz\n",
      "Jazz\n",
      "Fizz\n",
      "58\n",
      "59\n",
      "FizzBuzz\n",
      "61\n",
      "62\n",
      "FizzJazz\n",
      "64\n",
      "Buzz\n",
      "Fizz\n",
      "67\n",
      "68\n",
      "Fizz\n",
      "BuzzJazz\n",
      "71\n",
      "Fizz\n",
      "73\n",
      "74\n",
      "FizzBuzz\n",
      "76\n",
      "Jazz\n",
      "Fizz\n",
      "79\n",
      "Buzz\n",
      "Fizz\n",
      "82\n",
      "83\n",
      "FizzJazz\n",
      "Buzz\n",
      "86\n",
      "Fizz\n",
      "88\n",
      "89\n",
      "FizzBuzz\n",
      "Jazz\n",
      "92\n",
      "Fizz\n",
      "94\n",
      "Buzz\n",
      "Fizz\n",
      "97\n",
      "Jazz\n",
      "Fizz\n"
     ]
    }
   ],
   "source": [
    "for x in range(1,100):\n",
    "    if x%3==0 and x%5==0 and x%7==0:\n",
    "        print('FizzBuzzJazz')\n",
    "    if x%3==0 and x%5!=0 and x%7==0:\n",
    "        print('FizzJazz')\n",
    "    if x%3!=0 and x%5==0 and x%7==0:\n",
    "        print('BuzzJazz')\n",
    "    if x%3!=0 and x%5!=0 and x%7==0:\n",
    "        print('Jazz')\n",
    "    if x%3==0 and x%5==0 and x%7!=0:\n",
    "        print('FizzBuzz')\n",
    "    if x%3==0 and x%5!=0 and x%7!=0:\n",
    "        print('Fizz')\n",
    "    if x%3!=0 and x%5==0 and x%7!=0:\n",
    "        print('Buzz')\n",
    "    if x%3!=0 and x%5!=0 and x%7!=0:\n",
    "        print(x)"
   ]
  },
  {
   "cell_type": "code",
   "execution_count": 179,
   "metadata": {
    "ExecuteTime": {
     "end_time": "2023-01-21T00:28:23.943344Z",
     "start_time": "2023-01-21T00:28:23.918647Z"
    }
   },
   "outputs": [
    {
     "name": "stdout",
     "output_type": "stream",
     "text": [
      "1\n",
      "2\n",
      "Fizz\n",
      "4\n",
      "Buzz\n",
      "Fizz\n",
      "Jazz\n",
      "8\n",
      "Fizz\n",
      "Buzz\n",
      "Blazz\n",
      "Fizz\n",
      "13\n",
      "Jazz\n",
      "FizzBuzz\n",
      "16\n",
      "17\n",
      "Fizz\n",
      "19\n",
      "Buzz\n",
      "FizzJazz\n",
      "Blazz\n",
      "23\n",
      "Fizz\n",
      "Buzz\n",
      "26\n",
      "Fizz\n",
      "Jazz\n",
      "29\n",
      "FizzBuzz\n",
      "31\n",
      "32\n",
      "FizzBlazz\n",
      "34\n",
      "BuzzJazz\n",
      "Fizz\n",
      "37\n",
      "38\n",
      "Fizz\n",
      "Buzz\n",
      "41\n",
      "FizzJazz\n",
      "43\n",
      "Blazz\n",
      "FizzBuzz\n",
      "46\n",
      "47\n",
      "Fizz\n",
      "Jazz\n",
      "Buzz\n",
      "Fizz\n",
      "52\n",
      "53\n",
      "Fizz\n",
      "BuzzBlazz\n",
      "Jazz\n",
      "Fizz\n",
      "58\n",
      "59\n",
      "FizzBuzz\n",
      "61\n",
      "62\n",
      "FizzJazz\n",
      "64\n",
      "Buzz\n",
      "FizzBlazz\n",
      "67\n",
      "68\n",
      "Fizz\n",
      "BuzzJazz\n",
      "71\n",
      "Fizz\n",
      "73\n",
      "74\n",
      "FizzBuzz\n",
      "76\n",
      "JazzBlazz\n",
      "Fizz\n",
      "79\n",
      "Buzz\n",
      "Fizz\n",
      "82\n",
      "83\n",
      "FizzJazz\n",
      "Buzz\n",
      "86\n",
      "Fizz\n",
      "Blazz\n",
      "89\n",
      "FizzBuzz\n",
      "Jazz\n",
      "92\n",
      "Fizz\n",
      "94\n",
      "Buzz\n",
      "Fizz\n",
      "97\n",
      "Jazz\n",
      "FizzBlazz\n"
     ]
    }
   ],
   "source": [
    "for x in range(1,100):\n",
    "    outstr = ''\n",
    "    if x%3==0: outstr += 'Fizz'\n",
    "    if x%5==0: outstr += 'Buzz'\n",
    "    if x%7==0: outstr += 'Jazz'\n",
    "    if len(outstr)==0: outstr += str(x)\n",
    "    print(outstr)"
   ]
  },
  {
   "cell_type": "code",
   "execution_count": 181,
   "metadata": {
    "ExecuteTime": {
     "end_time": "2023-01-21T00:30:27.337300Z",
     "start_time": "2023-01-21T00:30:27.320073Z"
    }
   },
   "outputs": [
    {
     "name": "stdout",
     "output_type": "stream",
     "text": [
      "1\n",
      "2\n",
      "Fizz\n",
      "4\n",
      "Buzz\n",
      "Fizz\n",
      "Jazz\n",
      "8\n",
      "Fizz\n",
      "Buzz\n",
      "Blazz\n",
      "Fizz\n",
      "13\n",
      "Jazz\n",
      "FizzBuzz\n",
      "16\n",
      "17\n",
      "Fizz\n",
      "19\n",
      "Buzz\n",
      "FizzJazz\n",
      "Blazz\n",
      "23\n",
      "Fizz\n",
      "Buzz\n",
      "26\n",
      "Fizz\n",
      "Jazz\n",
      "29\n",
      "FizzBuzz\n",
      "31\n",
      "32\n",
      "FizzBlazz\n",
      "34\n",
      "BuzzJazz\n",
      "Fizz\n",
      "37\n",
      "38\n",
      "Fizz\n",
      "Buzz\n",
      "41\n",
      "FizzJazz\n",
      "43\n",
      "Blazz\n",
      "FizzBuzz\n",
      "46\n",
      "47\n",
      "Fizz\n",
      "Jazz\n",
      "Buzz\n",
      "Fizz\n",
      "52\n",
      "53\n",
      "Fizz\n",
      "BuzzBlazz\n",
      "Jazz\n",
      "Fizz\n",
      "58\n",
      "59\n",
      "FizzBuzz\n",
      "61\n",
      "62\n",
      "FizzJazz\n",
      "64\n",
      "Buzz\n",
      "FizzBlazz\n",
      "67\n",
      "68\n",
      "Fizz\n",
      "BuzzJazz\n",
      "71\n",
      "Fizz\n",
      "73\n",
      "74\n",
      "FizzBuzz\n",
      "76\n",
      "JazzBlazz\n",
      "Fizz\n",
      "79\n",
      "Buzz\n",
      "Fizz\n",
      "82\n",
      "83\n",
      "FizzJazz\n",
      "Buzz\n",
      "86\n",
      "Fizz\n",
      "Blazz\n",
      "89\n",
      "FizzBuzz\n",
      "Jazz\n",
      "92\n",
      "Fizz\n",
      "94\n",
      "Buzz\n",
      "Fizz\n",
      "97\n",
      "Jazz\n",
      "FizzBlazz\n"
     ]
    }
   ],
   "source": [
    "mydict = {3:'Fizz',5:'Buzz',7:'Jazz'}\n",
    "for x in range(1,100):\n",
    "    outstr = ''\n",
    "    for key in mydict.keys():\n",
    "        if x%key==0: outstr += mydict[key]\n",
    "    if len(outstr)==0: outstr += str(x)\n",
    "    print(outstr)"
   ]
  },
  {
   "cell_type": "markdown",
   "metadata": {},
   "source": [
    "### Hailstone numbers\t\t\n",
    "\n",
    "$$\n",
    "x_{n+1} = \n",
    "\\Bigg\\{\n",
    "\\begin{matrix}\n",
    "x_n/2 & \\text{if } x_n \\text{ even}\\\\\n",
    "3x_n+1 & \\text{otherwise}\n",
    "\\end{matrix}\n",
    "$$\n",
    "\n",
    "For a given starting value $x_0$, the hailstone number is how many steps it takes for the above sequence to first reach the number $1$. Calculate the hailstone number for every value from 1 to 100. Try to make your code run as fast as possible."
   ]
  },
  {
   "cell_type": "raw",
   "metadata": {},
   "source": [
    "1 : 0\n",
    "2 -> 1 : 1\n",
    "3 -> 10 -> 5 -> 16 -> 8 -> 4 -> 2 -> 1 : 7\n",
    "4 -> 2 -> 1 : 2\n",
    "5 -> 16 -> 8 -> 4 -> 2 -> 1 : 5"
   ]
  },
  {
   "cell_type": "code",
   "execution_count": 18,
   "metadata": {
    "ExecuteTime": {
     "end_time": "2023-01-27T22:11:27.555854Z",
     "start_time": "2023-01-27T22:11:20.910977Z"
    }
   },
   "outputs": [
    {
     "name": "stdout",
     "output_type": "stream",
     "text": [
      "829 ms ± 5.57 ms per loop (mean ± std. dev. of 7 runs, 1 loop each)\n"
     ]
    }
   ],
   "source": [
    "%%timeit\n",
    "hail = [-1]\n",
    "for start in range(1,100000):\n",
    "    x = start\n",
    "    count = 0\n",
    "    while x>1:\n",
    "        x = x//2 if x%2==0 else 3*x+1\n",
    "        count += 1\n",
    "    hail += [count]"
   ]
  },
  {
   "cell_type": "code",
   "execution_count": 19,
   "metadata": {
    "ExecuteTime": {
     "end_time": "2023-01-27T22:14:57.229861Z",
     "start_time": "2023-01-27T22:14:52.492882Z"
    }
   },
   "outputs": [
    {
     "name": "stdout",
     "output_type": "stream",
     "text": [
      "58.3 ms ± 283 µs per loop (mean ± std. dev. of 7 runs, 10 loops each)\n"
     ]
    }
   ],
   "source": [
    "%%timeit\n",
    "hail = [-1]\n",
    "for start in range(1,100000):\n",
    "    x = start\n",
    "    count = 0\n",
    "    while x>1:\n",
    "        if x<start:\n",
    "            count += hail[x]\n",
    "            break\n",
    "        x = x//2 if x%2==0 else 3*x+1\n",
    "        count += 1\n",
    "    hail += [count]"
   ]
  },
  {
   "cell_type": "code",
   "execution_count": 23,
   "metadata": {
    "ExecuteTime": {
     "end_time": "2023-01-27T22:21:08.813918Z",
     "start_time": "2023-01-27T22:21:02.498044Z"
    }
   },
   "outputs": [
    {
     "name": "stdout",
     "output_type": "stream",
     "text": [
      "77.6 ms ± 737 µs per loop (mean ± std. dev. of 7 runs, 10 loops each)\n"
     ]
    }
   ],
   "source": [
    "%%timeit\n",
    "hail = {1:0}\n",
    "for start in range(1,100000):\n",
    "    x = start\n",
    "    count = 0\n",
    "    lst = []\n",
    "    while x not in hail.keys():\n",
    "        lst += [x]\n",
    "        x = x//2 if x%2==0 else 3*x+1\n",
    "        count += 1\n",
    "    count += hail[x]\n",
    "    for x in lst:\n",
    "        hail[x] = count\n",
    "        count -= 1"
   ]
  },
  {
   "cell_type": "markdown",
   "metadata": {},
   "source": [
    "### Pascal's triangle\n",
    "\n",
    "Write a program to print out the first 10 lines of Pascal's triangle."
   ]
  },
  {
   "cell_type": "raw",
   "metadata": {},
   "source": [
    "1\n",
    "1 1\n",
    "1 2 1\n",
    "1 3 3 1\n",
    "1 4 6 4 1\n",
    "1 5 10 10 5 1"
   ]
  },
  {
   "cell_type": "code",
   "execution_count": 31,
   "metadata": {
    "ExecuteTime": {
     "end_time": "2023-01-27T22:36:31.881778Z",
     "start_time": "2023-01-27T22:36:31.873781Z"
    }
   },
   "outputs": [
    {
     "name": "stdout",
     "output_type": "stream",
     "text": [
      "[1]\n",
      "[1, 1]\n",
      "[1, 2, 1]\n",
      "[1, 3, 3, 1]\n",
      "[1, 4, 6, 4, 1]\n",
      "[1, 5, 10, 10, 5, 1]\n",
      "[1, 6, 15, 20, 15, 6, 1]\n",
      "[1, 7, 21, 35, 35, 21, 7, 1]\n",
      "[1, 8, 28, 56, 70, 56, 28, 8, 1]\n",
      "[1, 9, 36, 84, 126, 126, 84, 36, 9, 1]\n",
      "[1, 10, 45, 120, 210, 252, 210, 120, 45, 10, 1]\n"
     ]
    }
   ],
   "source": [
    "lst = [1]\n",
    "print(lst)\n",
    "for j in range(10):\n",
    "    newlst = [1]\n",
    "    for i in range(len(lst)-1):\n",
    "        newlst += [lst[i]+lst[i+1]]\n",
    "    newlst += [1]\n",
    "    lst = newlst\n",
    "    print(lst)"
   ]
  },
  {
   "cell_type": "code",
   "execution_count": 32,
   "metadata": {
    "ExecuteTime": {
     "end_time": "2023-01-27T22:37:29.745393Z",
     "start_time": "2023-01-27T22:37:29.737651Z"
    }
   },
   "outputs": [],
   "source": [
    "for i in range(0):\n",
    "    print(i)"
   ]
  },
  {
   "cell_type": "code",
   "execution_count": 33,
   "metadata": {
    "ExecuteTime": {
     "end_time": "2023-01-27T22:39:43.138203Z",
     "start_time": "2023-01-27T22:39:43.120637Z"
    }
   },
   "outputs": [
    {
     "name": "stdout",
     "output_type": "stream",
     "text": [
      "[1]\n",
      "[1, 1]\n",
      "[1, 2, 1]\n",
      "[1, 3, 3, 1]\n",
      "[1, 4, 6, 4, 1]\n",
      "[1, 5, 10, 10, 5, 1]\n",
      "[1, 6, 15, 20, 15, 6, 1]\n",
      "[1, 7, 21, 35, 35, 21, 7, 1]\n",
      "[1, 8, 28, 56, 70, 56, 28, 8, 1]\n",
      "[1, 9, 36, 84, 126, 126, 84, 36, 9, 1]\n",
      "[1, 10, 45, 120, 210, 252, 210, 120, 45, 10, 1]\n"
     ]
    }
   ],
   "source": [
    "lst = [1]\n",
    "print(lst)\n",
    "for j in range(10):\n",
    "    lst = [1] + [lst[i]+lst[i+1] for i in range(len(lst)-1)] + [1]\n",
    "    print(lst)"
   ]
  }
 ],
 "metadata": {
  "kernelspec": {
   "display_name": "Python 3 (ipykernel)",
   "language": "python",
   "name": "python3"
  },
  "language_info": {
   "codemirror_mode": {
    "name": "ipython",
    "version": 3
   },
   "file_extension": ".py",
   "mimetype": "text/x-python",
   "name": "python",
   "nbconvert_exporter": "python",
   "pygments_lexer": "ipython3",
   "version": "3.9.12"
  },
  "toc": {
   "base_numbering": 1,
   "nav_menu": {},
   "number_sections": true,
   "sideBar": true,
   "skip_h1_title": false,
   "title_cell": "Table of Contents",
   "title_sidebar": "Contents",
   "toc_cell": false,
   "toc_position": {},
   "toc_section_display": true,
   "toc_window_display": false
  },
  "varInspector": {
   "cols": {
    "lenName": 16,
    "lenType": 16,
    "lenVar": 40
   },
   "kernels_config": {
    "python": {
     "delete_cmd_postfix": "",
     "delete_cmd_prefix": "del ",
     "library": "var_list.py",
     "varRefreshCmd": "print(var_dic_list())"
    },
    "r": {
     "delete_cmd_postfix": ") ",
     "delete_cmd_prefix": "rm(",
     "library": "var_list.r",
     "varRefreshCmd": "cat(var_dic_list()) "
    }
   },
   "types_to_exclude": [
    "module",
    "function",
    "builtin_function_or_method",
    "instance",
    "_Feature"
   ],
   "window_display": false
  }
 },
 "nbformat": 4,
 "nbformat_minor": 2
}
