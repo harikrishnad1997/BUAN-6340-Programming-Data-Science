{
 "cells": [
  {
   "cell_type": "markdown",
   "metadata": {},
   "source": [
    "<div style=\"text-align:center\"><span style=\"font-size:2em; font-weight: bold;\">Lecture 4—Object oriented programming</span></div>"
   ]
  },
  {
   "cell_type": "markdown",
   "metadata": {},
   "source": [
    "# Programming: Pandas\n",
    "\n",
    "* [Introduction to Pandas](lec4files/03.00-Introduction-to-Pandas.ipynb)\n",
    "* [Introducing Pandas Objects](lec4files/03.01-Introducing-Pandas-Objects.ipynb)\n",
    "* [Data Indexing and Selection](lec4files/03.02-Data-Indexing-and-Selection.ipynb)\n",
    "* [Missing Values](lec4files/03.04-Missing-Values.ipynb)\n",
    "* [Concat And Append](lec4files/03.06-Concat-And-Append.ipynb)\n",
    "* [Merge and Join](lec4files/03.07-Merge-and-Join.ipynb)\n",
    "* [Aggregation and Grouping](lec4files/03.08-Aggregation-and-Grouping.ipynb)\n",
    "* [Working With Strings](lec4files/03.10-Working-With-Strings.ipynb)\n",
    "* [Working with Time Series](lec4files/03.11-Working-with-Time-Series.ipynb)\n",
    "* [Performance Eval and Query](lec4files/03.12-Performance-Eval-and-Query.ipynb)\n",
    "* [Further Resources](lec4files/03.13-Further-Resources.ipynb)\n"
   ]
  },
  {
   "cell_type": "markdown",
   "metadata": {},
   "source": [
    "## Examples"
   ]
  },
  {
   "cell_type": "code",
   "execution_count": 12,
   "metadata": {
    "ExecuteTime": {
     "end_time": "2023-02-24T22:44:38.501659Z",
     "start_time": "2023-02-24T22:44:37.979283Z"
    }
   },
   "outputs": [],
   "source": [
    "import numpy as np\n",
    "import pandas as pd"
   ]
  },
  {
   "cell_type": "code",
   "execution_count": 13,
   "metadata": {
    "ExecuteTime": {
     "end_time": "2023-02-24T22:44:38.533546Z",
     "start_time": "2023-02-24T22:44:38.502718Z"
    }
   },
   "outputs": [
    {
     "data": {
      "text/html": [
       "<div>\n",
       "<style scoped>\n",
       "    .dataframe tbody tr th:only-of-type {\n",
       "        vertical-align: middle;\n",
       "    }\n",
       "\n",
       "    .dataframe tbody tr th {\n",
       "        vertical-align: top;\n",
       "    }\n",
       "\n",
       "    .dataframe thead th {\n",
       "        text-align: right;\n",
       "    }\n",
       "</style>\n",
       "<table border=\"1\" class=\"dataframe\">\n",
       "  <thead>\n",
       "    <tr style=\"text-align: right;\">\n",
       "      <th></th>\n",
       "      <th>faminc</th>\n",
       "      <th>cigtax</th>\n",
       "      <th>cigprice</th>\n",
       "      <th>bwght</th>\n",
       "      <th>fatheduc</th>\n",
       "      <th>motheduc</th>\n",
       "      <th>parity</th>\n",
       "      <th>male</th>\n",
       "      <th>white</th>\n",
       "      <th>cigs</th>\n",
       "      <th>lbwght</th>\n",
       "      <th>bwghtlbs</th>\n",
       "      <th>packs</th>\n",
       "      <th>lfaminc</th>\n",
       "    </tr>\n",
       "  </thead>\n",
       "  <tbody>\n",
       "    <tr>\n",
       "      <th>0</th>\n",
       "      <td>13.5</td>\n",
       "      <td>16.5</td>\n",
       "      <td>122.3</td>\n",
       "      <td>109</td>\n",
       "      <td>12.0</td>\n",
       "      <td>12.0</td>\n",
       "      <td>1</td>\n",
       "      <td>1</td>\n",
       "      <td>1</td>\n",
       "      <td>0</td>\n",
       "      <td>4.691348</td>\n",
       "      <td>6.8125</td>\n",
       "      <td>0.0</td>\n",
       "      <td>2.602690</td>\n",
       "    </tr>\n",
       "    <tr>\n",
       "      <th>1</th>\n",
       "      <td>7.5</td>\n",
       "      <td>16.5</td>\n",
       "      <td>122.3</td>\n",
       "      <td>133</td>\n",
       "      <td>6.0</td>\n",
       "      <td>12.0</td>\n",
       "      <td>2</td>\n",
       "      <td>1</td>\n",
       "      <td>0</td>\n",
       "      <td>0</td>\n",
       "      <td>4.890349</td>\n",
       "      <td>8.3125</td>\n",
       "      <td>0.0</td>\n",
       "      <td>2.014903</td>\n",
       "    </tr>\n",
       "    <tr>\n",
       "      <th>2</th>\n",
       "      <td>0.5</td>\n",
       "      <td>16.5</td>\n",
       "      <td>122.3</td>\n",
       "      <td>129</td>\n",
       "      <td>NaN</td>\n",
       "      <td>12.0</td>\n",
       "      <td>2</td>\n",
       "      <td>0</td>\n",
       "      <td>0</td>\n",
       "      <td>0</td>\n",
       "      <td>4.859812</td>\n",
       "      <td>8.0625</td>\n",
       "      <td>0.0</td>\n",
       "      <td>-0.693147</td>\n",
       "    </tr>\n",
       "    <tr>\n",
       "      <th>3</th>\n",
       "      <td>15.5</td>\n",
       "      <td>16.5</td>\n",
       "      <td>122.3</td>\n",
       "      <td>126</td>\n",
       "      <td>12.0</td>\n",
       "      <td>12.0</td>\n",
       "      <td>2</td>\n",
       "      <td>1</td>\n",
       "      <td>0</td>\n",
       "      <td>0</td>\n",
       "      <td>4.836282</td>\n",
       "      <td>7.8750</td>\n",
       "      <td>0.0</td>\n",
       "      <td>2.740840</td>\n",
       "    </tr>\n",
       "    <tr>\n",
       "      <th>4</th>\n",
       "      <td>27.5</td>\n",
       "      <td>16.5</td>\n",
       "      <td>122.3</td>\n",
       "      <td>134</td>\n",
       "      <td>14.0</td>\n",
       "      <td>12.0</td>\n",
       "      <td>2</td>\n",
       "      <td>1</td>\n",
       "      <td>1</td>\n",
       "      <td>0</td>\n",
       "      <td>4.897840</td>\n",
       "      <td>8.3750</td>\n",
       "      <td>0.0</td>\n",
       "      <td>3.314186</td>\n",
       "    </tr>\n",
       "    <tr>\n",
       "      <th>...</th>\n",
       "      <td>...</td>\n",
       "      <td>...</td>\n",
       "      <td>...</td>\n",
       "      <td>...</td>\n",
       "      <td>...</td>\n",
       "      <td>...</td>\n",
       "      <td>...</td>\n",
       "      <td>...</td>\n",
       "      <td>...</td>\n",
       "      <td>...</td>\n",
       "      <td>...</td>\n",
       "      <td>...</td>\n",
       "      <td>...</td>\n",
       "      <td>...</td>\n",
       "    </tr>\n",
       "    <tr>\n",
       "      <th>1383</th>\n",
       "      <td>27.5</td>\n",
       "      <td>30.0</td>\n",
       "      <td>138.3</td>\n",
       "      <td>110</td>\n",
       "      <td>12.0</td>\n",
       "      <td>12.0</td>\n",
       "      <td>4</td>\n",
       "      <td>1</td>\n",
       "      <td>1</td>\n",
       "      <td>0</td>\n",
       "      <td>4.700480</td>\n",
       "      <td>6.8750</td>\n",
       "      <td>0.0</td>\n",
       "      <td>3.314186</td>\n",
       "    </tr>\n",
       "    <tr>\n",
       "      <th>1384</th>\n",
       "      <td>5.5</td>\n",
       "      <td>30.0</td>\n",
       "      <td>138.3</td>\n",
       "      <td>146</td>\n",
       "      <td>NaN</td>\n",
       "      <td>16.0</td>\n",
       "      <td>2</td>\n",
       "      <td>1</td>\n",
       "      <td>1</td>\n",
       "      <td>0</td>\n",
       "      <td>4.983607</td>\n",
       "      <td>9.1250</td>\n",
       "      <td>0.0</td>\n",
       "      <td>1.704748</td>\n",
       "    </tr>\n",
       "    <tr>\n",
       "      <th>1385</th>\n",
       "      <td>65.0</td>\n",
       "      <td>8.0</td>\n",
       "      <td>118.6</td>\n",
       "      <td>135</td>\n",
       "      <td>18.0</td>\n",
       "      <td>16.0</td>\n",
       "      <td>2</td>\n",
       "      <td>0</td>\n",
       "      <td>1</td>\n",
       "      <td>0</td>\n",
       "      <td>4.905275</td>\n",
       "      <td>8.4375</td>\n",
       "      <td>0.0</td>\n",
       "      <td>4.174387</td>\n",
       "    </tr>\n",
       "    <tr>\n",
       "      <th>1386</th>\n",
       "      <td>27.5</td>\n",
       "      <td>8.0</td>\n",
       "      <td>118.6</td>\n",
       "      <td>118</td>\n",
       "      <td>NaN</td>\n",
       "      <td>14.0</td>\n",
       "      <td>2</td>\n",
       "      <td>0</td>\n",
       "      <td>1</td>\n",
       "      <td>0</td>\n",
       "      <td>4.770685</td>\n",
       "      <td>7.3750</td>\n",
       "      <td>0.0</td>\n",
       "      <td>3.314186</td>\n",
       "    </tr>\n",
       "    <tr>\n",
       "      <th>1387</th>\n",
       "      <td>37.5</td>\n",
       "      <td>8.0</td>\n",
       "      <td>118.6</td>\n",
       "      <td>111</td>\n",
       "      <td>16.0</td>\n",
       "      <td>13.0</td>\n",
       "      <td>2</td>\n",
       "      <td>0</td>\n",
       "      <td>1</td>\n",
       "      <td>0</td>\n",
       "      <td>4.709530</td>\n",
       "      <td>6.9375</td>\n",
       "      <td>0.0</td>\n",
       "      <td>3.624341</td>\n",
       "    </tr>\n",
       "  </tbody>\n",
       "</table>\n",
       "<p>1388 rows × 14 columns</p>\n",
       "</div>"
      ],
      "text/plain": [
       "      faminc  cigtax  cigprice  bwght  fatheduc  motheduc  parity  male  \\\n",
       "0       13.5    16.5     122.3    109      12.0      12.0       1     1   \n",
       "1        7.5    16.5     122.3    133       6.0      12.0       2     1   \n",
       "2        0.5    16.5     122.3    129       NaN      12.0       2     0   \n",
       "3       15.5    16.5     122.3    126      12.0      12.0       2     1   \n",
       "4       27.5    16.5     122.3    134      14.0      12.0       2     1   \n",
       "...      ...     ...       ...    ...       ...       ...     ...   ...   \n",
       "1383    27.5    30.0     138.3    110      12.0      12.0       4     1   \n",
       "1384     5.5    30.0     138.3    146       NaN      16.0       2     1   \n",
       "1385    65.0     8.0     118.6    135      18.0      16.0       2     0   \n",
       "1386    27.5     8.0     118.6    118       NaN      14.0       2     0   \n",
       "1387    37.5     8.0     118.6    111      16.0      13.0       2     0   \n",
       "\n",
       "      white  cigs    lbwght  bwghtlbs  packs   lfaminc  \n",
       "0         1     0  4.691348    6.8125    0.0  2.602690  \n",
       "1         0     0  4.890349    8.3125    0.0  2.014903  \n",
       "2         0     0  4.859812    8.0625    0.0 -0.693147  \n",
       "3         0     0  4.836282    7.8750    0.0  2.740840  \n",
       "4         1     0  4.897840    8.3750    0.0  3.314186  \n",
       "...     ...   ...       ...       ...    ...       ...  \n",
       "1383      1     0  4.700480    6.8750    0.0  3.314186  \n",
       "1384      1     0  4.983607    9.1250    0.0  1.704748  \n",
       "1385      1     0  4.905275    8.4375    0.0  4.174387  \n",
       "1386      1     0  4.770685    7.3750    0.0  3.314186  \n",
       "1387      1     0  4.709530    6.9375    0.0  3.624341  \n",
       "\n",
       "[1388 rows x 14 columns]"
      ]
     },
     "execution_count": 13,
     "metadata": {},
     "output_type": "execute_result"
    }
   ],
   "source": [
    "pd.read_csv('BWGHT.csv')"
   ]
  },
  {
   "cell_type": "code",
   "execution_count": 14,
   "metadata": {
    "ExecuteTime": {
     "end_time": "2023-02-24T22:44:39.230341Z",
     "start_time": "2023-02-24T22:44:39.217915Z"
    }
   },
   "outputs": [],
   "source": [
    "df = pd.read_csv('BWGHT.csv')"
   ]
  },
  {
   "cell_type": "code",
   "execution_count": 4,
   "metadata": {
    "ExecuteTime": {
     "end_time": "2023-02-17T22:29:55.357110Z",
     "start_time": "2023-02-17T22:29:55.328438Z"
    }
   },
   "outputs": [
    {
     "data": {
      "text/html": [
       "<div>\n",
       "<style scoped>\n",
       "    .dataframe tbody tr th:only-of-type {\n",
       "        vertical-align: middle;\n",
       "    }\n",
       "\n",
       "    .dataframe tbody tr th {\n",
       "        vertical-align: top;\n",
       "    }\n",
       "\n",
       "    .dataframe thead th {\n",
       "        text-align: right;\n",
       "    }\n",
       "</style>\n",
       "<table border=\"1\" class=\"dataframe\">\n",
       "  <thead>\n",
       "    <tr style=\"text-align: right;\">\n",
       "      <th></th>\n",
       "      <th>faminc</th>\n",
       "      <th>cigtax</th>\n",
       "      <th>cigprice</th>\n",
       "      <th>bwght</th>\n",
       "      <th>fatheduc</th>\n",
       "      <th>motheduc</th>\n",
       "      <th>parity</th>\n",
       "      <th>male</th>\n",
       "      <th>white</th>\n",
       "      <th>cigs</th>\n",
       "      <th>lbwght</th>\n",
       "      <th>bwghtlbs</th>\n",
       "      <th>packs</th>\n",
       "      <th>lfaminc</th>\n",
       "    </tr>\n",
       "  </thead>\n",
       "  <tbody>\n",
       "    <tr>\n",
       "      <th>count</th>\n",
       "      <td>1388.000000</td>\n",
       "      <td>1388.000000</td>\n",
       "      <td>1388.000000</td>\n",
       "      <td>1388.000000</td>\n",
       "      <td>1192.000000</td>\n",
       "      <td>1387.000000</td>\n",
       "      <td>1388.000000</td>\n",
       "      <td>1388.000000</td>\n",
       "      <td>1388.000000</td>\n",
       "      <td>1388.000000</td>\n",
       "      <td>1388.000000</td>\n",
       "      <td>1388.000000</td>\n",
       "      <td>1388.000000</td>\n",
       "      <td>1388.000000</td>\n",
       "    </tr>\n",
       "    <tr>\n",
       "      <th>mean</th>\n",
       "      <td>29.026657</td>\n",
       "      <td>19.552954</td>\n",
       "      <td>130.559006</td>\n",
       "      <td>118.699568</td>\n",
       "      <td>13.186242</td>\n",
       "      <td>12.935833</td>\n",
       "      <td>1.632565</td>\n",
       "      <td>0.520893</td>\n",
       "      <td>0.784582</td>\n",
       "      <td>2.087176</td>\n",
       "      <td>4.760031</td>\n",
       "      <td>7.418723</td>\n",
       "      <td>0.104359</td>\n",
       "      <td>3.071271</td>\n",
       "    </tr>\n",
       "    <tr>\n",
       "      <th>std</th>\n",
       "      <td>18.739285</td>\n",
       "      <td>7.795598</td>\n",
       "      <td>10.244484</td>\n",
       "      <td>20.353964</td>\n",
       "      <td>2.745985</td>\n",
       "      <td>2.376728</td>\n",
       "      <td>0.894027</td>\n",
       "      <td>0.499743</td>\n",
       "      <td>0.411260</td>\n",
       "      <td>5.972688</td>\n",
       "      <td>0.190662</td>\n",
       "      <td>1.272123</td>\n",
       "      <td>0.298634</td>\n",
       "      <td>0.918064</td>\n",
       "    </tr>\n",
       "    <tr>\n",
       "      <th>min</th>\n",
       "      <td>0.500000</td>\n",
       "      <td>2.000000</td>\n",
       "      <td>103.800000</td>\n",
       "      <td>23.000000</td>\n",
       "      <td>1.000000</td>\n",
       "      <td>2.000000</td>\n",
       "      <td>1.000000</td>\n",
       "      <td>0.000000</td>\n",
       "      <td>0.000000</td>\n",
       "      <td>0.000000</td>\n",
       "      <td>3.135494</td>\n",
       "      <td>1.437500</td>\n",
       "      <td>0.000000</td>\n",
       "      <td>-0.693147</td>\n",
       "    </tr>\n",
       "    <tr>\n",
       "      <th>25%</th>\n",
       "      <td>14.500000</td>\n",
       "      <td>15.000000</td>\n",
       "      <td>122.800000</td>\n",
       "      <td>107.000000</td>\n",
       "      <td>12.000000</td>\n",
       "      <td>12.000000</td>\n",
       "      <td>1.000000</td>\n",
       "      <td>0.000000</td>\n",
       "      <td>1.000000</td>\n",
       "      <td>0.000000</td>\n",
       "      <td>4.672829</td>\n",
       "      <td>6.687500</td>\n",
       "      <td>0.000000</td>\n",
       "      <td>2.674149</td>\n",
       "    </tr>\n",
       "    <tr>\n",
       "      <th>50%</th>\n",
       "      <td>27.500000</td>\n",
       "      <td>20.000000</td>\n",
       "      <td>130.800000</td>\n",
       "      <td>120.000000</td>\n",
       "      <td>12.000000</td>\n",
       "      <td>12.000000</td>\n",
       "      <td>1.000000</td>\n",
       "      <td>1.000000</td>\n",
       "      <td>1.000000</td>\n",
       "      <td>0.000000</td>\n",
       "      <td>4.787492</td>\n",
       "      <td>7.500000</td>\n",
       "      <td>0.000000</td>\n",
       "      <td>3.314186</td>\n",
       "    </tr>\n",
       "    <tr>\n",
       "      <th>75%</th>\n",
       "      <td>37.500000</td>\n",
       "      <td>26.000000</td>\n",
       "      <td>137.000000</td>\n",
       "      <td>132.000000</td>\n",
       "      <td>16.000000</td>\n",
       "      <td>14.000000</td>\n",
       "      <td>2.000000</td>\n",
       "      <td>1.000000</td>\n",
       "      <td>1.000000</td>\n",
       "      <td>0.000000</td>\n",
       "      <td>4.882802</td>\n",
       "      <td>8.250000</td>\n",
       "      <td>0.000000</td>\n",
       "      <td>3.624341</td>\n",
       "    </tr>\n",
       "    <tr>\n",
       "      <th>max</th>\n",
       "      <td>65.000000</td>\n",
       "      <td>38.000000</td>\n",
       "      <td>152.500000</td>\n",
       "      <td>271.000000</td>\n",
       "      <td>18.000000</td>\n",
       "      <td>18.000000</td>\n",
       "      <td>6.000000</td>\n",
       "      <td>1.000000</td>\n",
       "      <td>1.000000</td>\n",
       "      <td>50.000000</td>\n",
       "      <td>5.602119</td>\n",
       "      <td>16.937500</td>\n",
       "      <td>2.500000</td>\n",
       "      <td>4.174387</td>\n",
       "    </tr>\n",
       "  </tbody>\n",
       "</table>\n",
       "</div>"
      ],
      "text/plain": [
       "            faminc       cigtax     cigprice        bwght     fatheduc  \\\n",
       "count  1388.000000  1388.000000  1388.000000  1388.000000  1192.000000   \n",
       "mean     29.026657    19.552954   130.559006   118.699568    13.186242   \n",
       "std      18.739285     7.795598    10.244484    20.353964     2.745985   \n",
       "min       0.500000     2.000000   103.800000    23.000000     1.000000   \n",
       "25%      14.500000    15.000000   122.800000   107.000000    12.000000   \n",
       "50%      27.500000    20.000000   130.800000   120.000000    12.000000   \n",
       "75%      37.500000    26.000000   137.000000   132.000000    16.000000   \n",
       "max      65.000000    38.000000   152.500000   271.000000    18.000000   \n",
       "\n",
       "          motheduc       parity         male        white         cigs  \\\n",
       "count  1387.000000  1388.000000  1388.000000  1388.000000  1388.000000   \n",
       "mean     12.935833     1.632565     0.520893     0.784582     2.087176   \n",
       "std       2.376728     0.894027     0.499743     0.411260     5.972688   \n",
       "min       2.000000     1.000000     0.000000     0.000000     0.000000   \n",
       "25%      12.000000     1.000000     0.000000     1.000000     0.000000   \n",
       "50%      12.000000     1.000000     1.000000     1.000000     0.000000   \n",
       "75%      14.000000     2.000000     1.000000     1.000000     0.000000   \n",
       "max      18.000000     6.000000     1.000000     1.000000    50.000000   \n",
       "\n",
       "            lbwght     bwghtlbs        packs      lfaminc  \n",
       "count  1388.000000  1388.000000  1388.000000  1388.000000  \n",
       "mean      4.760031     7.418723     0.104359     3.071271  \n",
       "std       0.190662     1.272123     0.298634     0.918064  \n",
       "min       3.135494     1.437500     0.000000    -0.693147  \n",
       "25%       4.672829     6.687500     0.000000     2.674149  \n",
       "50%       4.787492     7.500000     0.000000     3.314186  \n",
       "75%       4.882802     8.250000     0.000000     3.624341  \n",
       "max       5.602119    16.937500     2.500000     4.174387  "
      ]
     },
     "execution_count": 4,
     "metadata": {},
     "output_type": "execute_result"
    }
   ],
   "source": [
    "df.describe()"
   ]
  },
  {
   "cell_type": "code",
   "execution_count": 8,
   "metadata": {
    "ExecuteTime": {
     "end_time": "2023-02-17T22:31:28.805957Z",
     "start_time": "2023-02-17T22:31:28.782026Z"
    }
   },
   "outputs": [
    {
     "data": {
      "text/html": [
       "<div>\n",
       "<style scoped>\n",
       "    .dataframe tbody tr th:only-of-type {\n",
       "        vertical-align: middle;\n",
       "    }\n",
       "\n",
       "    .dataframe tbody tr th {\n",
       "        vertical-align: top;\n",
       "    }\n",
       "\n",
       "    .dataframe thead th {\n",
       "        text-align: right;\n",
       "    }\n",
       "</style>\n",
       "<table border=\"1\" class=\"dataframe\">\n",
       "  <thead>\n",
       "    <tr style=\"text-align: right;\">\n",
       "      <th></th>\n",
       "      <th>faminc</th>\n",
       "      <th>cigtax</th>\n",
       "      <th>cigprice</th>\n",
       "      <th>bwght</th>\n",
       "      <th>fatheduc</th>\n",
       "      <th>motheduc</th>\n",
       "      <th>parity</th>\n",
       "      <th>male</th>\n",
       "      <th>white</th>\n",
       "      <th>cigs</th>\n",
       "      <th>lbwght</th>\n",
       "      <th>bwghtlbs</th>\n",
       "      <th>packs</th>\n",
       "      <th>lfaminc</th>\n",
       "    </tr>\n",
       "  </thead>\n",
       "  <tbody>\n",
       "    <tr>\n",
       "      <th>0</th>\n",
       "      <td>13.5</td>\n",
       "      <td>16.5</td>\n",
       "      <td>122.3</td>\n",
       "      <td>109</td>\n",
       "      <td>12.0</td>\n",
       "      <td>12.0</td>\n",
       "      <td>1</td>\n",
       "      <td>1</td>\n",
       "      <td>1</td>\n",
       "      <td>0</td>\n",
       "      <td>4.691348</td>\n",
       "      <td>6.8125</td>\n",
       "      <td>0.0</td>\n",
       "      <td>2.602690</td>\n",
       "    </tr>\n",
       "    <tr>\n",
       "      <th>1</th>\n",
       "      <td>7.5</td>\n",
       "      <td>16.5</td>\n",
       "      <td>122.3</td>\n",
       "      <td>133</td>\n",
       "      <td>6.0</td>\n",
       "      <td>12.0</td>\n",
       "      <td>2</td>\n",
       "      <td>1</td>\n",
       "      <td>0</td>\n",
       "      <td>0</td>\n",
       "      <td>4.890349</td>\n",
       "      <td>8.3125</td>\n",
       "      <td>0.0</td>\n",
       "      <td>2.014903</td>\n",
       "    </tr>\n",
       "    <tr>\n",
       "      <th>2</th>\n",
       "      <td>0.5</td>\n",
       "      <td>16.5</td>\n",
       "      <td>122.3</td>\n",
       "      <td>129</td>\n",
       "      <td>NaN</td>\n",
       "      <td>12.0</td>\n",
       "      <td>2</td>\n",
       "      <td>0</td>\n",
       "      <td>0</td>\n",
       "      <td>0</td>\n",
       "      <td>4.859812</td>\n",
       "      <td>8.0625</td>\n",
       "      <td>0.0</td>\n",
       "      <td>-0.693147</td>\n",
       "    </tr>\n",
       "    <tr>\n",
       "      <th>3</th>\n",
       "      <td>15.5</td>\n",
       "      <td>16.5</td>\n",
       "      <td>122.3</td>\n",
       "      <td>126</td>\n",
       "      <td>12.0</td>\n",
       "      <td>12.0</td>\n",
       "      <td>2</td>\n",
       "      <td>1</td>\n",
       "      <td>0</td>\n",
       "      <td>0</td>\n",
       "      <td>4.836282</td>\n",
       "      <td>7.8750</td>\n",
       "      <td>0.0</td>\n",
       "      <td>2.740840</td>\n",
       "    </tr>\n",
       "    <tr>\n",
       "      <th>4</th>\n",
       "      <td>27.5</td>\n",
       "      <td>16.5</td>\n",
       "      <td>122.3</td>\n",
       "      <td>134</td>\n",
       "      <td>14.0</td>\n",
       "      <td>12.0</td>\n",
       "      <td>2</td>\n",
       "      <td>1</td>\n",
       "      <td>1</td>\n",
       "      <td>0</td>\n",
       "      <td>4.897840</td>\n",
       "      <td>8.3750</td>\n",
       "      <td>0.0</td>\n",
       "      <td>3.314186</td>\n",
       "    </tr>\n",
       "  </tbody>\n",
       "</table>\n",
       "</div>"
      ],
      "text/plain": [
       "   faminc  cigtax  cigprice  bwght  fatheduc  motheduc  parity  male  white  \\\n",
       "0    13.5    16.5     122.3    109      12.0      12.0       1     1      1   \n",
       "1     7.5    16.5     122.3    133       6.0      12.0       2     1      0   \n",
       "2     0.5    16.5     122.3    129       NaN      12.0       2     0      0   \n",
       "3    15.5    16.5     122.3    126      12.0      12.0       2     1      0   \n",
       "4    27.5    16.5     122.3    134      14.0      12.0       2     1      1   \n",
       "\n",
       "   cigs    lbwght  bwghtlbs  packs   lfaminc  \n",
       "0     0  4.691348    6.8125    0.0  2.602690  \n",
       "1     0  4.890349    8.3125    0.0  2.014903  \n",
       "2     0  4.859812    8.0625    0.0 -0.693147  \n",
       "3     0  4.836282    7.8750    0.0  2.740840  \n",
       "4     0  4.897840    8.3750    0.0  3.314186  "
      ]
     },
     "execution_count": 8,
     "metadata": {},
     "output_type": "execute_result"
    }
   ],
   "source": [
    "df.head()"
   ]
  },
  {
   "cell_type": "code",
   "execution_count": 9,
   "metadata": {
    "ExecuteTime": {
     "end_time": "2023-02-17T22:31:29.411342Z",
     "start_time": "2023-02-17T22:31:29.389503Z"
    }
   },
   "outputs": [
    {
     "data": {
      "text/html": [
       "<div>\n",
       "<style scoped>\n",
       "    .dataframe tbody tr th:only-of-type {\n",
       "        vertical-align: middle;\n",
       "    }\n",
       "\n",
       "    .dataframe tbody tr th {\n",
       "        vertical-align: top;\n",
       "    }\n",
       "\n",
       "    .dataframe thead th {\n",
       "        text-align: right;\n",
       "    }\n",
       "</style>\n",
       "<table border=\"1\" class=\"dataframe\">\n",
       "  <thead>\n",
       "    <tr style=\"text-align: right;\">\n",
       "      <th></th>\n",
       "      <th>faminc</th>\n",
       "      <th>cigtax</th>\n",
       "      <th>cigprice</th>\n",
       "      <th>bwght</th>\n",
       "      <th>fatheduc</th>\n",
       "      <th>motheduc</th>\n",
       "      <th>parity</th>\n",
       "      <th>male</th>\n",
       "      <th>white</th>\n",
       "      <th>cigs</th>\n",
       "      <th>lbwght</th>\n",
       "      <th>bwghtlbs</th>\n",
       "      <th>packs</th>\n",
       "      <th>lfaminc</th>\n",
       "    </tr>\n",
       "  </thead>\n",
       "  <tbody>\n",
       "    <tr>\n",
       "      <th>1383</th>\n",
       "      <td>27.5</td>\n",
       "      <td>30.0</td>\n",
       "      <td>138.3</td>\n",
       "      <td>110</td>\n",
       "      <td>12.0</td>\n",
       "      <td>12.0</td>\n",
       "      <td>4</td>\n",
       "      <td>1</td>\n",
       "      <td>1</td>\n",
       "      <td>0</td>\n",
       "      <td>4.700480</td>\n",
       "      <td>6.8750</td>\n",
       "      <td>0.0</td>\n",
       "      <td>3.314186</td>\n",
       "    </tr>\n",
       "    <tr>\n",
       "      <th>1384</th>\n",
       "      <td>5.5</td>\n",
       "      <td>30.0</td>\n",
       "      <td>138.3</td>\n",
       "      <td>146</td>\n",
       "      <td>NaN</td>\n",
       "      <td>16.0</td>\n",
       "      <td>2</td>\n",
       "      <td>1</td>\n",
       "      <td>1</td>\n",
       "      <td>0</td>\n",
       "      <td>4.983607</td>\n",
       "      <td>9.1250</td>\n",
       "      <td>0.0</td>\n",
       "      <td>1.704748</td>\n",
       "    </tr>\n",
       "    <tr>\n",
       "      <th>1385</th>\n",
       "      <td>65.0</td>\n",
       "      <td>8.0</td>\n",
       "      <td>118.6</td>\n",
       "      <td>135</td>\n",
       "      <td>18.0</td>\n",
       "      <td>16.0</td>\n",
       "      <td>2</td>\n",
       "      <td>0</td>\n",
       "      <td>1</td>\n",
       "      <td>0</td>\n",
       "      <td>4.905275</td>\n",
       "      <td>8.4375</td>\n",
       "      <td>0.0</td>\n",
       "      <td>4.174387</td>\n",
       "    </tr>\n",
       "    <tr>\n",
       "      <th>1386</th>\n",
       "      <td>27.5</td>\n",
       "      <td>8.0</td>\n",
       "      <td>118.6</td>\n",
       "      <td>118</td>\n",
       "      <td>NaN</td>\n",
       "      <td>14.0</td>\n",
       "      <td>2</td>\n",
       "      <td>0</td>\n",
       "      <td>1</td>\n",
       "      <td>0</td>\n",
       "      <td>4.770685</td>\n",
       "      <td>7.3750</td>\n",
       "      <td>0.0</td>\n",
       "      <td>3.314186</td>\n",
       "    </tr>\n",
       "    <tr>\n",
       "      <th>1387</th>\n",
       "      <td>37.5</td>\n",
       "      <td>8.0</td>\n",
       "      <td>118.6</td>\n",
       "      <td>111</td>\n",
       "      <td>16.0</td>\n",
       "      <td>13.0</td>\n",
       "      <td>2</td>\n",
       "      <td>0</td>\n",
       "      <td>1</td>\n",
       "      <td>0</td>\n",
       "      <td>4.709530</td>\n",
       "      <td>6.9375</td>\n",
       "      <td>0.0</td>\n",
       "      <td>3.624341</td>\n",
       "    </tr>\n",
       "  </tbody>\n",
       "</table>\n",
       "</div>"
      ],
      "text/plain": [
       "      faminc  cigtax  cigprice  bwght  fatheduc  motheduc  parity  male  \\\n",
       "1383    27.5    30.0     138.3    110      12.0      12.0       4     1   \n",
       "1384     5.5    30.0     138.3    146       NaN      16.0       2     1   \n",
       "1385    65.0     8.0     118.6    135      18.0      16.0       2     0   \n",
       "1386    27.5     8.0     118.6    118       NaN      14.0       2     0   \n",
       "1387    37.5     8.0     118.6    111      16.0      13.0       2     0   \n",
       "\n",
       "      white  cigs    lbwght  bwghtlbs  packs   lfaminc  \n",
       "1383      1     0  4.700480    6.8750    0.0  3.314186  \n",
       "1384      1     0  4.983607    9.1250    0.0  1.704748  \n",
       "1385      1     0  4.905275    8.4375    0.0  4.174387  \n",
       "1386      1     0  4.770685    7.3750    0.0  3.314186  \n",
       "1387      1     0  4.709530    6.9375    0.0  3.624341  "
      ]
     },
     "execution_count": 9,
     "metadata": {},
     "output_type": "execute_result"
    }
   ],
   "source": [
    "df.tail()"
   ]
  },
  {
   "cell_type": "code",
   "execution_count": 7,
   "metadata": {
    "ExecuteTime": {
     "end_time": "2023-02-14T22:40:45.556061Z",
     "start_time": "2023-02-14T22:40:45.544246Z"
    }
   },
   "outputs": [
    {
     "data": {
      "text/plain": [
       "0       109\n",
       "1       133\n",
       "2       129\n",
       "3       126\n",
       "4       134\n",
       "       ... \n",
       "1383    110\n",
       "1384    146\n",
       "1385    135\n",
       "1386    118\n",
       "1387    111\n",
       "Name: bwght, Length: 1388, dtype: int64"
      ]
     },
     "execution_count": 7,
     "metadata": {},
     "output_type": "execute_result"
    }
   ],
   "source": [
    "df['bwght']"
   ]
  },
  {
   "cell_type": "code",
   "execution_count": 10,
   "metadata": {
    "ExecuteTime": {
     "end_time": "2023-02-17T22:33:38.003574Z",
     "start_time": "2023-02-17T22:33:37.705555Z"
    }
   },
   "outputs": [
    {
     "ename": "TypeError",
     "evalue": "unhashable type: 'list'",
     "output_type": "error",
     "traceback": [
      "\u001b[1;31m---------------------------------------------------------------------------\u001b[0m",
      "\u001b[1;31mTypeError\u001b[0m                                 Traceback (most recent call last)",
      "Input \u001b[1;32mIn [10]\u001b[0m, in \u001b[0;36m<cell line: 2>\u001b[1;34m()\u001b[0m\n\u001b[0;32m      1\u001b[0m mydict \u001b[38;5;241m=\u001b[39m {\u001b[38;5;124m'\u001b[39m\u001b[38;5;124ma\u001b[39m\u001b[38;5;124m'\u001b[39m:\u001b[38;5;241m1\u001b[39m,\u001b[38;5;124m'\u001b[39m\u001b[38;5;124mb\u001b[39m\u001b[38;5;124m'\u001b[39m:\u001b[38;5;241m2\u001b[39m,\u001b[38;5;124m'\u001b[39m\u001b[38;5;124mc\u001b[39m\u001b[38;5;124m'\u001b[39m:\u001b[38;5;241m3\u001b[39m}\n\u001b[1;32m----> 2\u001b[0m \u001b[43mmydict\u001b[49m\u001b[43m[\u001b[49m\u001b[43m[\u001b[49m\u001b[38;5;124;43m'\u001b[39;49m\u001b[38;5;124;43ma\u001b[39;49m\u001b[38;5;124;43m'\u001b[39;49m\u001b[43m,\u001b[49m\u001b[38;5;124;43m'\u001b[39;49m\u001b[38;5;124;43mb\u001b[39;49m\u001b[38;5;124;43m'\u001b[39;49m\u001b[43m]\u001b[49m\u001b[43m]\u001b[49m\n",
      "\u001b[1;31mTypeError\u001b[0m: unhashable type: 'list'"
     ]
    }
   ],
   "source": [
    "mydict = {'a':1,'b':2,'c':3}\n",
    "mydict[['a','b']]"
   ]
  },
  {
   "cell_type": "code",
   "execution_count": 11,
   "metadata": {
    "ExecuteTime": {
     "end_time": "2023-02-17T22:33:58.954240Z",
     "start_time": "2023-02-17T22:33:58.932606Z"
    }
   },
   "outputs": [
    {
     "data": {
      "text/html": [
       "<div>\n",
       "<style scoped>\n",
       "    .dataframe tbody tr th:only-of-type {\n",
       "        vertical-align: middle;\n",
       "    }\n",
       "\n",
       "    .dataframe tbody tr th {\n",
       "        vertical-align: top;\n",
       "    }\n",
       "\n",
       "    .dataframe thead th {\n",
       "        text-align: right;\n",
       "    }\n",
       "</style>\n",
       "<table border=\"1\" class=\"dataframe\">\n",
       "  <thead>\n",
       "    <tr style=\"text-align: right;\">\n",
       "      <th></th>\n",
       "      <th>cigs</th>\n",
       "      <th>faminc</th>\n",
       "    </tr>\n",
       "  </thead>\n",
       "  <tbody>\n",
       "    <tr>\n",
       "      <th>0</th>\n",
       "      <td>0</td>\n",
       "      <td>13.5</td>\n",
       "    </tr>\n",
       "    <tr>\n",
       "      <th>1</th>\n",
       "      <td>0</td>\n",
       "      <td>7.5</td>\n",
       "    </tr>\n",
       "    <tr>\n",
       "      <th>2</th>\n",
       "      <td>0</td>\n",
       "      <td>0.5</td>\n",
       "    </tr>\n",
       "    <tr>\n",
       "      <th>3</th>\n",
       "      <td>0</td>\n",
       "      <td>15.5</td>\n",
       "    </tr>\n",
       "    <tr>\n",
       "      <th>4</th>\n",
       "      <td>0</td>\n",
       "      <td>27.5</td>\n",
       "    </tr>\n",
       "    <tr>\n",
       "      <th>...</th>\n",
       "      <td>...</td>\n",
       "      <td>...</td>\n",
       "    </tr>\n",
       "    <tr>\n",
       "      <th>1383</th>\n",
       "      <td>0</td>\n",
       "      <td>27.5</td>\n",
       "    </tr>\n",
       "    <tr>\n",
       "      <th>1384</th>\n",
       "      <td>0</td>\n",
       "      <td>5.5</td>\n",
       "    </tr>\n",
       "    <tr>\n",
       "      <th>1385</th>\n",
       "      <td>0</td>\n",
       "      <td>65.0</td>\n",
       "    </tr>\n",
       "    <tr>\n",
       "      <th>1386</th>\n",
       "      <td>0</td>\n",
       "      <td>27.5</td>\n",
       "    </tr>\n",
       "    <tr>\n",
       "      <th>1387</th>\n",
       "      <td>0</td>\n",
       "      <td>37.5</td>\n",
       "    </tr>\n",
       "  </tbody>\n",
       "</table>\n",
       "<p>1388 rows × 2 columns</p>\n",
       "</div>"
      ],
      "text/plain": [
       "      cigs  faminc\n",
       "0        0    13.5\n",
       "1        0     7.5\n",
       "2        0     0.5\n",
       "3        0    15.5\n",
       "4        0    27.5\n",
       "...    ...     ...\n",
       "1383     0    27.5\n",
       "1384     0     5.5\n",
       "1385     0    65.0\n",
       "1386     0    27.5\n",
       "1387     0    37.5\n",
       "\n",
       "[1388 rows x 2 columns]"
      ]
     },
     "execution_count": 11,
     "metadata": {},
     "output_type": "execute_result"
    }
   ],
   "source": [
    "df[['cigs','faminc']]"
   ]
  },
  {
   "cell_type": "code",
   "execution_count": 15,
   "metadata": {
    "ExecuteTime": {
     "end_time": "2022-09-15T00:57:06.694377Z",
     "start_time": "2022-09-15T00:57:06.679375Z"
    }
   },
   "outputs": [
    {
     "data": {
      "text/html": [
       "<div>\n",
       "<style scoped>\n",
       "    .dataframe tbody tr th:only-of-type {\n",
       "        vertical-align: middle;\n",
       "    }\n",
       "\n",
       "    .dataframe tbody tr th {\n",
       "        vertical-align: top;\n",
       "    }\n",
       "\n",
       "    .dataframe thead th {\n",
       "        text-align: right;\n",
       "    }\n",
       "</style>\n",
       "<table border=\"1\" class=\"dataframe\">\n",
       "  <thead>\n",
       "    <tr style=\"text-align: right;\">\n",
       "      <th></th>\n",
       "      <th>cigprice</th>\n",
       "      <th>bwght</th>\n",
       "      <th>fatheduc</th>\n",
       "      <th>motheduc</th>\n",
       "    </tr>\n",
       "  </thead>\n",
       "  <tbody>\n",
       "    <tr>\n",
       "      <th>0</th>\n",
       "      <td>122.3</td>\n",
       "      <td>109</td>\n",
       "      <td>12.0</td>\n",
       "      <td>12.0</td>\n",
       "    </tr>\n",
       "    <tr>\n",
       "      <th>1</th>\n",
       "      <td>122.3</td>\n",
       "      <td>133</td>\n",
       "      <td>6.0</td>\n",
       "      <td>12.0</td>\n",
       "    </tr>\n",
       "    <tr>\n",
       "      <th>2</th>\n",
       "      <td>122.3</td>\n",
       "      <td>129</td>\n",
       "      <td>NaN</td>\n",
       "      <td>12.0</td>\n",
       "    </tr>\n",
       "    <tr>\n",
       "      <th>3</th>\n",
       "      <td>122.3</td>\n",
       "      <td>126</td>\n",
       "      <td>12.0</td>\n",
       "      <td>12.0</td>\n",
       "    </tr>\n",
       "    <tr>\n",
       "      <th>4</th>\n",
       "      <td>122.3</td>\n",
       "      <td>134</td>\n",
       "      <td>14.0</td>\n",
       "      <td>12.0</td>\n",
       "    </tr>\n",
       "  </tbody>\n",
       "</table>\n",
       "</div>"
      ],
      "text/plain": [
       "   cigprice  bwght  fatheduc  motheduc\n",
       "0     122.3    109      12.0      12.0\n",
       "1     122.3    133       6.0      12.0\n",
       "2     122.3    129       NaN      12.0\n",
       "3     122.3    126      12.0      12.0\n",
       "4     122.3    134      14.0      12.0"
      ]
     },
     "execution_count": 15,
     "metadata": {},
     "output_type": "execute_result"
    }
   ],
   "source": [
    "df.iloc[0:5,2:6]"
   ]
  },
  {
   "cell_type": "code",
   "execution_count": 9,
   "metadata": {
    "ExecuteTime": {
     "end_time": "2023-02-16T22:31:38.776924Z",
     "start_time": "2023-02-16T22:31:38.760137Z"
    }
   },
   "outputs": [
    {
     "data": {
      "text/html": [
       "<div>\n",
       "<style scoped>\n",
       "    .dataframe tbody tr th:only-of-type {\n",
       "        vertical-align: middle;\n",
       "    }\n",
       "\n",
       "    .dataframe tbody tr th {\n",
       "        vertical-align: top;\n",
       "    }\n",
       "\n",
       "    .dataframe thead th {\n",
       "        text-align: right;\n",
       "    }\n",
       "</style>\n",
       "<table border=\"1\" class=\"dataframe\">\n",
       "  <thead>\n",
       "    <tr style=\"text-align: right;\">\n",
       "      <th></th>\n",
       "      <th>bwght</th>\n",
       "      <th>cigs</th>\n",
       "      <th>faminc</th>\n",
       "    </tr>\n",
       "  </thead>\n",
       "  <tbody>\n",
       "    <tr>\n",
       "      <th>0</th>\n",
       "      <td>109</td>\n",
       "      <td>0</td>\n",
       "      <td>13.5</td>\n",
       "    </tr>\n",
       "    <tr>\n",
       "      <th>1</th>\n",
       "      <td>133</td>\n",
       "      <td>0</td>\n",
       "      <td>7.5</td>\n",
       "    </tr>\n",
       "    <tr>\n",
       "      <th>2</th>\n",
       "      <td>129</td>\n",
       "      <td>0</td>\n",
       "      <td>0.5</td>\n",
       "    </tr>\n",
       "    <tr>\n",
       "      <th>3</th>\n",
       "      <td>126</td>\n",
       "      <td>0</td>\n",
       "      <td>15.5</td>\n",
       "    </tr>\n",
       "    <tr>\n",
       "      <th>4</th>\n",
       "      <td>134</td>\n",
       "      <td>0</td>\n",
       "      <td>27.5</td>\n",
       "    </tr>\n",
       "    <tr>\n",
       "      <th>...</th>\n",
       "      <td>...</td>\n",
       "      <td>...</td>\n",
       "      <td>...</td>\n",
       "    </tr>\n",
       "    <tr>\n",
       "      <th>1383</th>\n",
       "      <td>110</td>\n",
       "      <td>0</td>\n",
       "      <td>27.5</td>\n",
       "    </tr>\n",
       "    <tr>\n",
       "      <th>1384</th>\n",
       "      <td>146</td>\n",
       "      <td>0</td>\n",
       "      <td>5.5</td>\n",
       "    </tr>\n",
       "    <tr>\n",
       "      <th>1385</th>\n",
       "      <td>135</td>\n",
       "      <td>0</td>\n",
       "      <td>65.0</td>\n",
       "    </tr>\n",
       "    <tr>\n",
       "      <th>1386</th>\n",
       "      <td>118</td>\n",
       "      <td>0</td>\n",
       "      <td>27.5</td>\n",
       "    </tr>\n",
       "    <tr>\n",
       "      <th>1387</th>\n",
       "      <td>111</td>\n",
       "      <td>0</td>\n",
       "      <td>37.5</td>\n",
       "    </tr>\n",
       "  </tbody>\n",
       "</table>\n",
       "<p>1388 rows × 3 columns</p>\n",
       "</div>"
      ],
      "text/plain": [
       "      bwght  cigs  faminc\n",
       "0       109     0    13.5\n",
       "1       133     0     7.5\n",
       "2       129     0     0.5\n",
       "3       126     0    15.5\n",
       "4       134     0    27.5\n",
       "...     ...   ...     ...\n",
       "1383    110     0    27.5\n",
       "1384    146     0     5.5\n",
       "1385    135     0    65.0\n",
       "1386    118     0    27.5\n",
       "1387    111     0    37.5\n",
       "\n",
       "[1388 rows x 3 columns]"
      ]
     },
     "execution_count": 9,
     "metadata": {},
     "output_type": "execute_result"
    }
   ],
   "source": [
    "x = df[['cigs','faminc']]\n",
    "y = df['bwght']\n",
    "pd.concat([y,x],axis=1)"
   ]
  },
  {
   "cell_type": "code",
   "execution_count": 22,
   "metadata": {
    "ExecuteTime": {
     "end_time": "2022-09-15T01:00:01.636956Z",
     "start_time": "2022-09-15T01:00:01.610881Z"
    }
   },
   "outputs": [
    {
     "data": {
      "text/html": [
       "<div>\n",
       "<style scoped>\n",
       "    .dataframe tbody tr th:only-of-type {\n",
       "        vertical-align: middle;\n",
       "    }\n",
       "\n",
       "    .dataframe tbody tr th {\n",
       "        vertical-align: top;\n",
       "    }\n",
       "\n",
       "    .dataframe thead th {\n",
       "        text-align: right;\n",
       "    }\n",
       "</style>\n",
       "<table border=\"1\" class=\"dataframe\">\n",
       "  <thead>\n",
       "    <tr style=\"text-align: right;\">\n",
       "      <th></th>\n",
       "      <th>faminc</th>\n",
       "      <th>cigtax</th>\n",
       "      <th>cigprice</th>\n",
       "      <th>bwght</th>\n",
       "      <th>fatheduc</th>\n",
       "      <th>motheduc</th>\n",
       "      <th>parity</th>\n",
       "      <th>male</th>\n",
       "      <th>cigs</th>\n",
       "      <th>lbwght</th>\n",
       "      <th>bwghtlbs</th>\n",
       "      <th>packs</th>\n",
       "      <th>lfaminc</th>\n",
       "    </tr>\n",
       "    <tr>\n",
       "      <th>white</th>\n",
       "      <th></th>\n",
       "      <th></th>\n",
       "      <th></th>\n",
       "      <th></th>\n",
       "      <th></th>\n",
       "      <th></th>\n",
       "      <th></th>\n",
       "      <th></th>\n",
       "      <th></th>\n",
       "      <th></th>\n",
       "      <th></th>\n",
       "      <th></th>\n",
       "      <th></th>\n",
       "    </tr>\n",
       "  </thead>\n",
       "  <tbody>\n",
       "    <tr>\n",
       "      <th>0</th>\n",
       "      <td>18.138796</td>\n",
       "      <td>17.740803</td>\n",
       "      <td>128.399331</td>\n",
       "      <td>113.769231</td>\n",
       "      <td>12.483871</td>\n",
       "      <td>12.401338</td>\n",
       "      <td>1.765886</td>\n",
       "      <td>0.541806</td>\n",
       "      <td>2.297659</td>\n",
       "      <td>4.713048</td>\n",
       "      <td>7.110577</td>\n",
       "      <td>0.114883</td>\n",
       "      <td>2.44949</td>\n",
       "    </tr>\n",
       "    <tr>\n",
       "      <th>1</th>\n",
       "      <td>32.016070</td>\n",
       "      <td>20.050505</td>\n",
       "      <td>131.151974</td>\n",
       "      <td>120.053260</td>\n",
       "      <td>13.316103</td>\n",
       "      <td>13.082721</td>\n",
       "      <td>1.595960</td>\n",
       "      <td>0.515152</td>\n",
       "      <td>2.029385</td>\n",
       "      <td>4.772931</td>\n",
       "      <td>7.503329</td>\n",
       "      <td>0.101469</td>\n",
       "      <td>3.24199</td>\n",
       "    </tr>\n",
       "  </tbody>\n",
       "</table>\n",
       "</div>"
      ],
      "text/plain": [
       "          faminc     cigtax    cigprice       bwght   fatheduc   motheduc  \\\n",
       "white                                                                       \n",
       "0      18.138796  17.740803  128.399331  113.769231  12.483871  12.401338   \n",
       "1      32.016070  20.050505  131.151974  120.053260  13.316103  13.082721   \n",
       "\n",
       "         parity      male      cigs    lbwght  bwghtlbs     packs  lfaminc  \n",
       "white                                                                       \n",
       "0      1.765886  0.541806  2.297659  4.713048  7.110577  0.114883  2.44949  \n",
       "1      1.595960  0.515152  2.029385  4.772931  7.503329  0.101469  3.24199  "
      ]
     },
     "execution_count": 22,
     "metadata": {},
     "output_type": "execute_result"
    }
   ],
   "source": [
    "df.groupby(['white']).mean()"
   ]
  },
  {
   "cell_type": "code",
   "execution_count": 10,
   "metadata": {
    "ExecuteTime": {
     "end_time": "2023-02-14T22:45:32.411347Z",
     "start_time": "2023-02-14T22:45:32.391522Z"
    }
   },
   "outputs": [
    {
     "data": {
      "text/html": [
       "<div>\n",
       "<style scoped>\n",
       "    .dataframe tbody tr th:only-of-type {\n",
       "        vertical-align: middle;\n",
       "    }\n",
       "\n",
       "    .dataframe tbody tr th {\n",
       "        vertical-align: top;\n",
       "    }\n",
       "\n",
       "    .dataframe thead th {\n",
       "        text-align: right;\n",
       "    }\n",
       "</style>\n",
       "<table border=\"1\" class=\"dataframe\">\n",
       "  <thead>\n",
       "    <tr style=\"text-align: right;\">\n",
       "      <th></th>\n",
       "      <th></th>\n",
       "      <th>faminc</th>\n",
       "      <th>cigtax</th>\n",
       "      <th>cigprice</th>\n",
       "      <th>bwght</th>\n",
       "      <th>fatheduc</th>\n",
       "      <th>motheduc</th>\n",
       "      <th>white</th>\n",
       "      <th>cigs</th>\n",
       "      <th>lbwght</th>\n",
       "      <th>bwghtlbs</th>\n",
       "      <th>packs</th>\n",
       "      <th>lfaminc</th>\n",
       "    </tr>\n",
       "    <tr>\n",
       "      <th>parity</th>\n",
       "      <th>male</th>\n",
       "      <th></th>\n",
       "      <th></th>\n",
       "      <th></th>\n",
       "      <th></th>\n",
       "      <th></th>\n",
       "      <th></th>\n",
       "      <th></th>\n",
       "      <th></th>\n",
       "      <th></th>\n",
       "      <th></th>\n",
       "      <th></th>\n",
       "      <th></th>\n",
       "    </tr>\n",
       "  </thead>\n",
       "  <tbody>\n",
       "    <tr>\n",
       "      <th rowspan=\"2\" valign=\"top\">1</th>\n",
       "      <th>0</th>\n",
       "      <td>27.5</td>\n",
       "      <td>20.0</td>\n",
       "      <td>130.70</td>\n",
       "      <td>116.0</td>\n",
       "      <td>12.0</td>\n",
       "      <td>12.0</td>\n",
       "      <td>1.0</td>\n",
       "      <td>0.0</td>\n",
       "      <td>4.753590</td>\n",
       "      <td>7.25000</td>\n",
       "      <td>0.0</td>\n",
       "      <td>3.314186</td>\n",
       "    </tr>\n",
       "    <tr>\n",
       "      <th>1</th>\n",
       "      <td>22.5</td>\n",
       "      <td>21.0</td>\n",
       "      <td>132.70</td>\n",
       "      <td>120.0</td>\n",
       "      <td>12.0</td>\n",
       "      <td>12.0</td>\n",
       "      <td>1.0</td>\n",
       "      <td>0.0</td>\n",
       "      <td>4.787492</td>\n",
       "      <td>7.50000</td>\n",
       "      <td>0.0</td>\n",
       "      <td>3.113515</td>\n",
       "    </tr>\n",
       "    <tr>\n",
       "      <th rowspan=\"2\" valign=\"top\">2</th>\n",
       "      <th>0</th>\n",
       "      <td>27.5</td>\n",
       "      <td>18.0</td>\n",
       "      <td>130.70</td>\n",
       "      <td>119.0</td>\n",
       "      <td>13.0</td>\n",
       "      <td>12.0</td>\n",
       "      <td>1.0</td>\n",
       "      <td>0.0</td>\n",
       "      <td>4.779123</td>\n",
       "      <td>7.43750</td>\n",
       "      <td>0.0</td>\n",
       "      <td>3.314186</td>\n",
       "    </tr>\n",
       "    <tr>\n",
       "      <th>1</th>\n",
       "      <td>22.5</td>\n",
       "      <td>18.0</td>\n",
       "      <td>126.80</td>\n",
       "      <td>124.0</td>\n",
       "      <td>12.0</td>\n",
       "      <td>12.0</td>\n",
       "      <td>1.0</td>\n",
       "      <td>0.0</td>\n",
       "      <td>4.820282</td>\n",
       "      <td>7.75000</td>\n",
       "      <td>0.0</td>\n",
       "      <td>3.113515</td>\n",
       "    </tr>\n",
       "    <tr>\n",
       "      <th rowspan=\"2\" valign=\"top\">3</th>\n",
       "      <th>0</th>\n",
       "      <td>22.5</td>\n",
       "      <td>20.0</td>\n",
       "      <td>130.80</td>\n",
       "      <td>120.0</td>\n",
       "      <td>12.0</td>\n",
       "      <td>12.0</td>\n",
       "      <td>1.0</td>\n",
       "      <td>0.0</td>\n",
       "      <td>4.787492</td>\n",
       "      <td>7.50000</td>\n",
       "      <td>0.0</td>\n",
       "      <td>3.113515</td>\n",
       "    </tr>\n",
       "    <tr>\n",
       "      <th>1</th>\n",
       "      <td>25.0</td>\n",
       "      <td>21.0</td>\n",
       "      <td>131.75</td>\n",
       "      <td>123.0</td>\n",
       "      <td>12.5</td>\n",
       "      <td>12.0</td>\n",
       "      <td>1.0</td>\n",
       "      <td>0.0</td>\n",
       "      <td>4.812184</td>\n",
       "      <td>7.68750</td>\n",
       "      <td>0.0</td>\n",
       "      <td>3.213850</td>\n",
       "    </tr>\n",
       "    <tr>\n",
       "      <th rowspan=\"2\" valign=\"top\">4</th>\n",
       "      <th>0</th>\n",
       "      <td>27.5</td>\n",
       "      <td>18.0</td>\n",
       "      <td>129.70</td>\n",
       "      <td>115.0</td>\n",
       "      <td>14.5</td>\n",
       "      <td>12.0</td>\n",
       "      <td>1.0</td>\n",
       "      <td>0.0</td>\n",
       "      <td>4.744932</td>\n",
       "      <td>7.18750</td>\n",
       "      <td>0.0</td>\n",
       "      <td>3.314186</td>\n",
       "    </tr>\n",
       "    <tr>\n",
       "      <th>1</th>\n",
       "      <td>16.5</td>\n",
       "      <td>18.0</td>\n",
       "      <td>128.55</td>\n",
       "      <td>123.5</td>\n",
       "      <td>13.0</td>\n",
       "      <td>12.0</td>\n",
       "      <td>1.0</td>\n",
       "      <td>0.0</td>\n",
       "      <td>4.816167</td>\n",
       "      <td>7.71875</td>\n",
       "      <td>0.0</td>\n",
       "      <td>2.801521</td>\n",
       "    </tr>\n",
       "    <tr>\n",
       "      <th rowspan=\"2\" valign=\"top\">5</th>\n",
       "      <th>0</th>\n",
       "      <td>16.0</td>\n",
       "      <td>23.5</td>\n",
       "      <td>134.30</td>\n",
       "      <td>119.5</td>\n",
       "      <td>12.0</td>\n",
       "      <td>12.0</td>\n",
       "      <td>1.0</td>\n",
       "      <td>0.0</td>\n",
       "      <td>4.782607</td>\n",
       "      <td>7.46875</td>\n",
       "      <td>0.0</td>\n",
       "      <td>2.760231</td>\n",
       "    </tr>\n",
       "    <tr>\n",
       "      <th>1</th>\n",
       "      <td>12.5</td>\n",
       "      <td>21.0</td>\n",
       "      <td>133.40</td>\n",
       "      <td>128.0</td>\n",
       "      <td>12.0</td>\n",
       "      <td>10.0</td>\n",
       "      <td>1.0</td>\n",
       "      <td>0.0</td>\n",
       "      <td>4.852030</td>\n",
       "      <td>8.00000</td>\n",
       "      <td>0.0</td>\n",
       "      <td>2.525729</td>\n",
       "    </tr>\n",
       "    <tr>\n",
       "      <th rowspan=\"2\" valign=\"top\">6</th>\n",
       "      <th>0</th>\n",
       "      <td>27.5</td>\n",
       "      <td>30.0</td>\n",
       "      <td>138.30</td>\n",
       "      <td>116.0</td>\n",
       "      <td>12.0</td>\n",
       "      <td>12.0</td>\n",
       "      <td>1.0</td>\n",
       "      <td>0.0</td>\n",
       "      <td>4.753590</td>\n",
       "      <td>7.25000</td>\n",
       "      <td>0.0</td>\n",
       "      <td>3.314186</td>\n",
       "    </tr>\n",
       "    <tr>\n",
       "      <th>1</th>\n",
       "      <td>27.5</td>\n",
       "      <td>23.0</td>\n",
       "      <td>135.60</td>\n",
       "      <td>119.0</td>\n",
       "      <td>14.0</td>\n",
       "      <td>13.0</td>\n",
       "      <td>1.0</td>\n",
       "      <td>0.0</td>\n",
       "      <td>4.779123</td>\n",
       "      <td>7.43750</td>\n",
       "      <td>0.0</td>\n",
       "      <td>3.314186</td>\n",
       "    </tr>\n",
       "  </tbody>\n",
       "</table>\n",
       "</div>"
      ],
      "text/plain": [
       "             faminc  cigtax  cigprice  bwght  fatheduc  motheduc  white  cigs  \\\n",
       "parity male                                                                     \n",
       "1      0       27.5    20.0    130.70  116.0      12.0      12.0    1.0   0.0   \n",
       "       1       22.5    21.0    132.70  120.0      12.0      12.0    1.0   0.0   \n",
       "2      0       27.5    18.0    130.70  119.0      13.0      12.0    1.0   0.0   \n",
       "       1       22.5    18.0    126.80  124.0      12.0      12.0    1.0   0.0   \n",
       "3      0       22.5    20.0    130.80  120.0      12.0      12.0    1.0   0.0   \n",
       "       1       25.0    21.0    131.75  123.0      12.5      12.0    1.0   0.0   \n",
       "4      0       27.5    18.0    129.70  115.0      14.5      12.0    1.0   0.0   \n",
       "       1       16.5    18.0    128.55  123.5      13.0      12.0    1.0   0.0   \n",
       "5      0       16.0    23.5    134.30  119.5      12.0      12.0    1.0   0.0   \n",
       "       1       12.5    21.0    133.40  128.0      12.0      10.0    1.0   0.0   \n",
       "6      0       27.5    30.0    138.30  116.0      12.0      12.0    1.0   0.0   \n",
       "       1       27.5    23.0    135.60  119.0      14.0      13.0    1.0   0.0   \n",
       "\n",
       "               lbwght  bwghtlbs  packs   lfaminc  \n",
       "parity male                                       \n",
       "1      0     4.753590   7.25000    0.0  3.314186  \n",
       "       1     4.787492   7.50000    0.0  3.113515  \n",
       "2      0     4.779123   7.43750    0.0  3.314186  \n",
       "       1     4.820282   7.75000    0.0  3.113515  \n",
       "3      0     4.787492   7.50000    0.0  3.113515  \n",
       "       1     4.812184   7.68750    0.0  3.213850  \n",
       "4      0     4.744932   7.18750    0.0  3.314186  \n",
       "       1     4.816167   7.71875    0.0  2.801521  \n",
       "5      0     4.782607   7.46875    0.0  2.760231  \n",
       "       1     4.852030   8.00000    0.0  2.525729  \n",
       "6      0     4.753590   7.25000    0.0  3.314186  \n",
       "       1     4.779123   7.43750    0.0  3.314186  "
      ]
     },
     "execution_count": 10,
     "metadata": {},
     "output_type": "execute_result"
    }
   ],
   "source": [
    "df.groupby(['parity','male']).median()"
   ]
  },
  {
   "cell_type": "code",
   "execution_count": 11,
   "metadata": {
    "ExecuteTime": {
     "end_time": "2023-02-16T22:34:14.124164Z",
     "start_time": "2023-02-16T22:34:14.104770Z"
    }
   },
   "outputs": [
    {
     "data": {
      "text/plain": [
       "array([ 1.16974130e+02, -4.63407540e-01,  9.27647384e-02])"
      ]
     },
     "execution_count": 11,
     "metadata": {},
     "output_type": "execute_result"
    }
   ],
   "source": [
    "df['intercept'] = 1\n",
    "x = df[['intercept','cigs','faminc']]\n",
    "y = df['bwght']\n",
    "np.linalg.solve(x.T@x,x.T@y)"
   ]
  },
  {
   "cell_type": "markdown",
   "metadata": {},
   "source": [
    "# Topic: Object-oriented programming\t\n",
    "\n",
    "## Benefits\n",
    "\n",
    "**Instantiation**\n",
    "\n",
    "Being able to make instances of something. Suppose you have a new data structure. You want to define the structure and make instances given particular data sets. This can be accomplished with classes. You make a general class, then when faced with a data set, you make a new instance. This ties into the second benefit of object-orientation which is encapsulation\n",
    "\n",
    "**Encapsulation**\n",
    "\n",
    "Being able to combine multiple data points into a single object which will always have the same naming conventions. This allows us to define custom functions which work on a class and which all the instances of that class will have access to. For instance, in pandas, all data sets which would normally just be numpy matrices have dedicated column names attached to them. This allows us to query for the column names and guarantees that something will be there for every data set. \n",
    "\n",
    "**Inheritance**\n",
    "\n",
    "Suppose you wanted to make a panel data frame. This means that you need to create a bunch of panel functions and features, but if you didn't have inheritance, you would have to build this completely from scratch rewriting much of the pandas DataFrame code. With inheritance, you can simply extend the DataFrame class and start writing the new features and functions.\n",
    "\n",
    "## Example"
   ]
  },
  {
   "cell_type": "code",
   "execution_count": 12,
   "metadata": {
    "ExecuteTime": {
     "end_time": "2023-02-17T22:52:49.160343Z",
     "start_time": "2023-02-17T22:52:49.156356Z"
    }
   },
   "outputs": [],
   "source": [
    "class A:\n",
    "    def __init__(self,name):\n",
    "        self.name = name\n",
    "    def print_name(self):\n",
    "        print('A object\\'s name is: {0}'.format(self.name))"
   ]
  },
  {
   "cell_type": "code",
   "execution_count": 13,
   "metadata": {
    "ExecuteTime": {
     "end_time": "2023-02-17T22:52:53.743270Z",
     "start_time": "2023-02-17T22:52:53.731646Z"
    }
   },
   "outputs": [
    {
     "data": {
      "text/plain": [
       "<__main__.A at 0x24b29c1aa00>"
      ]
     },
     "execution_count": 13,
     "metadata": {},
     "output_type": "execute_result"
    }
   ],
   "source": [
    "A('Jason')"
   ]
  },
  {
   "cell_type": "code",
   "execution_count": 14,
   "metadata": {
    "ExecuteTime": {
     "end_time": "2023-02-17T22:53:07.877975Z",
     "start_time": "2023-02-17T22:53:07.865930Z"
    }
   },
   "outputs": [
    {
     "data": {
      "text/plain": [
       "'Jason'"
      ]
     },
     "execution_count": 14,
     "metadata": {},
     "output_type": "execute_result"
    }
   ],
   "source": [
    "jp = A('Jason')\n",
    "jp.name"
   ]
  },
  {
   "cell_type": "code",
   "execution_count": 15,
   "metadata": {
    "ExecuteTime": {
     "end_time": "2023-02-17T22:53:10.242754Z",
     "start_time": "2023-02-17T22:53:10.234587Z"
    }
   },
   "outputs": [
    {
     "data": {
      "text/plain": [
       "<__main__.A at 0x24b29f66790>"
      ]
     },
     "execution_count": 15,
     "metadata": {},
     "output_type": "execute_result"
    }
   ],
   "source": [
    "jp"
   ]
  },
  {
   "cell_type": "code",
   "execution_count": 16,
   "metadata": {
    "ExecuteTime": {
     "end_time": "2023-02-17T22:53:14.031571Z",
     "start_time": "2023-02-17T22:53:14.019048Z"
    }
   },
   "outputs": [
    {
     "name": "stdout",
     "output_type": "stream",
     "text": [
      "A object's name is: Jason\n"
     ]
    }
   ],
   "source": [
    "jp.print_name()"
   ]
  },
  {
   "cell_type": "code",
   "execution_count": 17,
   "metadata": {
    "ExecuteTime": {
     "end_time": "2023-02-17T22:53:57.048985Z",
     "start_time": "2023-02-17T22:53:57.040496Z"
    }
   },
   "outputs": [
    {
     "name": "stdout",
     "output_type": "stream",
     "text": [
      "A object's name is: Miles\n"
     ]
    }
   ],
   "source": [
    "miles = A('Miles')\n",
    "miles.print_name()"
   ]
  },
  {
   "cell_type": "code",
   "execution_count": 18,
   "metadata": {
    "ExecuteTime": {
     "end_time": "2023-02-17T22:57:48.840623Z",
     "start_time": "2023-02-17T22:57:48.836636Z"
    }
   },
   "outputs": [],
   "source": [
    "class B(A):\n",
    "    def __init__(self,name,job):\n",
    "        super(B,self).__init__(name)\n",
    "        #self.name = name\n",
    "        self.job = job\n",
    "    def print_name_and_job(self):\n",
    "        print('{0}\\'s job is: {1}'.format(self.name,self.job))"
   ]
  },
  {
   "cell_type": "code",
   "execution_count": 19,
   "metadata": {
    "ExecuteTime": {
     "end_time": "2023-02-17T22:57:58.098898Z",
     "start_time": "2023-02-17T22:57:58.092912Z"
    }
   },
   "outputs": [
    {
     "name": "stdout",
     "output_type": "stream",
     "text": [
      "jason's job is: teacher\n"
     ]
    }
   ],
   "source": [
    "jp = B('jason','teacher')\n",
    "jp.print_name_and_job()"
   ]
  },
  {
   "cell_type": "code",
   "execution_count": 20,
   "metadata": {
    "ExecuteTime": {
     "end_time": "2023-02-17T22:58:02.418305Z",
     "start_time": "2023-02-17T22:58:02.403276Z"
    }
   },
   "outputs": [
    {
     "data": {
      "text/plain": [
       "'jason'"
      ]
     },
     "execution_count": 20,
     "metadata": {},
     "output_type": "execute_result"
    }
   ],
   "source": [
    "jp.name"
   ]
  },
  {
   "cell_type": "code",
   "execution_count": 21,
   "metadata": {
    "ExecuteTime": {
     "end_time": "2023-02-17T22:58:04.706273Z",
     "start_time": "2023-02-17T22:58:04.696282Z"
    }
   },
   "outputs": [
    {
     "data": {
      "text/plain": [
       "'teacher'"
      ]
     },
     "execution_count": 21,
     "metadata": {},
     "output_type": "execute_result"
    }
   ],
   "source": [
    "jp.job"
   ]
  },
  {
   "cell_type": "code",
   "execution_count": 22,
   "metadata": {
    "ExecuteTime": {
     "end_time": "2023-02-17T22:58:07.979390Z",
     "start_time": "2023-02-17T22:58:07.966400Z"
    }
   },
   "outputs": [
    {
     "name": "stdout",
     "output_type": "stream",
     "text": [
      "A object's name is: jason\n"
     ]
    }
   ],
   "source": [
    "jp.print_name()"
   ]
  },
  {
   "cell_type": "code",
   "execution_count": 23,
   "metadata": {
    "ExecuteTime": {
     "end_time": "2023-02-17T22:58:31.109140Z",
     "start_time": "2023-02-17T22:58:31.093056Z"
    }
   },
   "outputs": [
    {
     "data": {
      "text/plain": [
       "'miles'"
      ]
     },
     "execution_count": 23,
     "metadata": {},
     "output_type": "execute_result"
    }
   ],
   "source": [
    "mc = B('miles','actor')\n",
    "mc.name"
   ]
  },
  {
   "cell_type": "code",
   "execution_count": 24,
   "metadata": {
    "ExecuteTime": {
     "end_time": "2023-02-17T22:58:35.818177Z",
     "start_time": "2023-02-17T22:58:35.799599Z"
    }
   },
   "outputs": [
    {
     "data": {
      "text/plain": [
       "'actor'"
      ]
     },
     "execution_count": 24,
     "metadata": {},
     "output_type": "execute_result"
    }
   ],
   "source": [
    "mc.job"
   ]
  },
  {
   "cell_type": "code",
   "execution_count": 25,
   "metadata": {
    "ExecuteTime": {
     "end_time": "2023-02-17T22:58:44.460144Z",
     "start_time": "2023-02-17T22:58:44.454165Z"
    }
   },
   "outputs": [
    {
     "name": "stdout",
     "output_type": "stream",
     "text": [
      "A object's name is: miles\n"
     ]
    }
   ],
   "source": [
    "mc.print_name()"
   ]
  },
  {
   "cell_type": "code",
   "execution_count": 26,
   "metadata": {
    "ExecuteTime": {
     "end_time": "2023-02-17T22:58:52.427153Z",
     "start_time": "2023-02-17T22:58:52.414541Z"
    }
   },
   "outputs": [
    {
     "name": "stdout",
     "output_type": "stream",
     "text": [
      "miles's job is: actor\n"
     ]
    }
   ],
   "source": [
    "mc.print_name_and_job()"
   ]
  },
  {
   "cell_type": "markdown",
   "metadata": {},
   "source": [
    "# Data Science: Linear model\t\n",
    "Our first goal is to understand the variance of $\\hat\\beta$. To do this, we will combine the formula for $\\hat\\beta$ with the linear modeling equation, $y=\\mathbf X\\beta+e$:\n",
    "$$\\begin{align}\n",
    "\\hat\\beta&=\\left(\\mathbf X'\\mathbf X\\right)^{-1}\\mathbf X'y\\\\\n",
    "&=\\left(\\mathbf X'\\mathbf X\\right)^{-1}\\mathbf X'\\mathbf X\\beta+\\left(\\mathbf X'\\mathbf X\\right)^{-1}\\mathbf X'e\\\\\n",
    "&=\\beta+\\left(\\mathbf X'\\mathbf X\\right)^{-1}\\mathbf X'e\\\\\n",
    "\\hat\\beta-\\beta&=\\left(\\mathbf X'\\mathbf X\\right)^{-1}\\mathbf X'e\n",
    "\\end{align}$$\n",
    "Then we can define the variance:\n",
    "$$\\text{Var}(\\hat\\beta\\vert\\mathbf X)=\\text{E}\\left[\\left(\\hat\\beta-\\beta\\right)\\left(\\hat\\beta-\\beta\\right)'\\vert\\mathbf X\\right]$$\n",
    "This is true so long as $\\text{E}(\\hat\\beta)=\\beta$. I.e., when there is no endogeneity. Notice how our derived equation fits neatly into this definition. \n",
    "$$\\text{Var}(\\hat\\beta\\vert\\mathbf X)=\\left(\\mathbf X'\\mathbf X\\right)^{-1}\\mathbf X'\\text{E}\\left[ee'\\vert\\mathbf X\\right]\\mathbf X\\left(\\mathbf X'\\mathbf X\\right)^{-1}$$\n",
    "So we have our general formula for the variance. The OLS assumptions (no heteroskedasticity, no autocorrelation) imply in matrix form that $\\text{E}\\left[ee'\\vert\\mathbf X\\right]=\\sigma^2\\mathbf I_n$. Now we can simply our variance as follows:\n",
    "$$\\begin{align}\n",
    "\\text{Var}(\\hat\\beta\\vert\\mathbf X)&=\\sigma^2\\left(\\mathbf X'\\mathbf X\\right)^{-1}\\mathbf X'\\mathbf I_n\\mathbf X\\left(\\mathbf X'\\mathbf X\\right)^{-1}\\\\\n",
    " &=\\sigma^2\\left(\\mathbf X'\\mathbf X\\right)^{-1}\\mathbf X'\\mathbf X\\left(\\mathbf X'\\mathbf X\\right)^{-1}\\\\\n",
    " &=\\sigma^2\\left(\\mathbf X'\\mathbf X\\right)^{-1}\n",
    "\\end{align}$$\n",
    "So we can define the OLS variance estimator:\n",
    "$$\\hat{\\text{Var}}(\\hat\\beta)_{\\text{OLS}}=s^2\\left(\\mathbf X'\\mathbf X\\right)^{-1}$$\n",
    "where $s^2=(n-r)^{-1}\\sum_{i=1}^n\\hat e_i^2$\n",
    "If we want to only assume no autocorrelation then $\\text{E}\\left[ee'\\vert\\mathbf X\\right]=\\text{diag}\\left( \\sigma_i^2\\right)$ and the variance becomes:\n",
    "$$\\hat{\\text{Var}}(\\hat\\beta)_{\\text{White}}=\\left(\\mathbf X'\\mathbf X\\right)^{-1}\\mathbf X' \\text{diag}\\left(\\hat{e}^2\\right)\\mathbf X\\left(\\mathbf X'\\mathbf X\\right)^{-1}$$\n",
    "t-statistics can be defined by:\n",
    "$$t_{\\hat\\beta}=\\hat\\beta\\circ\\text{diag}\\left(\\sqrt{\\hat{\\text{Var}}(\\hat\\beta)^{-1}}\\right)$$\n",
    "and p-values can similarly be defined:\n",
    "$$p_{\\hat\\beta}=2\\Phi(-\\vert t_{\\hat\\beta}\\vert)$$"
   ]
  },
  {
   "cell_type": "code",
   "execution_count": 28,
   "metadata": {
    "ExecuteTime": {
     "end_time": "2023-02-17T23:05:23.856752Z",
     "start_time": "2023-02-17T23:05:23.848712Z"
    }
   },
   "outputs": [
    {
     "data": {
      "text/plain": [
       "array([111.5923058 ,  -5.06396699,   3.18048888])"
      ]
     },
     "execution_count": 28,
     "metadata": {},
     "output_type": "execute_result"
    }
   ],
   "source": [
    "df['(intercept)'] = 1\n",
    "x = df[['(intercept)','cigs','faminc']]\n",
    "y = df['bwght']\n",
    "b = np.linalg.solve(x.T@x,x.T@y)\n",
    "e = y-x@b\n",
    "vb = e.var()*np.linalg.inv(x.T@x)\n",
    "se = np.sqrt(np.diagonal(vb))\n",
    "tstat = b/se\n",
    "tstat"
   ]
  },
  {
   "cell_type": "code",
   "execution_count": 29,
   "metadata": {
    "ExecuteTime": {
     "end_time": "2023-02-17T23:11:00.930390Z",
     "start_time": "2023-02-17T23:11:00.474418Z"
    },
    "code_folding": []
   },
   "outputs": [],
   "source": [
    "import scipy.stats as sps\n",
    "\n",
    "class linear_model:\n",
    "    def __init__(self,x,y):\n",
    "        self.x = x\n",
    "        self.y = y\n",
    "        self.b = np.linalg.solve(x.T@x,x.T@y)\n",
    "        e = y-x@self.b\n",
    "        self.vb = self.vcov_b(e)\n",
    "        self.se = np.sqrt(np.diagonal(self.vb))\n",
    "        self.t = self.b/self.se\n",
    "        self.p = 2*sps.norm.cdf(-np.abs(self.t))\n",
    "        self.rsq = 1-e.var()/y.var()\n",
    "    def vcov_b(self,e):\n",
    "        x = self.x\n",
    "        return e.var()*np.linalg.inv(x.T@x)\n",
    "class white(linear_model):\n",
    "    def vcov_b(self,e):\n",
    "        x = self.x\n",
    "        meat = np.diagflat(e.values**2)\n",
    "        bread = np.linalg.solve(x.T@x,x.T)\n",
    "        sandwich = bread@meat@bread.T\n",
    "        return sandwich\n",
    "class newey(linear_model):\n",
    "    def vcov_b(self,e):\n",
    "        x = self.x\n",
    "        sig2 = (e**2).mean()\n",
    "        sig_1 = (e[1:]*e[:-1]).mean()\n",
    "        meat = ??\n",
    "        bread = np.linalg.solve(x.T@x,x.T)\n",
    "        sandwich = bread@meat@bread.T\n",
    "        return sandwich"
   ]
  },
  {
   "cell_type": "code",
   "execution_count": null,
   "metadata": {},
   "outputs": [],
   "source": []
  },
  {
   "cell_type": "code",
   "execution_count": 30,
   "metadata": {
    "ExecuteTime": {
     "end_time": "2023-02-17T23:11:03.373593Z",
     "start_time": "2023-02-17T23:11:03.353726Z"
    }
   },
   "outputs": [
    {
     "data": {
      "text/plain": [
       "array([0.00000000e+00, 4.10620787e-07, 1.47026782e-03])"
      ]
     },
     "execution_count": 30,
     "metadata": {},
     "output_type": "execute_result"
    }
   ],
   "source": [
    "df['(intercept)'] = 1\n",
    "x = df[['(intercept)','cigs','faminc']]\n",
    "y = df['bwght']\n",
    "linear_model(x,y).p"
   ]
  },
  {
   "cell_type": "code",
   "execution_count": 31,
   "metadata": {
    "ExecuteTime": {
     "end_time": "2023-02-17T23:11:07.714491Z",
     "start_time": "2023-02-17T23:11:07.690635Z"
    }
   },
   "outputs": [
    {
     "data": {
      "text/plain": [
       "array([0.00000000e+00, 1.72664982e-07, 1.15982470e-03])"
      ]
     },
     "execution_count": 31,
     "metadata": {},
     "output_type": "execute_result"
    }
   ],
   "source": [
    "white(x,y).p"
   ]
  },
  {
   "cell_type": "code",
   "execution_count": 32,
   "metadata": {
    "ExecuteTime": {
     "end_time": "2023-02-17T23:11:23.948051Z",
     "start_time": "2023-02-17T23:11:23.940218Z"
    }
   },
   "outputs": [
    {
     "data": {
      "text/plain": [
       "0.02980483732757988"
      ]
     },
     "execution_count": 32,
     "metadata": {},
     "output_type": "execute_result"
    }
   ],
   "source": [
    "linear_model(x,y).rsq"
   ]
  },
  {
   "cell_type": "code",
   "execution_count": 33,
   "metadata": {
    "ExecuteTime": {
     "end_time": "2023-02-17T23:11:32.645795Z",
     "start_time": "2023-02-17T23:11:32.623708Z"
    }
   },
   "outputs": [
    {
     "data": {
      "text/plain": [
       "0.02980483732757988"
      ]
     },
     "execution_count": 33,
     "metadata": {},
     "output_type": "execute_result"
    }
   ],
   "source": [
    "white(x,y).rsq"
   ]
  },
  {
   "cell_type": "markdown",
   "metadata": {},
   "source": [
    "# Programming challenges \n",
    "\n",
    "## Package structure\n",
    "\n",
    "Consider how you would organize a data science package. What classes would you use? How would the inheritance structure work?\n"
   ]
  },
  {
   "cell_type": "code",
   "execution_count": 15,
   "metadata": {
    "ExecuteTime": {
     "end_time": "2023-02-24T22:44:53.334269Z",
     "start_time": "2023-02-24T22:44:52.875975Z"
    }
   },
   "outputs": [],
   "source": [
    "from cleands import *"
   ]
  },
  {
   "cell_type": "code",
   "execution_count": 16,
   "metadata": {
    "ExecuteTime": {
     "end_time": "2023-02-24T22:45:21.224317Z",
     "start_time": "2023-02-24T22:45:21.179661Z"
    }
   },
   "outputs": [],
   "source": [
    "model = LeastSquaresRegressor(['cigs','faminc','male','white'],'bwght',df)"
   ]
  },
  {
   "cell_type": "code",
   "execution_count": 17,
   "metadata": {
    "ExecuteTime": {
     "end_time": "2023-02-24T22:45:27.227790Z",
     "start_time": "2023-02-24T22:45:27.200186Z"
    }
   },
   "outputs": [
    {
     "data": {
      "text/html": [
       "<div>\n",
       "<style scoped>\n",
       "    .dataframe tbody tr th:only-of-type {\n",
       "        vertical-align: middle;\n",
       "    }\n",
       "\n",
       "    .dataframe tbody tr th {\n",
       "        vertical-align: top;\n",
       "    }\n",
       "\n",
       "    .dataframe thead th {\n",
       "        text-align: right;\n",
       "    }\n",
       "</style>\n",
       "<table border=\"1\" class=\"dataframe\">\n",
       "  <thead>\n",
       "    <tr style=\"text-align: right;\">\n",
       "      <th></th>\n",
       "      <th>variable</th>\n",
       "      <th>estimate</th>\n",
       "      <th>std.error</th>\n",
       "      <th>t.statistic</th>\n",
       "      <th>p.value</th>\n",
       "    </tr>\n",
       "  </thead>\n",
       "  <tbody>\n",
       "    <tr>\n",
       "      <th>0</th>\n",
       "      <td>cigs</td>\n",
       "      <td>1.0489184975975647</td>\n",
       "      <td>0.19371616409367803</td>\n",
       "      <td>5.414718500673617</td>\n",
       "      <td>7.228576256090343e-08</td>\n",
       "    </tr>\n",
       "    <tr>\n",
       "      <th>1</th>\n",
       "      <td>faminc</td>\n",
       "      <td>1.0677507490658016</td>\n",
       "      <td>0.06010287612803548</td>\n",
       "      <td>17.765385250303197</td>\n",
       "      <td>9.124234792668017e-64</td>\n",
       "    </tr>\n",
       "    <tr>\n",
       "      <th>2</th>\n",
       "      <td>male</td>\n",
       "      <td>38.10566297658433</td>\n",
       "      <td>2.120023045875885</td>\n",
       "      <td>17.9741739367937</td>\n",
       "      <td>4.360423718260786e-65</td>\n",
       "    </tr>\n",
       "    <tr>\n",
       "      <th>3</th>\n",
       "      <td>white</td>\n",
       "      <td>64.10922814406968</td>\n",
       "      <td>2.481190547764544</td>\n",
       "      <td>25.838091396015347</td>\n",
       "      <td>1.8682934197969233e-120</td>\n",
       "    </tr>\n",
       "  </tbody>\n",
       "</table>\n",
       "</div>"
      ],
      "text/plain": [
       "  variable            estimate            std.error         t.statistic  \\\n",
       "0     cigs  1.0489184975975647  0.19371616409367803   5.414718500673617   \n",
       "1   faminc  1.0677507490658016  0.06010287612803548  17.765385250303197   \n",
       "2     male   38.10566297658433    2.120023045875885    17.9741739367937   \n",
       "3    white   64.10922814406968    2.481190547764544  25.838091396015347   \n",
       "\n",
       "                   p.value  \n",
       "0    7.228576256090343e-08  \n",
       "1    9.124234792668017e-64  \n",
       "2    4.360423718260786e-65  \n",
       "3  1.8682934197969233e-120  "
      ]
     },
     "execution_count": 17,
     "metadata": {},
     "output_type": "execute_result"
    }
   ],
   "source": [
    "model.tidy"
   ]
  },
  {
   "cell_type": "code",
   "execution_count": 18,
   "metadata": {
    "ExecuteTime": {
     "end_time": "2023-02-24T22:45:43.251510Z",
     "start_time": "2023-02-24T22:45:43.231558Z"
    }
   },
   "outputs": [
    {
     "data": {
      "text/html": [
       "<div>\n",
       "<style scoped>\n",
       "    .dataframe tbody tr th:only-of-type {\n",
       "        vertical-align: middle;\n",
       "    }\n",
       "\n",
       "    .dataframe tbody tr th {\n",
       "        vertical-align: top;\n",
       "    }\n",
       "\n",
       "    .dataframe thead th {\n",
       "        text-align: right;\n",
       "    }\n",
       "</style>\n",
       "<table border=\"1\" class=\"dataframe\">\n",
       "  <thead>\n",
       "    <tr style=\"text-align: right;\">\n",
       "      <th></th>\n",
       "      <th>r.squared</th>\n",
       "      <th>adjusted.r.squared</th>\n",
       "      <th>self.df</th>\n",
       "      <th>resid.df</th>\n",
       "      <th>aic</th>\n",
       "      <th>bic</th>\n",
       "      <th>log.likelihood</th>\n",
       "      <th>deviance</th>\n",
       "      <th>resid.var</th>\n",
       "    </tr>\n",
       "  </thead>\n",
       "  <tbody>\n",
       "    <tr>\n",
       "      <th></th>\n",
       "      <td>-3.543371</td>\n",
       "      <td>-3.55322</td>\n",
       "      <td>4</td>\n",
       "      <td>1384</td>\n",
       "      <td>14412.799693</td>\n",
       "      <td>14433.74217</td>\n",
       "      <td>-7202.399847</td>\n",
       "      <td>-2100.97298</td>\n",
       "      <td>1886.325393</td>\n",
       "    </tr>\n",
       "  </tbody>\n",
       "</table>\n",
       "</div>"
      ],
      "text/plain": [
       "  r.squared  adjusted.r.squared  self.df  resid.df           aic          bic  \\\n",
       "  -3.543371            -3.55322        4      1384  14412.799693  14433.74217   \n",
       "\n",
       "  log.likelihood    deviance    resid.var  \n",
       "    -7202.399847 -2100.97298  1886.325393  "
      ]
     },
     "execution_count": 18,
     "metadata": {},
     "output_type": "execute_result"
    }
   ],
   "source": [
    "model.glance"
   ]
  },
  {
   "cell_type": "code",
   "execution_count": 19,
   "metadata": {
    "ExecuteTime": {
     "end_time": "2023-02-24T22:48:36.709113Z",
     "start_time": "2023-02-24T22:48:36.695581Z"
    }
   },
   "outputs": [
    {
     "data": {
      "text/plain": [
       "(['(intercept)', 'cigs', 'faminc', 'male', 'white'],\n",
       " 'bwght',\n",
       "       faminc  cigtax  cigprice  bwght  fatheduc  motheduc  parity  male  \\\n",
       " 0       13.5    16.5     122.3    109      12.0      12.0       1     1   \n",
       " 1        7.5    16.5     122.3    133       6.0      12.0       2     1   \n",
       " 2        0.5    16.5     122.3    129       NaN      12.0       2     0   \n",
       " 3       15.5    16.5     122.3    126      12.0      12.0       2     1   \n",
       " 4       27.5    16.5     122.3    134      14.0      12.0       2     1   \n",
       " ...      ...     ...       ...    ...       ...       ...     ...   ...   \n",
       " 1383    27.5    30.0     138.3    110      12.0      12.0       4     1   \n",
       " 1384     5.5    30.0     138.3    146       NaN      16.0       2     1   \n",
       " 1385    65.0     8.0     118.6    135      18.0      16.0       2     0   \n",
       " 1386    27.5     8.0     118.6    118       NaN      14.0       2     0   \n",
       " 1387    37.5     8.0     118.6    111      16.0      13.0       2     0   \n",
       " \n",
       "       white  cigs    lbwght  bwghtlbs  packs   lfaminc  (intercept)  \n",
       " 0         1     0  4.691348    6.8125    0.0  2.602690          1.0  \n",
       " 1         0     0  4.890349    8.3125    0.0  2.014903          1.0  \n",
       " 2         0     0  4.859812    8.0625    0.0 -0.693147          1.0  \n",
       " 3         0     0  4.836282    7.8750    0.0  2.740840          1.0  \n",
       " 4         1     0  4.897840    8.3750    0.0  3.314186          1.0  \n",
       " ...     ...   ...       ...       ...    ...       ...          ...  \n",
       " 1383      1     0  4.700480    6.8750    0.0  3.314186          1.0  \n",
       " 1384      1     0  4.983607    9.1250    0.0  1.704748          1.0  \n",
       " 1385      1     0  4.905275    8.4375    0.0  4.174387          1.0  \n",
       " 1386      1     0  4.770685    7.3750    0.0  3.314186          1.0  \n",
       " 1387      1     0  4.709530    6.9375    0.0  3.624341          1.0  \n",
       " \n",
       " [1388 rows x 15 columns])"
      ]
     },
     "execution_count": 19,
     "metadata": {},
     "output_type": "execute_result"
    }
   ],
   "source": [
    "add_intercept(['cigs','faminc','male','white'],'bwght',df)"
   ]
  },
  {
   "cell_type": "code",
   "execution_count": 21,
   "metadata": {
    "ExecuteTime": {
     "end_time": "2023-02-24T22:49:48.824848Z",
     "start_time": "2023-02-24T22:49:48.816147Z"
    }
   },
   "outputs": [],
   "source": [
    "model = LeastSquaresRegressor(*add_intercept(['cigs','faminc','male','white'],'bwght',df))"
   ]
  },
  {
   "cell_type": "code",
   "execution_count": 22,
   "metadata": {
    "ExecuteTime": {
     "end_time": "2023-02-24T22:49:54.542087Z",
     "start_time": "2023-02-24T22:49:54.523359Z"
    }
   },
   "outputs": [
    {
     "data": {
      "text/html": [
       "<div>\n",
       "<style scoped>\n",
       "    .dataframe tbody tr th:only-of-type {\n",
       "        vertical-align: middle;\n",
       "    }\n",
       "\n",
       "    .dataframe tbody tr th {\n",
       "        vertical-align: top;\n",
       "    }\n",
       "\n",
       "    .dataframe thead th {\n",
       "        text-align: right;\n",
       "    }\n",
       "</style>\n",
       "<table border=\"1\" class=\"dataframe\">\n",
       "  <thead>\n",
       "    <tr style=\"text-align: right;\">\n",
       "      <th></th>\n",
       "      <th>variable</th>\n",
       "      <th>estimate</th>\n",
       "      <th>std.error</th>\n",
       "      <th>t.statistic</th>\n",
       "      <th>p.value</th>\n",
       "    </tr>\n",
       "  </thead>\n",
       "  <tbody>\n",
       "    <tr>\n",
       "      <th>0</th>\n",
       "      <td>(intercept)</td>\n",
       "      <td>112.06525616776224</td>\n",
       "      <td>1.4426599941528067</td>\n",
       "      <td>77.67960338677852</td>\n",
       "      <td>0.0</td>\n",
       "    </tr>\n",
       "    <tr>\n",
       "      <th>1</th>\n",
       "      <td>cigs</td>\n",
       "      <td>-0.4741599261368201</td>\n",
       "      <td>0.09091737443144614</td>\n",
       "      <td>-5.2152839773694515</td>\n",
       "      <td>2.114547450094389e-07</td>\n",
       "    </tr>\n",
       "    <tr>\n",
       "      <th>2</th>\n",
       "      <td>faminc</td>\n",
       "      <td>0.06005484547284407</td>\n",
       "      <td>0.03044639944238848</td>\n",
       "      <td>1.9724777501681772</td>\n",
       "      <td>0.04875403243004204</td>\n",
       "    </tr>\n",
       "    <tr>\n",
       "      <th>3</th>\n",
       "      <td>male</td>\n",
       "      <td>3.14523963378479</td>\n",
       "      <td>1.070759947506237</td>\n",
       "      <td>2.937390066849199</td>\n",
       "      <td>0.003364678372010795</td>\n",
       "    </tr>\n",
       "    <tr>\n",
       "      <th>4</th>\n",
       "      <td>white</td>\n",
       "      <td>5.407261543326522</td>\n",
       "      <td>1.3653108349547949</td>\n",
       "      <td>3.960461899876122</td>\n",
       "      <td>7.861357347001669e-05</td>\n",
       "    </tr>\n",
       "  </tbody>\n",
       "</table>\n",
       "</div>"
      ],
      "text/plain": [
       "      variable             estimate            std.error          t.statistic  \\\n",
       "0  (intercept)   112.06525616776224   1.4426599941528067    77.67960338677852   \n",
       "1         cigs  -0.4741599261368201  0.09091737443144614  -5.2152839773694515   \n",
       "2       faminc  0.06005484547284407  0.03044639944238848   1.9724777501681772   \n",
       "3         male     3.14523963378479    1.070759947506237    2.937390066849199   \n",
       "4        white    5.407261543326522   1.3653108349547949    3.960461899876122   \n",
       "\n",
       "                 p.value  \n",
       "0                    0.0  \n",
       "1  2.114547450094389e-07  \n",
       "2    0.04875403243004204  \n",
       "3   0.003364678372010795  \n",
       "4  7.861357347001669e-05  "
      ]
     },
     "execution_count": 22,
     "metadata": {},
     "output_type": "execute_result"
    }
   ],
   "source": [
    "model.tidy"
   ]
  },
  {
   "cell_type": "code",
   "execution_count": 23,
   "metadata": {
    "ExecuteTime": {
     "end_time": "2023-02-24T22:50:22.540654Z",
     "start_time": "2023-02-24T22:50:22.526252Z"
    }
   },
   "outputs": [
    {
     "data": {
      "text/html": [
       "<div>\n",
       "<style scoped>\n",
       "    .dataframe tbody tr th:only-of-type {\n",
       "        vertical-align: middle;\n",
       "    }\n",
       "\n",
       "    .dataframe tbody tr th {\n",
       "        vertical-align: top;\n",
       "    }\n",
       "\n",
       "    .dataframe thead th {\n",
       "        text-align: right;\n",
       "    }\n",
       "</style>\n",
       "<table border=\"1\" class=\"dataframe\">\n",
       "  <thead>\n",
       "    <tr style=\"text-align: right;\">\n",
       "      <th></th>\n",
       "      <th>r.squared</th>\n",
       "      <th>adjusted.r.squared</th>\n",
       "      <th>self.df</th>\n",
       "      <th>resid.df</th>\n",
       "      <th>aic</th>\n",
       "      <th>bic</th>\n",
       "      <th>log.likelihood</th>\n",
       "      <th>deviance</th>\n",
       "      <th>resid.var</th>\n",
       "    </tr>\n",
       "  </thead>\n",
       "  <tbody>\n",
       "    <tr>\n",
       "      <th></th>\n",
       "      <td>0.046451</td>\n",
       "      <td>0.043693</td>\n",
       "      <td>5</td>\n",
       "      <td>1383</td>\n",
       "      <td>12247.807094</td>\n",
       "      <td>12273.98519</td>\n",
       "      <td>-6118.903547</td>\n",
       "      <td>66.019619</td>\n",
       "      <td>396.182484</td>\n",
       "    </tr>\n",
       "  </tbody>\n",
       "</table>\n",
       "</div>"
      ],
      "text/plain": [
       "  r.squared  adjusted.r.squared  self.df  resid.df           aic          bic  \\\n",
       "   0.046451            0.043693        5      1383  12247.807094  12273.98519   \n",
       "\n",
       "  log.likelihood   deviance   resid.var  \n",
       "    -6118.903547  66.019619  396.182484  "
      ]
     },
     "execution_count": 23,
     "metadata": {},
     "output_type": "execute_result"
    }
   ],
   "source": [
    "model.glance"
   ]
  },
  {
   "cell_type": "markdown",
   "metadata": {},
   "source": [
    "## Audioactive decay\n",
    "\n",
    "Start with $x_0 = 1$. Now for each character, count the number of occurances. List the count and then the number. So we start with one $1$: $x_1=11$. Now we have two $1$s: $x_2=21$. The sequence continues:\n",
    "\n",
    "```\n",
    "1\n",
    "11\n",
    "21\n",
    "1211\n",
    "111221\n",
    "312211\n",
    "13112221\n",
    "1113213211\n",
    "31131211131221\n",
    "```\n",
    "\n",
    "Print the first 15 rows of this sequence."
   ]
  },
  {
   "cell_type": "code",
   "execution_count": 32,
   "metadata": {
    "ExecuteTime": {
     "end_time": "2023-02-16T23:10:57.789806Z",
     "start_time": "2023-02-16T23:10:57.779435Z"
    }
   },
   "outputs": [
    {
     "data": {
      "text/plain": [
       "['1', '1', '1', '2', '2', '1']"
      ]
     },
     "execution_count": 32,
     "metadata": {},
     "output_type": "execute_result"
    }
   ],
   "source": [
    "list('111221')"
   ]
  },
  {
   "cell_type": "code",
   "execution_count": 11,
   "metadata": {
    "ExecuteTime": {
     "end_time": "2023-02-24T22:12:45.330649Z",
     "start_time": "2023-02-24T22:12:45.316975Z"
    }
   },
   "outputs": [
    {
     "name": "stdout",
     "output_type": "stream",
     "text": [
      "1\n",
      "11\n",
      "21\n",
      "1211\n",
      "111221\n",
      "312211\n",
      "13112221\n",
      "1113213211\n",
      "31131211131221\n",
      "13211311123113112211\n",
      "11131221133112132113212221\n",
      "3113112221232112111312211312113211\n",
      "1321132132111213122112311311222113111221131221\n",
      "11131221131211131231121113112221121321132132211331222113112211\n",
      "311311222113111231131112132112311321322112111312211312111322212311322113212221\n"
     ]
    }
   ],
   "source": [
    "line = '1'\n",
    "print(line)\n",
    "for i in range(14):\n",
    "    newline = ''\n",
    "    current = line[0]\n",
    "    count = 1\n",
    "    for j in range(1,len(line)):\n",
    "        if line[j]==current:\n",
    "            count += 1\n",
    "        else:\n",
    "            newline += str(count)\n",
    "            newline += current\n",
    "            current = line[j]\n",
    "            count = 1\n",
    "    newline += str(count)\n",
    "    newline += current\n",
    "    line = newline\n",
    "    print(line)"
   ]
  },
  {
   "cell_type": "code",
   "execution_count": null,
   "metadata": {},
   "outputs": [],
   "source": []
  }
 ],
 "metadata": {
  "kernelspec": {
   "display_name": "Python 3 (ipykernel)",
   "language": "python",
   "name": "python3"
  },
  "language_info": {
   "codemirror_mode": {
    "name": "ipython",
    "version": 3
   },
   "file_extension": ".py",
   "mimetype": "text/x-python",
   "name": "python",
   "nbconvert_exporter": "python",
   "pygments_lexer": "ipython3",
   "version": "3.9.12"
  },
  "toc": {
   "base_numbering": 1,
   "nav_menu": {},
   "number_sections": true,
   "sideBar": true,
   "skip_h1_title": false,
   "title_cell": "Table of Contents",
   "title_sidebar": "Contents",
   "toc_cell": false,
   "toc_position": {},
   "toc_section_display": true,
   "toc_window_display": false
  },
  "varInspector": {
   "cols": {
    "lenName": 16,
    "lenType": 16,
    "lenVar": 40
   },
   "kernels_config": {
    "python": {
     "delete_cmd_postfix": "",
     "delete_cmd_prefix": "del ",
     "library": "var_list.py",
     "varRefreshCmd": "print(var_dic_list())"
    },
    "r": {
     "delete_cmd_postfix": ") ",
     "delete_cmd_prefix": "rm(",
     "library": "var_list.r",
     "varRefreshCmd": "cat(var_dic_list()) "
    }
   },
   "types_to_exclude": [
    "module",
    "function",
    "builtin_function_or_method",
    "instance",
    "_Feature"
   ],
   "window_display": false
  }
 },
 "nbformat": 4,
 "nbformat_minor": 2
}
