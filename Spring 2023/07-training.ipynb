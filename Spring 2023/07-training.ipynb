{
 "cells": [
  {
   "cell_type": "markdown",
   "metadata": {},
   "source": [
    "<div style=\"text-align:center\"><span style=\"font-size:2em; font-weight: bold;\"> Lecture 7—Training</span></div>"
   ]
  },
  {
   "cell_type": "markdown",
   "metadata": {},
   "source": [
    "# Programming: Quadratic Programming\n",
    "\n",
    "When performing optimization, it is sometimes possible to reduce a given problem to a linear or quadratic programming problem. Such problems have extremely fast solutions, which we can use to speed up our code. The downside is that we have to do a little math to put them in this form.\n",
    "\n",
    "## Linear Programming\n",
    "\n",
    "$$\n",
    "\\begin{align}\n",
    "\\min_{x,s}\\;&c'x \\\\\n",
    "\\text{subject to}\\;& Gx+s=h \\\\\n",
    "& Ax=b \\\\\n",
    "& s\\geq0\n",
    "\\end{align}\n",
    "$$\n",
    "\n",
    "## Quadratic Programming\n",
    "\n",
    "$$\n",
    "\\begin{align}\n",
    "\\min_{x}\\;&(1/2)x'Px+q'x \\\\\n",
    "\\text{subject to}\\;& Gx\\leq h \\\\\n",
    "& Ax=b\n",
    "\\end{align}\n",
    "$$"
   ]
  },
  {
   "cell_type": "markdown",
   "metadata": {},
   "source": [
    "$$\n",
    "\\min_\\beta e'e = \\min_\\beta (y-X\\beta)'(y-X\\beta) = \\min_\\beta y'y-2y'X\\beta+\\beta'X'X\\beta\n",
    "$$\n",
    "$$\n",
    "\\min_\\beta \\beta'X'X\\beta-2y'X\\beta\n",
    "$$\n",
    "$$\n",
    "\\min_\\beta (1/2)\\beta'X'X\\beta-y'X\\beta\n",
    "$$"
   ]
  },
  {
   "cell_type": "markdown",
   "metadata": {},
   "source": [
    "# Data Science\n",
    "\n",
    "## $L_1$ Regularization\n",
    "\n",
    "Given a model:\n",
    "$$y=\\mathbf X\\beta+e$$\n",
    "The $L_1$ regularization of the model is defined by:\n",
    "$$\n",
    "\\begin{align}\n",
    "\\min_\\beta \\;& e'e \\\\\n",
    "\\text{subject to}\\;&\\Vert\\beta\\Vert_1 \\leq T\n",
    "\\end{align}\n",
    "$$\n",
    "Which is equivalent to the summation notation version:\n",
    "$$\n",
    "\\begin{align}\n",
    "\\min_\\beta \\;& \\sum_{i=1}^n e_i^2\\\\\n",
    "\\text{subject to}\\;&\\sum_{j=1}^r\\vert\\beta_j\\vert \\leq T\n",
    "\\end{align}\n",
    "$$\n",
    "Solving for $\\beta$ we obtain:\n",
    "$$\n",
    "\\begin{align}\n",
    "\\min_\\beta \\;& (1/2)\\beta'\\mathbf X'\\mathbf X \\beta-y'\\mathbf X \\beta\\\\\n",
    "\\text{subject to}\\;&\\mathbf 1_r'\\vert\\beta\\vert \\leq T\n",
    "\\end{align}\n",
    "$$ \n",
    "To put this in terms where we can use the quadratic programming format we need to split the betas into their positive and negative components: $\\beta=\\beta_+-\\beta_-$ So we define $\\beta_\\pm = [\\beta_+',\\beta_-']'$\n",
    "$$\n",
    "\\begin{align}\n",
    "\\min_{\\beta_{\\pm}} \\;& (1/2)\\beta_\\pm'\\left(\n",
    "\\begin{bmatrix}\n",
    "1 & -1 \\\\\n",
    "-1 & 1 \n",
    "\\end{bmatrix}\n",
    "\\otimes\\mathbf X'\\mathbf X \\right)\\beta_\\pm-\\left(\n",
    "\\begin{bmatrix}\n",
    "1 & -1\n",
    "\\end{bmatrix}\n",
    "\\otimes y'\\mathbf X \\right) \\beta_{\\pm}\\\\\n",
    "\\text{subject to}\\;&\\mathbf 1_{2r}'\\beta_\\pm \\leq T\\\\\n",
    "& -\\mathbf I_{2r} \\beta_{\\pm}\\leq 0\n",
    "\\end{align}\n",
    "$$"
   ]
  },
  {
   "cell_type": "code",
   "execution_count": 2,
   "metadata": {
    "ExecuteTime": {
     "end_time": "2023-03-10T22:52:02.119577Z",
     "start_time": "2023-03-10T22:52:00.075447Z"
    }
   },
   "outputs": [
    {
     "name": "stdout",
     "output_type": "stream",
     "text": [
      "Requirement already satisfied: cvxopt in c:\\users\\jason\\appdata\\roaming\\python\\python39\\site-packages (1.3.0)\n"
     ]
    }
   ],
   "source": [
    "!pip install --user cvxopt"
   ]
  },
  {
   "cell_type": "code",
   "execution_count": 2,
   "metadata": {
    "ExecuteTime": {
     "end_time": "2023-03-10T22:53:09.371372Z",
     "start_time": "2023-03-10T22:53:09.354390Z"
    }
   },
   "outputs": [],
   "source": [
    "import numpy as np\n",
    "import pandas as pd\n",
    "import cvxopt as cvx\n",
    "import cvxopt.solvers as solv\n",
    "from scipy.stats import zscore\n",
    "\n",
    "df = pd.read_csv('BWGHT.csv')\n",
    "npx = df[['cigs','faminc','male','white']].values\n",
    "npy = df['bwght'].values\n",
    "ones = np.ones((npx.shape[0],1))\n",
    "npx = np.hstack((ones,npx))"
   ]
  },
  {
   "cell_type": "code",
   "execution_count": 3,
   "metadata": {
    "ExecuteTime": {
     "end_time": "2023-03-10T22:57:36.192052Z",
     "start_time": "2023-03-10T22:57:36.124921Z"
    }
   },
   "outputs": [
    {
     "name": "stdout",
     "output_type": "stream",
     "text": [
      "     pcost       dcost       gap    pres   dres\n",
      " 0: -9.7915e+06 -9.7909e+06  3e+04  2e+00  5e-16\n",
      " 1: -9.7915e+06 -9.7908e+06  2e+03  1e-01  1e-15\n",
      " 2: -9.7915e+06 -9.7891e+06  7e+02  7e-02  4e-16\n",
      " 3: -9.7841e+06 -9.7591e+06  7e+03  5e-02  5e-16\n",
      " 4: -9.7706e+06 -9.7445e+06  1e+04  3e-02  4e-16\n",
      " 5: -9.7305e+06 -9.7361e+06  3e+04  1e-02  3e-16\n",
      " 6: -9.7259e+06 -9.7349e+06  3e+04  9e-03  9e-17\n",
      " 7: -9.7289e+06 -9.7317e+06  7e+03  2e-03  1e-16\n",
      " 8: -9.7257e+06 -9.7323e+06  9e+03  1e-03  9e-17\n",
      " 9: -9.7285e+06 -9.7318e+06  4e+03  5e-04  9e-17\n",
      "10: -9.7260e+06 -9.7317e+06  6e+03  2e-04  7e-17\n",
      "11: -9.7294e+06 -9.7313e+06  2e+03  5e-05  4e-17\n",
      "12: -9.7270e+06 -9.7318e+06  5e+03  2e-05  4e-17\n",
      "13: -9.7290e+06 -9.7316e+06  3e+03  1e-05  1e-16\n",
      "14: -9.7268e+06 -9.7315e+06  5e+03  2e-06  7e-17\n",
      "15: -9.7295e+06 -9.7312e+06  2e+03  8e-07  8e-17\n",
      "16: -9.7273e+06 -9.7317e+06  4e+03  3e-07  4e-17\n",
      "17: -9.7290e+06 -9.7316e+06  3e+03  1e-07  2e-16\n",
      "18: -9.7270e+06 -9.7315e+06  4e+03  2e-08  1e-16\n",
      "19: -9.7295e+06 -9.7312e+06  2e+03  7e-09  7e-17\n",
      "20: -9.7273e+06 -9.7317e+06  4e+03  2e-09  5e-17\n",
      "21: -9.7290e+06 -9.7316e+06  3e+03  1e-09  2e-16\n",
      "22: -9.7271e+06 -9.7315e+06  4e+03  1e-10  1e-16\n",
      "23: -9.7295e+06 -9.7312e+06  2e+03  4e-11  6e-17\n",
      "24: -9.7273e+06 -9.7317e+06  4e+03  1e-11  2e-16\n",
      "25: -9.7290e+06 -9.7316e+06  3e+03  6e-12  5e-17\n",
      "26: -9.7271e+06 -9.7315e+06  4e+03  4e-13  8e-17\n",
      "27: -9.7295e+06 -9.7312e+06  2e+03  2e-13  6e-17\n",
      "28: -9.7274e+06 -9.7317e+06  4e+03  4e-14  1e-16\n",
      "29: -9.7290e+06 -9.7316e+06  3e+03  2e-14  1e-16\n",
      "30: -9.7272e+06 -9.7314e+06  4e+03  1e-15  3e-16\n",
      "31: -9.7295e+06 -9.7312e+06  2e+03  4e-16  1e-16\n",
      "32: -9.7274e+06 -9.7317e+06  4e+03  3e-16  1e-16\n",
      "33: -9.7290e+06 -9.7316e+06  3e+03  1e-16  1e-17\n",
      "34: -9.7272e+06 -9.7314e+06  4e+03  1e-16  1e-16\n",
      "35: -9.7295e+06 -9.7312e+06  2e+03  1e-16  2e-16\n",
      "36: -9.7274e+06 -9.7317e+06  4e+03  3e-16  2e-16\n",
      "37: -9.7290e+06 -9.7316e+06  3e+03  3e-16  1e-16\n",
      "38: -9.7273e+06 -9.7314e+06  4e+03  1e-16  1e-16\n",
      "39: -9.7295e+06 -9.7312e+06  2e+03  1e-16  1e-16\n",
      "40: -9.7275e+06 -9.7317e+06  4e+03  1e-16  4e-17\n",
      "41: -9.7290e+06 -9.7316e+06  3e+03  2e-16  1e-16\n",
      "42: -9.7278e+06 -9.7313e+06  4e+03  5e-16  1e-16\n",
      "43: -9.7301e+06 -9.7310e+06  1e+03  1e-16  2e-16\n",
      "44: -9.7307e+06 -9.7309e+06  2e+02  3e-16  2e-16\n",
      "45: -9.7309e+06 -9.7309e+06  2e+00  1e-16  2e-16\n",
      "Optimal solution found.\n"
     ]
    },
    {
     "data": {
      "text/plain": [
       "99.99977369045132"
      ]
     },
     "execution_count": 3,
     "metadata": {},
     "output_type": "execute_result"
    }
   ],
   "source": [
    "thresh = 100\n",
    "def solve_lasso(x,y,thresh):\n",
    "    n,r = x.shape\n",
    "    P = np.kron(np.array([[1,-1],[-1,1]]),x.T@x)\n",
    "    q = -np.kron(np.array([[1],[-1]]),x.T@y.reshape(-1,1))\n",
    "    G_1 = -np.eye(2*r)\n",
    "    h_1 = np.zeros((2*r,1))\n",
    "    G_2 = np.ones((1,2*r))\n",
    "    h_2 = np.array([[thresh]])\n",
    "    G = np.vstack((G_1,G_2))\n",
    "    h = np.vstack((h_1,h_2))\n",
    "    opt = solv.qp(cvx.matrix(P),cvx.matrix(q),cvx.matrix(G),cvx.matrix(h))\n",
    "    opt = np.array(opt['x'])\n",
    "    return opt[:r,0]-opt[r:,0]\n",
    "np.abs(solve_lasso(npx,npy,thresh)).sum()"
   ]
  },
  {
   "cell_type": "code",
   "execution_count": 4,
   "metadata": {
    "ExecuteTime": {
     "end_time": "2023-03-10T22:58:17.346571Z",
     "start_time": "2023-03-10T22:58:17.335528Z"
    }
   },
   "outputs": [
    {
     "data": {
      "text/plain": [
       "array([ 1.12065256e+02, -4.74159926e-01,  6.00548455e-02,  3.14523963e+00,\n",
       "        5.40726154e+00])"
      ]
     },
     "execution_count": 4,
     "metadata": {},
     "output_type": "execute_result"
    }
   ],
   "source": [
    "from cleands import *\n",
    "least_squares_regressor(npx,npy).params"
   ]
  },
  {
   "cell_type": "code",
   "execution_count": 5,
   "metadata": {
    "ExecuteTime": {
     "end_time": "2023-03-10T22:58:54.396388Z",
     "start_time": "2023-03-10T22:58:54.368929Z"
    }
   },
   "outputs": [
    {
     "name": "stdout",
     "output_type": "stream",
     "text": [
      "     pcost       dcost       gap    pres   dres\n",
      " 0: -9.7915e+06 -9.7909e+06  3e+04  2e+00  5e-16\n",
      " 1: -9.7915e+06 -9.7908e+06  2e+03  1e-01  1e-15\n",
      " 2: -9.7915e+06 -9.7891e+06  7e+02  7e-02  4e-16\n",
      " 3: -9.7841e+06 -9.7591e+06  7e+03  5e-02  5e-16\n",
      " 4: -9.7706e+06 -9.7445e+06  1e+04  3e-02  4e-16\n",
      " 5: -9.7305e+06 -9.7361e+06  3e+04  1e-02  3e-16\n",
      " 6: -9.7259e+06 -9.7349e+06  3e+04  9e-03  9e-17\n",
      " 7: -9.7289e+06 -9.7317e+06  7e+03  2e-03  1e-16\n",
      " 8: -9.7257e+06 -9.7323e+06  9e+03  1e-03  9e-17\n",
      " 9: -9.7285e+06 -9.7318e+06  4e+03  5e-04  9e-17\n",
      "10: -9.7260e+06 -9.7317e+06  6e+03  2e-04  7e-17\n",
      "11: -9.7294e+06 -9.7313e+06  2e+03  5e-05  4e-17\n",
      "12: -9.7270e+06 -9.7318e+06  5e+03  2e-05  4e-17\n",
      "13: -9.7290e+06 -9.7316e+06  3e+03  1e-05  1e-16\n",
      "14: -9.7268e+06 -9.7315e+06  5e+03  2e-06  7e-17\n",
      "15: -9.7295e+06 -9.7312e+06  2e+03  8e-07  8e-17\n",
      "16: -9.7273e+06 -9.7317e+06  4e+03  3e-07  4e-17\n",
      "17: -9.7290e+06 -9.7316e+06  3e+03  1e-07  2e-16\n",
      "18: -9.7270e+06 -9.7315e+06  4e+03  2e-08  1e-16\n",
      "19: -9.7295e+06 -9.7312e+06  2e+03  7e-09  7e-17\n",
      "20: -9.7273e+06 -9.7317e+06  4e+03  2e-09  5e-17\n",
      "21: -9.7290e+06 -9.7316e+06  3e+03  1e-09  2e-16\n",
      "22: -9.7271e+06 -9.7315e+06  4e+03  1e-10  1e-16\n",
      "23: -9.7295e+06 -9.7312e+06  2e+03  4e-11  6e-17\n",
      "24: -9.7273e+06 -9.7317e+06  4e+03  1e-11  2e-16\n",
      "25: -9.7290e+06 -9.7316e+06  3e+03  6e-12  5e-17\n",
      "26: -9.7271e+06 -9.7315e+06  4e+03  4e-13  8e-17\n",
      "27: -9.7295e+06 -9.7312e+06  2e+03  2e-13  6e-17\n",
      "28: -9.7274e+06 -9.7317e+06  4e+03  4e-14  1e-16\n",
      "29: -9.7290e+06 -9.7316e+06  3e+03  2e-14  1e-16\n",
      "30: -9.7272e+06 -9.7314e+06  4e+03  1e-15  3e-16\n",
      "31: -9.7295e+06 -9.7312e+06  2e+03  4e-16  1e-16\n",
      "32: -9.7274e+06 -9.7317e+06  4e+03  3e-16  1e-16\n",
      "33: -9.7290e+06 -9.7316e+06  3e+03  1e-16  1e-17\n",
      "34: -9.7272e+06 -9.7314e+06  4e+03  1e-16  1e-16\n",
      "35: -9.7295e+06 -9.7312e+06  2e+03  1e-16  2e-16\n",
      "36: -9.7274e+06 -9.7317e+06  4e+03  3e-16  2e-16\n",
      "37: -9.7290e+06 -9.7316e+06  3e+03  3e-16  1e-16\n",
      "38: -9.7273e+06 -9.7314e+06  4e+03  1e-16  1e-16\n",
      "39: -9.7295e+06 -9.7312e+06  2e+03  1e-16  1e-16\n",
      "40: -9.7275e+06 -9.7317e+06  4e+03  1e-16  4e-17\n",
      "41: -9.7290e+06 -9.7316e+06  3e+03  2e-16  1e-16\n",
      "42: -9.7278e+06 -9.7313e+06  4e+03  5e-16  1e-16\n",
      "43: -9.7301e+06 -9.7310e+06  1e+03  1e-16  2e-16\n",
      "44: -9.7307e+06 -9.7309e+06  2e+02  3e-16  2e-16\n",
      "45: -9.7309e+06 -9.7309e+06  2e+00  1e-16  2e-16\n",
      "Optimal solution found.\n"
     ]
    },
    {
     "data": {
      "text/plain": [
       "array([ 9.95019244e+01, -9.20345888e-07,  4.97724354e-01,  5.62908348e-05,\n",
       "        6.77729885e-05])"
      ]
     },
     "execution_count": 5,
     "metadata": {},
     "output_type": "execute_result"
    }
   ],
   "source": [
    "solve_lasso(npx,npy,thresh)"
   ]
  },
  {
   "cell_type": "code",
   "execution_count": 6,
   "metadata": {
    "ExecuteTime": {
     "end_time": "2023-03-10T22:59:46.741678Z",
     "start_time": "2023-03-10T22:59:46.726537Z"
    }
   },
   "outputs": [
    {
     "data": {
      "text/plain": [
       "121.15197211648324"
      ]
     },
     "execution_count": 6,
     "metadata": {},
     "output_type": "execute_result"
    }
   ],
   "source": [
    "np.abs(least_squares_regressor(npx,npy).params).sum()"
   ]
  },
  {
   "cell_type": "code",
   "execution_count": 7,
   "metadata": {
    "ExecuteTime": {
     "end_time": "2023-03-10T23:00:06.928091Z",
     "start_time": "2023-03-10T23:00:06.913976Z"
    }
   },
   "outputs": [
    {
     "name": "stdout",
     "output_type": "stream",
     "text": [
      "     pcost       dcost       gap    pres   dres\n",
      " 0: -9.7915e+06 -9.7926e+06  3e+04  1e+00  4e-16\n",
      " 1: -9.7915e+06 -9.7924e+06  1e+03  2e-02  5e-16\n",
      " 2: -9.7915e+06 -9.7916e+06  1e+02  3e-04  2e-16\n",
      " 3: -9.7915e+06 -9.7915e+06  1e+00  3e-06  2e-16\n",
      " 4: -9.7915e+06 -9.7915e+06  1e-02  3e-08  2e-17\n",
      "Optimal solution found.\n"
     ]
    },
    {
     "data": {
      "text/plain": [
       "121.15196701975871"
      ]
     },
     "execution_count": 7,
     "metadata": {},
     "output_type": "execute_result"
    }
   ],
   "source": [
    "thresh = 130\n",
    "np.abs(solve_lasso(npx,npy,thresh)).sum()"
   ]
  },
  {
   "cell_type": "code",
   "execution_count": 8,
   "metadata": {
    "ExecuteTime": {
     "end_time": "2023-03-10T23:03:48.143637Z",
     "start_time": "2023-03-10T23:03:48.127786Z"
    },
    "code_folding": []
   },
   "outputs": [
    {
     "name": "stdout",
     "output_type": "stream",
     "text": [
      "     pcost       dcost       gap    pres   dres\n",
      " 0: -1.3346e+04 -1.3345e+04  1e+02  2e+00  6e-16\n",
      " 1: -1.3346e+04 -1.3333e+04  1e+01  3e-01  6e-16\n",
      " 2: -1.3345e+04 -1.3282e+04  1e+01  3e-01  7e-16\n",
      " 3: -1.3150e+04 -1.2618e+04  3e+02  2e-01  1e-15\n",
      " 4: -1.2211e+04 -1.2253e+04  4e+01  2e-16  4e-16\n",
      " 5: -1.2252e+04 -1.2252e+04  4e-01  4e-16  2e-16\n",
      " 6: -1.2252e+04 -1.2252e+04  4e-03  4e-16  2e-16\n",
      "Optimal solution found.\n",
      "[ 1.14402171e+02 -4.58683832e-01  7.46625357e-02  1.58104713e+00\n",
      "  2.88559886e+00]\n",
      "4.999992358655065\n"
     ]
    }
   ],
   "source": [
    "from cleands import *\n",
    "\n",
    "class l1_regularization_regressor(least_squares_regressor):\n",
    "    def __init__(self,x,y,thresh:float,*args,**kwargs):\n",
    "        super(l1_regularization_regressor,self).__init__(x,y,thresh=thresh,*args,**kwargs)\n",
    "        self.threshold=thresh\n",
    "    def __fit__(self,x,y,thresh:float,*args,**kwargs):\n",
    "        if x[:,0].var()==0:\n",
    "            dx = x[:,1:]-x[:,1:].mean(0)\n",
    "            dy = y-y.mean(0)\n",
    "            outp = solve_lasso(dx,dy,thresh)\n",
    "            intc = y.mean(0)-x[:,1:].mean(0)@outp.reshape(-1,1)\n",
    "            return np.concatenate([intc,outp])\n",
    "        else:\n",
    "            return solve_lasso(x,y,thresh)\n",
    "        \n",
    "params = l1_regularization_regressor(npx,npy,thresh=5).params\n",
    "print(params)\n",
    "print(np.abs(params[1:]).sum())"
   ]
  },
  {
   "cell_type": "code",
   "execution_count": 9,
   "metadata": {
    "ExecuteTime": {
     "end_time": "2023-03-10T23:03:52.706506Z",
     "start_time": "2023-03-10T23:03:52.688647Z"
    }
   },
   "outputs": [
    {
     "data": {
      "text/plain": [
       "array([ 1.12065256e+02, -4.74159926e-01,  6.00548455e-02,  3.14523963e+00,\n",
       "        5.40726154e+00])"
      ]
     },
     "execution_count": 9,
     "metadata": {},
     "output_type": "execute_result"
    }
   ],
   "source": [
    "least_squares_regressor(npx,npy).params"
   ]
  },
  {
   "cell_type": "code",
   "execution_count": 10,
   "metadata": {
    "ExecuteTime": {
     "end_time": "2023-03-10T23:04:06.026217Z",
     "start_time": "2023-03-10T23:04:06.011194Z"
    }
   },
   "outputs": [
    {
     "data": {
      "text/plain": [
       "8.138396096447336"
      ]
     },
     "execution_count": 10,
     "metadata": {},
     "output_type": "execute_result"
    }
   ],
   "source": [
    "least_squares_regressor(npx,npy).params[1:].sum()"
   ]
  },
  {
   "cell_type": "markdown",
   "metadata": {},
   "source": [
    "## Cross-validation"
   ]
  },
  {
   "cell_type": "code",
   "execution_count": 16,
   "metadata": {
    "ExecuteTime": {
     "end_time": "2023-03-10T23:14:41.477715Z",
     "start_time": "2023-03-10T23:14:41.463235Z"
    },
    "code_folding": []
   },
   "outputs": [
    {
     "data": {
      "text/plain": [
       "398.62277614025425"
      ]
     },
     "execution_count": 16,
     "metadata": {},
     "output_type": "execute_result"
    }
   ],
   "source": [
    "def mean_squared_error(model,x,y):\n",
    "    return ((y-model.predict(x))**2).mean()\n",
    "def k_fold_cross_validation(model,x,y,\n",
    "                            folds:int=5,\n",
    "                            seed=None,\n",
    "                            statistic=mean_squared_error):\n",
    "    n,r = x.shape\n",
    "    deck = np.arange(n)\n",
    "    outp = []\n",
    "    if seed is not None: np.random.seed(seed)\n",
    "    np.random.shuffle(deck)\n",
    "    for i in range(folds):\n",
    "        test = deck[int(i*n/folds):int((i+1)*n/folds)]\n",
    "        train_lower = deck[:int(i*n/folds)]\n",
    "        train_upper = deck[int((i+1)*n/folds):]\n",
    "        train = np.concatenate((train_lower,train_upper))\n",
    "        modl = model(x[train],y[train])\n",
    "        mspe = statistic(modl,x[test],y[test])\n",
    "        outp += [mspe]\n",
    "    return np.array(outp)\n",
    "k_fold_cross_validation(least_squares_regressor,npx,npy,folds=5,seed=90210).mean()"
   ]
  },
  {
   "cell_type": "code",
   "execution_count": 17,
   "metadata": {
    "ExecuteTime": {
     "end_time": "2023-03-10T23:15:03.160097Z",
     "start_time": "2023-03-10T23:15:03.154032Z"
    }
   },
   "outputs": [
    {
     "data": {
      "text/plain": [
       "413.98538886212833"
      ]
     },
     "execution_count": 17,
     "metadata": {},
     "output_type": "execute_result"
    }
   ],
   "source": [
    "npy.var()"
   ]
  },
  {
   "cell_type": "code",
   "execution_count": 18,
   "metadata": {
    "ExecuteTime": {
     "end_time": "2023-03-10T23:15:43.855820Z",
     "start_time": "2023-03-10T23:15:43.846286Z"
    }
   },
   "outputs": [
    {
     "data": {
      "text/plain": [
       "0.037109069873454824"
      ]
     },
     "execution_count": 18,
     "metadata": {},
     "output_type": "execute_result"
    }
   ],
   "source": [
    "(413.98538886212833-398.62277614025425)/413.98538886212833"
   ]
  },
  {
   "cell_type": "code",
   "execution_count": 19,
   "metadata": {
    "ExecuteTime": {
     "end_time": "2023-03-10T23:17:25.208795Z",
     "start_time": "2023-03-10T23:17:25.179898Z"
    }
   },
   "outputs": [
    {
     "name": "stdout",
     "output_type": "stream",
     "text": [
      "     pcost       dcost       gap    pres   dres\n",
      " 0: -1.1663e+04 -1.1674e+04  1e+02  1e+00  1e-15\n",
      " 1: -1.1663e+04 -1.1663e+04  1e+01  1e-01  1e-15\n",
      " 2: -1.1663e+04 -1.1656e+04  4e+00  5e-02  1e-15\n",
      " 3: -1.1636e+04 -1.1595e+04  3e+01  4e-02  8e-16\n",
      " 4: -1.1579e+04 -1.1577e+04  7e-01  9e-04  1e-16\n",
      " 5: -1.1576e+04 -1.1576e+04  8e-03  9e-06  2e-16\n",
      " 6: -1.1576e+04 -1.1576e+04  8e-05  9e-08  2e-16\n",
      "Optimal solution found.\n",
      "     pcost       dcost       gap    pres   dres\n",
      " 0: -1.0225e+04 -1.0241e+04  9e+01  8e-01  7e-16\n",
      " 1: -1.0225e+04 -1.0231e+04  7e+00  1e-02  2e-15\n",
      " 2: -1.0225e+04 -1.0225e+04  2e-01  1e-04  2e-17\n",
      " 3: -1.0225e+04 -1.0225e+04  2e-03  1e-06  2e-16\n",
      " 4: -1.0225e+04 -1.0225e+04  2e-05  1e-08  1e-16\n",
      "Optimal solution found.\n",
      "     pcost       dcost       gap    pres   dres\n",
      " 0: -9.9615e+03 -9.9740e+03  9e+01  8e-01  4e-15\n",
      " 1: -9.9615e+03 -9.9641e+03  5e+00  3e-02  5e-15\n",
      " 2: -9.9615e+03 -9.9619e+03  4e-01  8e-04  4e-16\n",
      " 3: -9.9616e+03 -9.9616e+03  3e-02  5e-06  1e-16\n",
      " 4: -9.9616e+03 -9.9616e+03  4e-04  4e-08  9e-17\n",
      "Optimal solution found.\n",
      "     pcost       dcost       gap    pres   dres\n",
      " 0: -9.8562e+03 -9.8693e+03  1e+02  1e+00  2e-15\n",
      " 1: -9.8561e+03 -9.8585e+03  1e+01  9e-02  3e-15\n",
      " 2: -9.8561e+03 -9.8551e+03  2e+00  2e-02  5e-16\n",
      " 3: -9.8501e+03 -9.8426e+03  6e+00  1e-02  3e-16\n",
      " 4: -9.8385e+03 -9.8386e+03  5e-01  3e-04  2e-16\n",
      " 5: -9.8386e+03 -9.8386e+03  5e-03  3e-06  1e-16\n",
      " 6: -9.8386e+03 -9.8386e+03  5e-05  3e-08  9e-17\n",
      "Optimal solution found.\n",
      "     pcost       dcost       gap    pres   dres\n",
      " 0: -1.2551e+04 -1.2566e+04  1e+02  9e-01  2e-15\n",
      " 1: -1.2551e+04 -1.2556e+04  8e+00  4e-02  4e-16\n",
      " 2: -1.2551e+04 -1.2552e+04  7e-01  4e-04  2e-16\n",
      " 3: -1.2551e+04 -1.2551e+04  1e-02  4e-06  1e-16\n",
      " 4: -1.2551e+04 -1.2551e+04  1e-04  4e-08  2e-16\n",
      "Optimal solution found.\n"
     ]
    },
    {
     "data": {
      "text/plain": [
       "398.3159403129158"
      ]
     },
     "execution_count": 19,
     "metadata": {},
     "output_type": "execute_result"
    }
   ],
   "source": [
    "model = lambda x,y: l1_regularization_regressor(x,y,thresh=9)\n",
    "k_fold_cross_validation(model,npx,npy,seed=90210).mean()"
   ]
  },
  {
   "cell_type": "code",
   "execution_count": 8,
   "metadata": {
    "ExecuteTime": {
     "end_time": "2021-03-09T19:27:40.315471Z",
     "start_time": "2021-03-09T19:27:40.310472Z"
    }
   },
   "outputs": [
    {
     "name": "stdout",
     "output_type": "stream",
     "text": [
      "19.97394521150864\n",
      "20.346630897082896\n"
     ]
    }
   ],
   "source": [
    "print(np.sqrt(398.95848731234884))\n",
    "print(np.sqrt(npy.var()))"
   ]
  },
  {
   "cell_type": "code",
   "execution_count": 20,
   "metadata": {
    "ExecuteTime": {
     "end_time": "2023-03-10T23:20:56.132695Z",
     "start_time": "2023-03-10T23:20:55.071146Z"
    },
    "code_folding": []
   },
   "outputs": [
    {
     "name": "stdout",
     "output_type": "stream",
     "text": [
      "     pcost       dcost       gap    pres   dres\n",
      " 0: -1.3346e+04 -1.3355e+04  1e+02  1e+00  4e-16\n",
      " 1: -1.3346e+04 -1.3345e+04  9e+00  1e-01  2e-15\n",
      " 2: -1.3345e+04 -1.3340e+04  4e+00  5e-02  6e-16\n",
      " 3: -1.3316e+04 -1.3272e+04  3e+01  4e-02  6e-16\n",
      " 4: -1.3255e+04 -1.3253e+04  3e+00  1e-03  2e-16\n",
      " 5: -1.3252e+04 -1.3252e+04  3e-02  1e-05  1e-16\n",
      " 6: -1.3252e+04 -1.3252e+04  3e-04  1e-07  2e-16\n",
      " 7: -1.3252e+04 -1.3252e+04  3e-06  1e-09  1e-16\n",
      "Optimal solution found.\n",
      "[ 1.12747568e+02 -4.69641354e-01  6.43198686e-02  2.68854065e+00\n",
      "  4.67100896e+00]\n",
      "7.893510824141454 0.8686868686868687 398.1962698819594\n"
     ]
    }
   ],
   "source": [
    "class l1_cross_validation_regressor(l1_regularization_regressor):\n",
    "    def __init__(self,x,y,max_thresh=None,folds:int=5,statistic=mean_squared_error,seed=None,*args,**kwargs):\n",
    "        default_state = solv.options.get('show_progress',True)\n",
    "        solv.options['show_progress'] = False\n",
    "        if max_thresh==None: max_thresh = np.abs(least_squares_regressor(x,y).params[1:]).sum()\n",
    "        outp = []\n",
    "        for lam in np.linspace(0,1,100):\n",
    "            model = lambda x,y: l1_regularization_regressor(x,y,thresh=lam*max_thresh)\n",
    "            mse = k_fold_cross_validation(model,x,y,folds=folds,statistic=statistic,seed=seed).mean()\n",
    "            outp += [(mse,lam)]\n",
    "        outp = np.array(outp)\n",
    "        lam = outp[outp[:,0].argmin(),1]\n",
    "        thresh = lam*max_thresh\n",
    "        solv.options['show_progress'] = default_state\n",
    "        super(l1_cross_validation_regressor,self).__init__(x,y,thresh=thresh,*args,**kwargs)\n",
    "        self.statistic = outp[outp[:,0].argmin(),0]\n",
    "        self.max_threshold = max_thresh\n",
    "        self.lambda_value = lam\n",
    "model = l1_cross_validation_regressor(npx,npy,seed=90210)\n",
    "print(model.params)\n",
    "print(model.threshold,model.lambda_value,model.statistic)"
   ]
  },
  {
   "cell_type": "code",
   "execution_count": 21,
   "metadata": {
    "ExecuteTime": {
     "end_time": "2023-03-10T23:21:48.850795Z",
     "start_time": "2023-03-10T23:21:48.845964Z"
    }
   },
   "outputs": [
    {
     "data": {
      "text/plain": [
       "0.0010699495458453168"
      ]
     },
     "execution_count": 21,
     "metadata": {},
     "output_type": "execute_result"
    }
   ],
   "source": [
    "(398.62277614025425-398.1962698819594)/398.62277614025425"
   ]
  },
  {
   "cell_type": "code",
   "execution_count": 14,
   "metadata": {
    "ExecuteTime": {
     "end_time": "2023-03-09T23:12:24.514403Z",
     "start_time": "2023-03-09T23:12:24.501750Z"
    }
   },
   "outputs": [
    {
     "data": {
      "text/plain": [
       "array([ 1.12065256e+02, -4.74159926e-01,  6.00548455e-02,  3.14523963e+00,\n",
       "        5.40726154e+00])"
      ]
     },
     "execution_count": 14,
     "metadata": {},
     "output_type": "execute_result"
    }
   ],
   "source": [
    "least_squares_regressor(npx,npy).params"
   ]
  },
  {
   "cell_type": "markdown",
   "metadata": {},
   "source": [
    "# Programming challenges"
   ]
  },
  {
   "cell_type": "markdown",
   "metadata": {},
   "source": [
    "##  Tree Simulation\n",
    "\n",
    "Write a monte carlo simulation comparing the accuracy of tree based models to that of regression for categorical data."
   ]
  },
  {
   "cell_type": "markdown",
   "metadata": {},
   "source": [
    "## Recursive partitioning until non-rejection\n",
    "\n",
    "Modify our recursive partitioning code to test the null that the two groups are equal and stop splitting when the null cannot be rejected. Bonus points if you use the Bonferonni correction when making the decision to split."
   ]
  },
  {
   "cell_type": "code",
   "execution_count": null,
   "metadata": {},
   "outputs": [],
   "source": [
    "import numpy as np\n",
    "import pandas as pd\n",
    "import scipy.stats as sps\n",
    "\n",
    "from cleands import *"
   ]
  },
  {
   "cell_type": "code",
   "execution_count": null,
   "metadata": {},
   "outputs": [],
   "source": [
    "class rpart(prediction_model):\n",
    "    def __init__(self,x,y,sign_level=0.95,max_level=None,level=''):\n",
    "        super(rpart,self).__init__(x,y)\n",
    "        self.max_level = max_level\n",
    "        self.level = level\n",
    "        if max_level!=None and len(level)+1==max_level:\n",
    "            self.RSS = np.sum((y-y.mean())**2)\n",
    "            self.split_var = None\n",
    "            self.split_value = None\n",
    "            self.left = None\n",
    "            self.right = None\n",
    "            return\n",
    "        xvars = np.arange(self.n_feat)\n",
    "        outp = []\n",
    "        for i in xvars:\n",
    "            outp += [self.__calc_RSS_and_split__(x[:,i])]\n",
    "        outp = np.array(outp)\n",
    "        var = outp[:,0].argmin()\n",
    "        self.RSS = outp[var,0]\n",
    "        self.split_var = var\n",
    "        self.split_value = outp[var,1]\n",
    "        if max_level==None:\n",
    "            xvar = (x[:,var]>self.split_value).astype(int)\n",
    "            xvar = np.hstack((np.ones((self.n_obs,1)),xvar.reshape(-1,1)))\n",
    "            try:\n",
    "                model = least_squares_regressor(xvar,y)\n",
    "            except:\n",
    "                self.RSS = np.sum((y-y.mean())**2)\n",
    "                self.split_var = None\n",
    "                self.split_value = None\n",
    "                self.left = None\n",
    "                self.right = None\n",
    "                return\n",
    "            tstat = model.params/np.sqrt(np.diag(model.vcov_params))\n",
    "            tstat = -np.abs(tstat[1])\n",
    "            critv = sps.t.ppf((1-sign_level)/2/2**(len(level)+1),df=self.n_obs-2)\n",
    "            if tstat>=critv:\n",
    "                self.RSS = np.sum((y-y.mean())**2)\n",
    "                self.split_var = None\n",
    "                self.split_value = None\n",
    "                self.left = None\n",
    "                self.right = None\n",
    "                return\n",
    "        self.left = rpart(x[x[:,var]<=self.split_value,:],y[x[:,var]<=self.split_value],max_level=max_level,level=level+'L')\n",
    "        self.right = rpart(x[x[:,var]>self.split_value,:],y[x[:,var]>self.split_value],max_level=max_level,level=level+'R')\n",
    "    def __calc_RSS_and_split__(self,var):\n",
    "        vmin = var.min()\n",
    "        vmax = var.max()\n",
    "        width = (vmax-vmin)/50\n",
    "        outp = []\n",
    "        for split in np.linspace(vmin+width,vmax-width,48):\n",
    "            left = self.y[var<=split]\n",
    "            right = self.y[var>split]\n",
    "            rssleft = ((left-left.mean())**2).sum() if left.shape[0]>0 else 0\n",
    "            rssright = ((right-right.mean())**2).sum() if right.shape[0]>0 else 0\n",
    "            outp += [(rssleft+rssright,split)]\n",
    "        outp = np.array(outp)\n",
    "        return outp[outp[:,0].argmin(),:]\n",
    "    def __str__(self):\n",
    "        if self.left==None and self.right==None:\n",
    "            outp = '{0} RSS: {1}; Prediction: {2}\\n'.format(self.level,self.RSS,self.y.mean())\n",
    "        else:\n",
    "            outp = '{0} Variable: {1}; Split: {2}; RSS: {3}\\n'.format(self.level,self.split_var,self.split_value,self.RSS)\n",
    "            outp += str(self.left)\n",
    "            outp += str(self.right)\n",
    "        return outp\n",
    "    def predict(self,newx):\n",
    "        n = newx.shape[0]\n",
    "        if self.left==None and self.right==None:\n",
    "            return np.full(shape=(n,),fill_value=self.y.mean())\n",
    "        outp = np.zeros((n,))\n",
    "        outp[newx[:,self.split_var]<=self.split_value] = self.left.predict(newx[newx[:,self.split_var]<=self.split_value,:])\n",
    "        outp[newx[:,self.split_var]>self.split_value] = self.right.predict(newx[newx[:,self.split_var]>self.split_value,:])\n",
    "        return outp"
   ]
  },
  {
   "cell_type": "code",
   "execution_count": null,
   "metadata": {},
   "outputs": [],
   "source": [
    "n = 1000\n",
    "x = np.random.normal(size=(n,3))\n",
    "y = np.random.normal(size=(n,))\n",
    "y += x@np.random.uniform(size=(3,))"
   ]
  },
  {
   "cell_type": "code",
   "execution_count": null,
   "metadata": {},
   "outputs": [],
   "source": [
    "model = rpart(x,y)\n",
    "print(model)"
   ]
  }
 ],
 "metadata": {
  "kernelspec": {
   "display_name": "Python 3 (ipykernel)",
   "language": "python",
   "name": "python3"
  },
  "language_info": {
   "codemirror_mode": {
    "name": "ipython",
    "version": 3
   },
   "file_extension": ".py",
   "mimetype": "text/x-python",
   "name": "python",
   "nbconvert_exporter": "python",
   "pygments_lexer": "ipython3",
   "version": "3.9.12"
  },
  "toc": {
   "base_numbering": 1,
   "nav_menu": {},
   "number_sections": true,
   "sideBar": true,
   "skip_h1_title": false,
   "title_cell": "Table of Contents",
   "title_sidebar": "Contents",
   "toc_cell": false,
   "toc_position": {},
   "toc_section_display": true,
   "toc_window_display": false
  },
  "varInspector": {
   "cols": {
    "lenName": 16,
    "lenType": 16,
    "lenVar": 40
   },
   "kernels_config": {
    "python": {
     "delete_cmd_postfix": "",
     "delete_cmd_prefix": "del ",
     "library": "var_list.py",
     "varRefreshCmd": "print(var_dic_list())"
    },
    "r": {
     "delete_cmd_postfix": ") ",
     "delete_cmd_prefix": "rm(",
     "library": "var_list.r",
     "varRefreshCmd": "cat(var_dic_list()) "
    }
   },
   "types_to_exclude": [
    "module",
    "function",
    "builtin_function_or_method",
    "instance",
    "_Feature"
   ],
   "window_display": false
  }
 },
 "nbformat": 4,
 "nbformat_minor": 2
}
