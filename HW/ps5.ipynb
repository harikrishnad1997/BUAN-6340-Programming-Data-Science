{
 "cells": [
  {
   "cell_type": "code",
   "execution_count": 39,
   "metadata": {},
   "outputs": [],
   "source": [
    "import numpy as np\n",
    "import matplotlib.pyplot as plt\n",
    "from itertools import product\n",
    "%matplotlib inline"
   ]
  },
  {
   "cell_type": "code",
   "execution_count": 40,
   "metadata": {},
   "outputs": [
    {
     "name": "stdout",
     "output_type": "stream",
     "text": [
      "[[0.02861526 0.52714882]\n",
      " [0.60719753 0.13084666]\n",
      " [0.07484784 0.39086966]\n",
      " [0.77180826 0.75651132]\n",
      " [0.39609829 0.198495  ]\n",
      " [0.3773891  0.85728436]\n",
      " [0.91174292 0.30133656]\n",
      " [0.84832625 0.3267953 ]]\n"
     ]
    }
   ],
   "source": [
    "np.random.seed(986951)\n",
    "X = np.random.rand(8,2)\n",
    "print(X)"
   ]
  },
  {
   "cell_type": "code",
   "execution_count": 41,
   "metadata": {},
   "outputs": [],
   "source": [
    "def euclidean_distance(x, y):\n",
    "    return np.sqrt(np.sum((x - y) ** 2))"
   ]
  },
  {
   "cell_type": "code",
   "execution_count": 42,
   "metadata": {},
   "outputs": [],
   "source": [
    "def hierarchical_clustering(data, k):\n",
    "    n = len(data)\n",
    "    distances = np.zeros((n, n))\n",
    "    for i in range(n):\n",
    "        for j in range(i, n):\n",
    "            distances[i,j] = euclidean_distance(data[i], data[j])\n",
    "            distances[j,i] = distances[i,j]\n",
    "\n",
    "    clusters = [{i} for i in range(n)]\n",
    "    cluster_distances = distances.copy()\n",
    "\n",
    "    while len(clusters) > k:\n",
    "        min_distance = np.inf\n",
    "        for i in range(len(clusters)):\n",
    "            for j in range(i+1, len(clusters)):\n",
    "                distance = np.max([cluster_distances[x,y] for x in clusters[i] for y in clusters[j]])\n",
    "                if distance < min_distance:\n",
    "                    min_distance = distance\n",
    "                    merge_i, merge_j = i, j\n",
    "\n",
    "        clusters[merge_i] = clusters[merge_i].union(clusters[merge_j])\n",
    "        del clusters[merge_j]\n",
    "\n",
    "        for i in range(len(clusters)):\n",
    "            if i != merge_i:\n",
    "                distance = np.max([distances[x,y] for x in clusters[i] for y in clusters[merge_i]])\n",
    "                cluster_distances[i, merge_i] = distance\n",
    "                cluster_distances[merge_i, i] = distance\n",
    "\n",
    "    return clusters"
   ]
  },
  {
   "cell_type": "code",
   "execution_count": 45,
   "metadata": {},
   "outputs": [
    {
     "name": "stdout",
     "output_type": "stream",
     "text": [
      "[{0, 2}, {1, 3, 4, 5, 6, 7}]\n"
     ]
    }
   ],
   "source": [
    "clusters = hierarchical_clustering(X, 2)\n",
    "print(clusters)"
   ]
  },
  {
   "cell_type": "code",
   "execution_count": 47,
   "metadata": {},
   "outputs": [
    {
     "data": {
      "image/png": "[encoded data removed]",
      "text/plain": [
       "<Figure size 640x480 with 1 Axes>"
      ]
     },
     "metadata": {},
     "output_type": "display_data"
    }
   ],
   "source": [
    "from scipy.cluster.hierarchy import dendrogram, linkage\n",
    "from matplotlib import pyplot as plt\n",
    "l = linkage(X, 'complete')\n",
    "fig = plt.figure()\n",
    "dn = dendrogram(l)"
   ]
  }
 ],
 "metadata": {
  "kernelspec": {
   "display_name": "Python 3",
   "language": "python",
   "name": "python3"
  },
  "language_info": {
   "codemirror_mode": {
    "name": "ipython",
    "version": 3
   },
   "file_extension": ".py",
   "mimetype": "text/x-python",
   "name": "python",
   "nbconvert_exporter": "python",
   "pygments_lexer": "ipython3",
   "version": "3.8.16"
  },
  "orig_nbformat": 4
 },
 "nbformat": 4,
 "nbformat_minor": 2
}
